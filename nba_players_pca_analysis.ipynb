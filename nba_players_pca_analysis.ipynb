{
  "nbformat": 4,
  "nbformat_minor": 0,
  "metadata": {
    "colab": {
      "name": "nba_players_pca_analysis.ipynb",
      "provenance": [],
      "collapsed_sections": [],
      "authorship_tag": "ABX9TyN1ZJ5IqdvsuU3fu/PZPo3l",
      "include_colab_link": true
    },
    "kernelspec": {
      "name": "python3",
      "display_name": "Python 3"
    }
  },
  "cells": [
    {
      "cell_type": "markdown",
      "metadata": {
        "id": "view-in-github",
        "colab_type": "text"
      },
      "source": [
        "<a href=\"https://colab.research.google.com/github/jordanchenml/nbaStat/blob/master/nba_players_pca_analysis.ipynb\" target=\"_parent\"><img src=\"https://colab.research.google.com/assets/colab-badge.svg\" alt=\"Open In Colab\"/></a>"
      ]
    },
    {
      "cell_type": "code",
      "metadata": {
        "id": "R1euaxvmNGDb",
        "colab_type": "code",
        "outputId": "8c25634c-be30-4199-de4b-198d0b4040a4",
        "colab": {
          "base_uri": "https://localhost:8080/",
          "height": 121
        }
      },
      "source": [
        "!pip install nba_api\n",
        "# !pip install chart_studio\n",
        "# !pip install plotly --upgrade"
      ],
      "execution_count": 0,
      "outputs": [
        {
          "output_type": "stream",
          "text": [
            "Requirement already satisfied: nba_api in /usr/local/lib/python3.6/dist-packages (1.1.8)\n",
            "Requirement already satisfied: requests in /usr/local/lib/python3.6/dist-packages (from nba_api) (2.21.0)\n",
            "Requirement already satisfied: urllib3<1.25,>=1.21.1 in /usr/local/lib/python3.6/dist-packages (from requests->nba_api) (1.24.3)\n",
            "Requirement already satisfied: idna<2.9,>=2.5 in /usr/local/lib/python3.6/dist-packages (from requests->nba_api) (2.8)\n",
            "Requirement already satisfied: chardet<3.1.0,>=3.0.2 in /usr/local/lib/python3.6/dist-packages (from requests->nba_api) (3.0.4)\n",
            "Requirement already satisfied: certifi>=2017.4.17 in /usr/local/lib/python3.6/dist-packages (from requests->nba_api) (2019.11.28)\n"
          ],
          "name": "stdout"
        }
      ]
    },
    {
      "cell_type": "code",
      "metadata": {
        "id": "DbFmqLA9O4YQ",
        "colab_type": "code",
        "outputId": "5c22cd3c-a6cf-48f5-9b28-0ab374060e05",
        "colab": {
          "base_uri": "https://localhost:8080/",
          "height": 86
        }
      },
      "source": [
        "from nba_api.stats.endpoints import commonallplayers\n",
        "import pandas as pd\n",
        "import numpy as np\n",
        "from IPython.display import display\n",
        "from numpy.testing import assert_almost_equal\n",
        "\n",
        "\n",
        "# 將事先預處理過的英雄數據讀取為 pandas 的 DataFrame\n",
        "# 你可以從同樣的 url 獲得本文 demo 的數據\n",
        "df_all_player = pd.read_csv(\"https://bit.ly/2Or4vnl\", \n",
        "                            sep=\"\\t\")\n",
        "df_active_player = pd.read_csv(\"https://bit.ly/3b5itoN\", \n",
        "                               sep=\"\\t\")\n",
        "df_retire_player = pd.read_csv(\"https://bit.ly/3b5ZxpH\", \n",
        "                               sep=\"\\t\", \n",
        "                               index_col=\"PLAYER_ID\")\n",
        "df_playerID_name_pairs = pd.read_csv(\"https://bit.ly/2RW7iXI\", \n",
        "                                     sep=\"\\t\", \n",
        "                                     index_col=\"PLAYER_ID\")\n",
        "\n",
        "\n",
        "print(\"df_all_player.shape:\", df_all_player.shape)\n",
        "print(\"df_active_player.shape:\", df_active_player.shape)\n",
        "print(\"df_retire_player.shape:\", df_retire_player.shape)\n",
        "print(\"df_playerID_name_pairs.shape:\", df_playerID_name_pairs.shape)"
      ],
      "execution_count": 0,
      "outputs": [
        {
          "output_type": "stream",
          "text": [
            "df_all_player.shape: (4478, 23)\n",
            "df_active_player.shape: (492, 23)\n",
            "df_retire_player.shape: (3986, 22)\n",
            "df_playerID_name_pairs.shape: (4503, 1)\n"
          ],
          "name": "stdout"
        }
      ]
    },
    {
      "cell_type": "code",
      "metadata": {
        "id": "QNexyqbAEuqL",
        "colab_type": "code",
        "colab": {}
      },
      "source": [
        "df_active_player = df_active_player.append(df_all_player[df_all_player['PLAYER_ID'] == 977], ignore_index=True)\n",
        "# df_active_player = df_active_player.append(df_all_player[df_all_player['PLAYER_ID'] == 893], ignore_index=True)"
      ],
      "execution_count": 0,
      "outputs": []
    },
    {
      "cell_type": "code",
      "metadata": {
        "id": "yBQaOMroQkLy",
        "colab_type": "code",
        "outputId": "c8166389-4861-493a-e725-e8866c161c65",
        "colab": {
          "base_uri": "https://localhost:8080/",
          "height": 496
        }
      },
      "source": [
        "display(df_active_player)"
      ],
      "execution_count": 0,
      "outputs": [
        {
          "output_type": "display_data",
          "data": {
            "text/html": [
              "<div>\n",
              "<style scoped>\n",
              "    .dataframe tbody tr th:only-of-type {\n",
              "        vertical-align: middle;\n",
              "    }\n",
              "\n",
              "    .dataframe tbody tr th {\n",
              "        vertical-align: top;\n",
              "    }\n",
              "\n",
              "    .dataframe thead th {\n",
              "        text-align: right;\n",
              "    }\n",
              "</style>\n",
              "<table border=\"1\" class=\"dataframe\">\n",
              "  <thead>\n",
              "    <tr style=\"text-align: right;\">\n",
              "      <th></th>\n",
              "      <th>PLAYER_ID</th>\n",
              "      <th>POSITION</th>\n",
              "      <th>GP</th>\n",
              "      <th>GS</th>\n",
              "      <th>MIN</th>\n",
              "      <th>FGM</th>\n",
              "      <th>FGA</th>\n",
              "      <th>FG_PCT</th>\n",
              "      <th>FG3M</th>\n",
              "      <th>FG3A</th>\n",
              "      <th>FG3_PCT</th>\n",
              "      <th>FTM</th>\n",
              "      <th>FTA</th>\n",
              "      <th>FT_PCT</th>\n",
              "      <th>OREB</th>\n",
              "      <th>DREB</th>\n",
              "      <th>REB</th>\n",
              "      <th>AST</th>\n",
              "      <th>STL</th>\n",
              "      <th>BLK</th>\n",
              "      <th>TOV</th>\n",
              "      <th>PF</th>\n",
              "      <th>PTS</th>\n",
              "    </tr>\n",
              "  </thead>\n",
              "  <tbody>\n",
              "    <tr>\n",
              "      <th>0</th>\n",
              "      <td>203500</td>\n",
              "      <td>Center</td>\n",
              "      <td>512</td>\n",
              "      <td>448.0</td>\n",
              "      <td>13731.0</td>\n",
              "      <td>2074</td>\n",
              "      <td>3521</td>\n",
              "      <td>0.589037</td>\n",
              "      <td>0.0</td>\n",
              "      <td>8.0</td>\n",
              "      <td>0.000000</td>\n",
              "      <td>842</td>\n",
              "      <td>1515</td>\n",
              "      <td>0.555775</td>\n",
              "      <td>1766.0</td>\n",
              "      <td>2095.0</td>\n",
              "      <td>3861.0</td>\n",
              "      <td>586</td>\n",
              "      <td>448.0</td>\n",
              "      <td>514.0</td>\n",
              "      <td>728.0</td>\n",
              "      <td>1347</td>\n",
              "      <td>4990</td>\n",
              "    </tr>\n",
              "    <tr>\n",
              "      <th>1</th>\n",
              "      <td>1628389</td>\n",
              "      <td>Center-Forward</td>\n",
              "      <td>201</td>\n",
              "      <td>97.0</td>\n",
              "      <td>5015.0</td>\n",
              "      <td>761</td>\n",
              "      <td>1355</td>\n",
              "      <td>0.561623</td>\n",
              "      <td>4.0</td>\n",
              "      <td>33.0</td>\n",
              "      <td>0.121212</td>\n",
              "      <td>474</td>\n",
              "      <td>665</td>\n",
              "      <td>0.712781</td>\n",
              "      <td>412.0</td>\n",
              "      <td>1087.0</td>\n",
              "      <td>1499.0</td>\n",
              "      <td>529</td>\n",
              "      <td>164.0</td>\n",
              "      <td>163.0</td>\n",
              "      <td>322.0</td>\n",
              "      <td>461</td>\n",
              "      <td>2000</td>\n",
              "    </tr>\n",
              "    <tr>\n",
              "      <th>2</th>\n",
              "      <td>200746</td>\n",
              "      <td>Center-Forward</td>\n",
              "      <td>996</td>\n",
              "      <td>955.0</td>\n",
              "      <td>34281.0</td>\n",
              "      <td>7864</td>\n",
              "      <td>15990</td>\n",
              "      <td>0.491807</td>\n",
              "      <td>174.0</td>\n",
              "      <td>553.0</td>\n",
              "      <td>0.314647</td>\n",
              "      <td>3560</td>\n",
              "      <td>4388</td>\n",
              "      <td>0.811303</td>\n",
              "      <td>2669.0</td>\n",
              "      <td>5640.0</td>\n",
              "      <td>8309.0</td>\n",
              "      <td>1965</td>\n",
              "      <td>724.0</td>\n",
              "      <td>1101.0</td>\n",
              "      <td>1559.0</td>\n",
              "      <td>2457</td>\n",
              "      <td>19462</td>\n",
              "    </tr>\n",
              "    <tr>\n",
              "      <th>3</th>\n",
              "      <td>1629638</td>\n",
              "      <td>Guard</td>\n",
              "      <td>39</td>\n",
              "      <td>0.0</td>\n",
              "      <td>494.0</td>\n",
              "      <td>77</td>\n",
              "      <td>225</td>\n",
              "      <td>0.342222</td>\n",
              "      <td>40.0</td>\n",
              "      <td>117.0</td>\n",
              "      <td>0.341880</td>\n",
              "      <td>17</td>\n",
              "      <td>28</td>\n",
              "      <td>0.607142</td>\n",
              "      <td>7.0</td>\n",
              "      <td>71.0</td>\n",
              "      <td>78.0</td>\n",
              "      <td>73</td>\n",
              "      <td>11.0</td>\n",
              "      <td>7.0</td>\n",
              "      <td>38.0</td>\n",
              "      <td>43</td>\n",
              "      <td>211</td>\n",
              "    </tr>\n",
              "    <tr>\n",
              "      <th>4</th>\n",
              "      <td>1628960</td>\n",
              "      <td>Guard</td>\n",
              "      <td>68</td>\n",
              "      <td>2.0</td>\n",
              "      <td>914.0</td>\n",
              "      <td>146</td>\n",
              "      <td>354</td>\n",
              "      <td>0.412429</td>\n",
              "      <td>65.0</td>\n",
              "      <td>190.0</td>\n",
              "      <td>0.342105</td>\n",
              "      <td>75</td>\n",
              "      <td>95</td>\n",
              "      <td>0.789473</td>\n",
              "      <td>8.0</td>\n",
              "      <td>81.0</td>\n",
              "      <td>89.0</td>\n",
              "      <td>68</td>\n",
              "      <td>12.0</td>\n",
              "      <td>7.0</td>\n",
              "      <td>56.0</td>\n",
              "      <td>83</td>\n",
              "      <td>432</td>\n",
              "    </tr>\n",
              "    <tr>\n",
              "      <th>...</th>\n",
              "      <td>...</td>\n",
              "      <td>...</td>\n",
              "      <td>...</td>\n",
              "      <td>...</td>\n",
              "      <td>...</td>\n",
              "      <td>...</td>\n",
              "      <td>...</td>\n",
              "      <td>...</td>\n",
              "      <td>...</td>\n",
              "      <td>...</td>\n",
              "      <td>...</td>\n",
              "      <td>...</td>\n",
              "      <td>...</td>\n",
              "      <td>...</td>\n",
              "      <td>...</td>\n",
              "      <td>...</td>\n",
              "      <td>...</td>\n",
              "      <td>...</td>\n",
              "      <td>...</td>\n",
              "      <td>...</td>\n",
              "      <td>...</td>\n",
              "      <td>...</td>\n",
              "      <td>...</td>\n",
              "    </tr>\n",
              "    <tr>\n",
              "      <th>488</th>\n",
              "      <td>1629027</td>\n",
              "      <td>Guard</td>\n",
              "      <td>128</td>\n",
              "      <td>128.0</td>\n",
              "      <td>4145.0</td>\n",
              "      <td>956</td>\n",
              "      <td>2225</td>\n",
              "      <td>0.429662</td>\n",
              "      <td>318.0</td>\n",
              "      <td>920.0</td>\n",
              "      <td>0.345652</td>\n",
              "      <td>698</td>\n",
              "      <td>834</td>\n",
              "      <td>0.836930</td>\n",
              "      <td>93.0</td>\n",
              "      <td>423.0</td>\n",
              "      <td>516.0</td>\n",
              "      <td>1078</td>\n",
              "      <td>126.0</td>\n",
              "      <td>20.0</td>\n",
              "      <td>536.0</td>\n",
              "      <td>218</td>\n",
              "      <td>2928</td>\n",
              "    </tr>\n",
              "    <tr>\n",
              "      <th>489</th>\n",
              "      <td>203469</td>\n",
              "      <td>Forward-Center</td>\n",
              "      <td>409</td>\n",
              "      <td>242.0</td>\n",
              "      <td>9383.0</td>\n",
              "      <td>1315</td>\n",
              "      <td>2565</td>\n",
              "      <td>0.512670</td>\n",
              "      <td>27.0</td>\n",
              "      <td>105.0</td>\n",
              "      <td>0.257142</td>\n",
              "      <td>849</td>\n",
              "      <td>1158</td>\n",
              "      <td>0.733160</td>\n",
              "      <td>797.0</td>\n",
              "      <td>1625.0</td>\n",
              "      <td>2422.0</td>\n",
              "      <td>566</td>\n",
              "      <td>277.0</td>\n",
              "      <td>294.0</td>\n",
              "      <td>439.0</td>\n",
              "      <td>1087</td>\n",
              "      <td>3506</td>\n",
              "    </tr>\n",
              "    <tr>\n",
              "      <th>490</th>\n",
              "      <td>1627790</td>\n",
              "      <td>Center</td>\n",
              "      <td>107</td>\n",
              "      <td>27.0</td>\n",
              "      <td>1455.0</td>\n",
              "      <td>260</td>\n",
              "      <td>447</td>\n",
              "      <td>0.581655</td>\n",
              "      <td>0.0</td>\n",
              "      <td>0.0</td>\n",
              "      <td>0.000000</td>\n",
              "      <td>127</td>\n",
              "      <td>176</td>\n",
              "      <td>0.721590</td>\n",
              "      <td>146.0</td>\n",
              "      <td>289.0</td>\n",
              "      <td>435.0</td>\n",
              "      <td>61</td>\n",
              "      <td>21.0</td>\n",
              "      <td>39.0</td>\n",
              "      <td>77.0</td>\n",
              "      <td>163</td>\n",
              "      <td>647</td>\n",
              "    </tr>\n",
              "    <tr>\n",
              "      <th>491</th>\n",
              "      <td>1627826</td>\n",
              "      <td>Center</td>\n",
              "      <td>191</td>\n",
              "      <td>97.0</td>\n",
              "      <td>2971.0</td>\n",
              "      <td>564</td>\n",
              "      <td>1020</td>\n",
              "      <td>0.552941</td>\n",
              "      <td>0.0</td>\n",
              "      <td>6.0</td>\n",
              "      <td>0.000000</td>\n",
              "      <td>255</td>\n",
              "      <td>339</td>\n",
              "      <td>0.752212</td>\n",
              "      <td>334.0</td>\n",
              "      <td>673.0</td>\n",
              "      <td>1007.0</td>\n",
              "      <td>168</td>\n",
              "      <td>46.0</td>\n",
              "      <td>149.0</td>\n",
              "      <td>169.0</td>\n",
              "      <td>366</td>\n",
              "      <td>1383</td>\n",
              "    </tr>\n",
              "    <tr>\n",
              "      <th>492</th>\n",
              "      <td>977</td>\n",
              "      <td>Forward-Guard</td>\n",
              "      <td>1346</td>\n",
              "      <td>1198.0</td>\n",
              "      <td>48654.0</td>\n",
              "      <td>11719</td>\n",
              "      <td>26200</td>\n",
              "      <td>0.447290</td>\n",
              "      <td>1827.0</td>\n",
              "      <td>5546.0</td>\n",
              "      <td>0.329426</td>\n",
              "      <td>8378</td>\n",
              "      <td>10011</td>\n",
              "      <td>0.836879</td>\n",
              "      <td>1499.0</td>\n",
              "      <td>5548.0</td>\n",
              "      <td>7047.0</td>\n",
              "      <td>6306</td>\n",
              "      <td>1944.0</td>\n",
              "      <td>640.0</td>\n",
              "      <td>4010.0</td>\n",
              "      <td>3353</td>\n",
              "      <td>33643</td>\n",
              "    </tr>\n",
              "  </tbody>\n",
              "</table>\n",
              "<p>493 rows × 23 columns</p>\n",
              "</div>"
            ],
            "text/plain": [
              "     PLAYER_ID        POSITION    GP      GS  ...     BLK     TOV    PF    PTS\n",
              "0       203500          Center   512   448.0  ...   514.0   728.0  1347   4990\n",
              "1      1628389  Center-Forward   201    97.0  ...   163.0   322.0   461   2000\n",
              "2       200746  Center-Forward   996   955.0  ...  1101.0  1559.0  2457  19462\n",
              "3      1629638           Guard    39     0.0  ...     7.0    38.0    43    211\n",
              "4      1628960           Guard    68     2.0  ...     7.0    56.0    83    432\n",
              "..         ...             ...   ...     ...  ...     ...     ...   ...    ...\n",
              "488    1629027           Guard   128   128.0  ...    20.0   536.0   218   2928\n",
              "489     203469  Forward-Center   409   242.0  ...   294.0   439.0  1087   3506\n",
              "490    1627790          Center   107    27.0  ...    39.0    77.0   163    647\n",
              "491    1627826          Center   191    97.0  ...   149.0   169.0   366   1383\n",
              "492        977   Forward-Guard  1346  1198.0  ...   640.0  4010.0  3353  33643\n",
              "\n",
              "[493 rows x 23 columns]"
            ]
          },
          "metadata": {
            "tags": []
          }
        }
      ]
    },
    {
      "cell_type": "code",
      "metadata": {
        "id": "MBohRUCidV6Y",
        "colab_type": "code",
        "colab": {}
      },
      "source": [
        "# df_active_player.info(memory_usage=\"deep\")"
      ],
      "execution_count": 0,
      "outputs": []
    },
    {
      "cell_type": "code",
      "metadata": {
        "id": "XV4GobTYoRV3",
        "colab_type": "code",
        "outputId": "fbc7ae06-f201-4159-c9bc-d2beabb31a9c",
        "colab": {
          "base_uri": "https://localhost:8080/",
          "height": 35
        }
      },
      "source": [
        "# 顯示各特徵的平均與標準差\n",
        "print(\"各特徵平均與標準差：\")\n",
        "df_active_player_describe = df_active_player.describe().loc[['mean', 'std']]\n",
        "# display(df_active_player_describe.style.format(\"{:.2f}\"))"
      ],
      "execution_count": 0,
      "outputs": [
        {
          "output_type": "stream",
          "text": [
            "各特徵平均與標準差：\n"
          ],
          "name": "stdout"
        }
      ]
    },
    {
      "cell_type": "code",
      "metadata": {
        "id": "DIRmsRdTmKmz",
        "colab_type": "code",
        "colab": {}
      },
      "source": [
        "# 將'PLAYER_ID'和'POSITION'以外的 21 個特徵全取出\n",
        "X = df_active_player.iloc[:, 2:]\n",
        "df_active_player_positions = df_active_player.iloc[:, 0:2]\n",
        "# print(df_active_player_positions)"
      ],
      "execution_count": 0,
      "outputs": []
    },
    {
      "cell_type": "markdown",
      "metadata": {
        "id": "chOXe0Q1lb6W",
        "colab_type": "text"
      },
      "source": [
        "## Standardizing"
      ]
    },
    {
      "cell_type": "code",
      "metadata": {
        "id": "a41VjCCflvPM",
        "colab_type": "code",
        "outputId": "0e075e2f-8a40-4a28-af99-48e9b94735d1",
        "colab": {
          "base_uri": "https://localhost:8080/",
          "height": 82
        }
      },
      "source": [
        "df_X_std = (X - X.mean(axis=0)) / X.std(axis=0, ddof=0)\n",
        "df_X_std.describe().loc[['mean', 'std']].style.format(\"{:.2f}\")"
      ],
      "execution_count": 0,
      "outputs": [
        {
          "output_type": "execute_result",
          "data": {
            "text/html": [
              "<style  type=\"text/css\" >\n",
              "</style><table id=\"T_77aeed56_4cb2_11ea_baa5_0242ac1c0002\" ><thead>    <tr>        <th class=\"blank level0\" ></th>        <th class=\"col_heading level0 col0\" >GP</th>        <th class=\"col_heading level0 col1\" >GS</th>        <th class=\"col_heading level0 col2\" >MIN</th>        <th class=\"col_heading level0 col3\" >FGM</th>        <th class=\"col_heading level0 col4\" >FGA</th>        <th class=\"col_heading level0 col5\" >FG_PCT</th>        <th class=\"col_heading level0 col6\" >FG3M</th>        <th class=\"col_heading level0 col7\" >FG3A</th>        <th class=\"col_heading level0 col8\" >FG3_PCT</th>        <th class=\"col_heading level0 col9\" >FTM</th>        <th class=\"col_heading level0 col10\" >FTA</th>        <th class=\"col_heading level0 col11\" >FT_PCT</th>        <th class=\"col_heading level0 col12\" >OREB</th>        <th class=\"col_heading level0 col13\" >DREB</th>        <th class=\"col_heading level0 col14\" >REB</th>        <th class=\"col_heading level0 col15\" >AST</th>        <th class=\"col_heading level0 col16\" >STL</th>        <th class=\"col_heading level0 col17\" >BLK</th>        <th class=\"col_heading level0 col18\" >TOV</th>        <th class=\"col_heading level0 col19\" >PF</th>        <th class=\"col_heading level0 col20\" >PTS</th>    </tr></thead><tbody>\n",
              "                <tr>\n",
              "                        <th id=\"T_77aeed56_4cb2_11ea_baa5_0242ac1c0002level0_row0\" class=\"row_heading level0 row0\" >mean</th>\n",
              "                        <td id=\"T_77aeed56_4cb2_11ea_baa5_0242ac1c0002row0_col0\" class=\"data row0 col0\" >0.00</td>\n",
              "                        <td id=\"T_77aeed56_4cb2_11ea_baa5_0242ac1c0002row0_col1\" class=\"data row0 col1\" >-0.00</td>\n",
              "                        <td id=\"T_77aeed56_4cb2_11ea_baa5_0242ac1c0002row0_col2\" class=\"data row0 col2\" >-0.00</td>\n",
              "                        <td id=\"T_77aeed56_4cb2_11ea_baa5_0242ac1c0002row0_col3\" class=\"data row0 col3\" >-0.00</td>\n",
              "                        <td id=\"T_77aeed56_4cb2_11ea_baa5_0242ac1c0002row0_col4\" class=\"data row0 col4\" >0.00</td>\n",
              "                        <td id=\"T_77aeed56_4cb2_11ea_baa5_0242ac1c0002row0_col5\" class=\"data row0 col5\" >-0.00</td>\n",
              "                        <td id=\"T_77aeed56_4cb2_11ea_baa5_0242ac1c0002row0_col6\" class=\"data row0 col6\" >-0.00</td>\n",
              "                        <td id=\"T_77aeed56_4cb2_11ea_baa5_0242ac1c0002row0_col7\" class=\"data row0 col7\" >-0.00</td>\n",
              "                        <td id=\"T_77aeed56_4cb2_11ea_baa5_0242ac1c0002row0_col8\" class=\"data row0 col8\" >0.00</td>\n",
              "                        <td id=\"T_77aeed56_4cb2_11ea_baa5_0242ac1c0002row0_col9\" class=\"data row0 col9\" >0.00</td>\n",
              "                        <td id=\"T_77aeed56_4cb2_11ea_baa5_0242ac1c0002row0_col10\" class=\"data row0 col10\" >0.00</td>\n",
              "                        <td id=\"T_77aeed56_4cb2_11ea_baa5_0242ac1c0002row0_col11\" class=\"data row0 col11\" >-0.00</td>\n",
              "                        <td id=\"T_77aeed56_4cb2_11ea_baa5_0242ac1c0002row0_col12\" class=\"data row0 col12\" >-0.00</td>\n",
              "                        <td id=\"T_77aeed56_4cb2_11ea_baa5_0242ac1c0002row0_col13\" class=\"data row0 col13\" >0.00</td>\n",
              "                        <td id=\"T_77aeed56_4cb2_11ea_baa5_0242ac1c0002row0_col14\" class=\"data row0 col14\" >-0.00</td>\n",
              "                        <td id=\"T_77aeed56_4cb2_11ea_baa5_0242ac1c0002row0_col15\" class=\"data row0 col15\" >0.00</td>\n",
              "                        <td id=\"T_77aeed56_4cb2_11ea_baa5_0242ac1c0002row0_col16\" class=\"data row0 col16\" >-0.00</td>\n",
              "                        <td id=\"T_77aeed56_4cb2_11ea_baa5_0242ac1c0002row0_col17\" class=\"data row0 col17\" >0.00</td>\n",
              "                        <td id=\"T_77aeed56_4cb2_11ea_baa5_0242ac1c0002row0_col18\" class=\"data row0 col18\" >-0.00</td>\n",
              "                        <td id=\"T_77aeed56_4cb2_11ea_baa5_0242ac1c0002row0_col19\" class=\"data row0 col19\" >-0.00</td>\n",
              "                        <td id=\"T_77aeed56_4cb2_11ea_baa5_0242ac1c0002row0_col20\" class=\"data row0 col20\" >0.00</td>\n",
              "            </tr>\n",
              "            <tr>\n",
              "                        <th id=\"T_77aeed56_4cb2_11ea_baa5_0242ac1c0002level0_row1\" class=\"row_heading level0 row1\" >std</th>\n",
              "                        <td id=\"T_77aeed56_4cb2_11ea_baa5_0242ac1c0002row1_col0\" class=\"data row1 col0\" >1.00</td>\n",
              "                        <td id=\"T_77aeed56_4cb2_11ea_baa5_0242ac1c0002row1_col1\" class=\"data row1 col1\" >1.00</td>\n",
              "                        <td id=\"T_77aeed56_4cb2_11ea_baa5_0242ac1c0002row1_col2\" class=\"data row1 col2\" >1.00</td>\n",
              "                        <td id=\"T_77aeed56_4cb2_11ea_baa5_0242ac1c0002row1_col3\" class=\"data row1 col3\" >1.00</td>\n",
              "                        <td id=\"T_77aeed56_4cb2_11ea_baa5_0242ac1c0002row1_col4\" class=\"data row1 col4\" >1.00</td>\n",
              "                        <td id=\"T_77aeed56_4cb2_11ea_baa5_0242ac1c0002row1_col5\" class=\"data row1 col5\" >1.00</td>\n",
              "                        <td id=\"T_77aeed56_4cb2_11ea_baa5_0242ac1c0002row1_col6\" class=\"data row1 col6\" >1.00</td>\n",
              "                        <td id=\"T_77aeed56_4cb2_11ea_baa5_0242ac1c0002row1_col7\" class=\"data row1 col7\" >1.00</td>\n",
              "                        <td id=\"T_77aeed56_4cb2_11ea_baa5_0242ac1c0002row1_col8\" class=\"data row1 col8\" >1.00</td>\n",
              "                        <td id=\"T_77aeed56_4cb2_11ea_baa5_0242ac1c0002row1_col9\" class=\"data row1 col9\" >1.00</td>\n",
              "                        <td id=\"T_77aeed56_4cb2_11ea_baa5_0242ac1c0002row1_col10\" class=\"data row1 col10\" >1.00</td>\n",
              "                        <td id=\"T_77aeed56_4cb2_11ea_baa5_0242ac1c0002row1_col11\" class=\"data row1 col11\" >1.00</td>\n",
              "                        <td id=\"T_77aeed56_4cb2_11ea_baa5_0242ac1c0002row1_col12\" class=\"data row1 col12\" >1.00</td>\n",
              "                        <td id=\"T_77aeed56_4cb2_11ea_baa5_0242ac1c0002row1_col13\" class=\"data row1 col13\" >1.00</td>\n",
              "                        <td id=\"T_77aeed56_4cb2_11ea_baa5_0242ac1c0002row1_col14\" class=\"data row1 col14\" >1.00</td>\n",
              "                        <td id=\"T_77aeed56_4cb2_11ea_baa5_0242ac1c0002row1_col15\" class=\"data row1 col15\" >1.00</td>\n",
              "                        <td id=\"T_77aeed56_4cb2_11ea_baa5_0242ac1c0002row1_col16\" class=\"data row1 col16\" >1.00</td>\n",
              "                        <td id=\"T_77aeed56_4cb2_11ea_baa5_0242ac1c0002row1_col17\" class=\"data row1 col17\" >1.00</td>\n",
              "                        <td id=\"T_77aeed56_4cb2_11ea_baa5_0242ac1c0002row1_col18\" class=\"data row1 col18\" >1.00</td>\n",
              "                        <td id=\"T_77aeed56_4cb2_11ea_baa5_0242ac1c0002row1_col19\" class=\"data row1 col19\" >1.00</td>\n",
              "                        <td id=\"T_77aeed56_4cb2_11ea_baa5_0242ac1c0002row1_col20\" class=\"data row1 col20\" >1.00</td>\n",
              "            </tr>\n",
              "    </tbody></table>"
            ],
            "text/plain": [
              "<pandas.io.formats.style.Styler at 0x7f2f726872e8>"
            ]
          },
          "metadata": {
            "tags": []
          },
          "execution_count": 8
        }
      ]
    },
    {
      "cell_type": "code",
      "metadata": {
        "id": "4UokzL7FwXdd",
        "colab_type": "code",
        "colab": {}
      },
      "source": [
        "X_std = df_X_std.to_numpy()"
      ],
      "execution_count": 0,
      "outputs": []
    },
    {
      "cell_type": "markdown",
      "metadata": {
        "id": "HxoTFftymmTx",
        "colab_type": "text"
      },
      "source": [
        "## 1 - Eigendecomposition - Computing Eigenvectors and Eigenvalues"
      ]
    },
    {
      "cell_type": "markdown",
      "metadata": {
        "id": "yO58dh0OmsKq",
        "colab_type": "text"
      },
      "source": [
        "### Covariance Matrix\n",
        "$\\sum = \\frac{1}{n - 1}\\lgroup(\\mathrm{X}-\\bar x)^{T} (\\mathrm{X}-\\bar x)\\rgroup$"
      ]
    },
    {
      "cell_type": "code",
      "metadata": {
        "id": "XvqdnaQRmnGT",
        "colab_type": "code",
        "colab": {}
      },
      "source": [
        "mean_vec = np.mean(X_std, axis=0)\n",
        "cov_mat = (X_std - mean_vec).T.dot((X_std - mean_vec)) / (X_std.shape[0]-1)\n",
        "# Compute covariance matrix by numpy built in func.\n",
        "# cov_mat = np.cov(X_std.T)\n",
        "\n",
        "# print('Covariance matrix \\n%s' %cov_mat)\n",
        "\n",
        "eig_vals, eig_vecs = np.linalg.eig(cov_mat)\n",
        "\n",
        "# print('Eigenvectors \\n%s' %eig_vecs)\n",
        "# print('\\nEigenvalues \\n%s' %eig_vals)"
      ],
      "execution_count": 0,
      "outputs": []
    },
    {
      "cell_type": "markdown",
      "metadata": {
        "id": "dr_7ll8auaS6",
        "colab_type": "text"
      },
      "source": [
        "### Correlation Matrix"
      ]
    },
    {
      "cell_type": "code",
      "metadata": {
        "id": "maVvlAPD3itJ",
        "colab_type": "code",
        "colab": {}
      },
      "source": [
        "# cor_mat1 = np.corrcoef(X_std.T)\n",
        "\n",
        "# eig_vals, eig_vecs = np.linalg.eig(cor_mat1)\n",
        "\n",
        "# print('Eigenvectors \\n%s' %eig_vecs)\n",
        "# print('\\nEigenvalues \\n%s' %eig_vals)"
      ],
      "execution_count": 0,
      "outputs": []
    },
    {
      "cell_type": "code",
      "metadata": {
        "id": "JJTg0YqF6qPy",
        "colab_type": "code",
        "outputId": "402ff867-0e12-4196-ca7b-e96764d2bfb9",
        "colab": {
          "base_uri": "https://localhost:8080/",
          "height": 397
        }
      },
      "source": [
        "# Make a list of (eigenvalue, eigenvector) tuples\n",
        "eig_pairs = [(np.abs(eig_vals[i]), eig_vecs[:,i]) for i in range(len(eig_vals))]\n",
        "\n",
        "# Sort the (eigenvalue, eigenvector) tuples from high to low\n",
        "eig_pairs.sort()\n",
        "eig_pairs.reverse()\n",
        "\n",
        "# Visually confirm that the list is correctly sorted by decreasing eigenvalues\n",
        "print('Eigenvalues in descending order:')\n",
        "for i in eig_pairs:\n",
        "    print(i[0])"
      ],
      "execution_count": 0,
      "outputs": [
        {
          "output_type": "stream",
          "text": [
            "Eigenvalues in descending order:\n",
            "14.877405303183133\n",
            "2.240317084784821\n",
            "1.4314964411517093\n",
            "0.680537202511567\n",
            "0.4895562241112943\n",
            "0.43503070308287795\n",
            "0.32202158241782647\n",
            "0.1443603240835781\n",
            "0.10385638945060005\n",
            "0.09743641375369533\n",
            "0.07339650853859404\n",
            "0.04697095581416318\n",
            "0.03976846855949815\n",
            "0.030210095894429072\n",
            "0.0177052749035181\n",
            "0.0049796985744326085\n",
            "0.0040613804709336565\n",
            "0.002780491633269203\n",
            "0.0007923839093383448\n",
            "1.9230404481655498e-16\n",
            "4.579210555233597e-17\n"
          ],
          "name": "stdout"
        }
      ]
    },
    {
      "cell_type": "code",
      "metadata": {
        "id": "cPOHhTFM6yKD",
        "colab_type": "code",
        "outputId": "e17dd2ef-ebcf-414f-80a9-d894bf138bde",
        "colab": {
          "base_uri": "https://localhost:8080/",
          "height": 542
        }
      },
      "source": [
        "import plotly.offline as py\n",
        "\n",
        "tot = sum(eig_vals)\n",
        "var_exp = [(i / tot)*100 for i in sorted(eig_vals, reverse=True)]\n",
        "cum_var_exp = np.cumsum(var_exp)\n",
        "\n",
        "trace1 = dict(\n",
        "    type='bar',\n",
        "    x=['PC %s' %i for i in range(1,22)],\n",
        "    y=var_exp,\n",
        "    name='Individual'\n",
        ")\n",
        "\n",
        "trace2 = dict(\n",
        "    type='scatter',\n",
        "    x=['PC %s' %i for i in range(1,22)], \n",
        "    y=cum_var_exp,\n",
        "    name='Cumulative'\n",
        ")\n",
        "\n",
        "data = [trace1, trace2]\n",
        "\n",
        "layout=dict(\n",
        "    title='Explained variance by different principal components',\n",
        "    yaxis=dict(\n",
        "        title='Explained variance in percent'\n",
        "    ),\n",
        "    annotations=list([\n",
        "        dict(\n",
        "            x=1.16,\n",
        "            y=1.05,\n",
        "            xref='paper',\n",
        "            yref='paper',\n",
        "            text='Explained Variance',\n",
        "            showarrow=False,\n",
        "        )\n",
        "    ])\n",
        ")\n",
        "\n",
        "fig = dict(data=data, layout=layout)\n",
        "py.iplot(fig, filename='selecting-principal-components')"
      ],
      "execution_count": 0,
      "outputs": [
        {
          "output_type": "display_data",
          "data": {
            "text/html": [
              "<html>\n",
              "<head><meta charset=\"utf-8\" /></head>\n",
              "<body>\n",
              "    <div>\n",
              "            <script src=\"https://cdnjs.cloudflare.com/ajax/libs/mathjax/2.7.5/MathJax.js?config=TeX-AMS-MML_SVG\"></script><script type=\"text/javascript\">if (window.MathJax) {MathJax.Hub.Config({SVG: {font: \"STIX-Web\"}});}</script>\n",
              "                <script type=\"text/javascript\">window.PlotlyConfig = {MathJaxConfig: 'local'};</script>\n",
              "        <script src=\"https://cdn.plot.ly/plotly-latest.min.js\"></script>    \n",
              "            <div id=\"8306f436-a7a2-4f95-b928-63efa3c40b1d\" class=\"plotly-graph-div\" style=\"height:525px; width:100%;\"></div>\n",
              "            <script type=\"text/javascript\">\n",
              "                \n",
              "                    window.PLOTLYENV=window.PLOTLYENV || {};\n",
              "                    \n",
              "                if (document.getElementById(\"8306f436-a7a2-4f95-b928-63efa3c40b1d\")) {\n",
              "                    Plotly.newPlot(\n",
              "                        '8306f436-a7a2-4f95-b928-63efa3c40b1d',\n",
              "                        [{\"name\": \"Individual\", \"type\": \"bar\", \"x\": [\"PC 1\", \"PC 2\", \"PC 3\", \"PC 4\", \"PC 5\", \"PC 6\", \"PC 7\", \"PC 8\", \"PC 9\", \"PC 10\", \"PC 11\", \"PC 12\", \"PC 13\", \"PC 14\", \"PC 15\", \"PC 16\", \"PC 17\", \"PC 18\", \"PC 19\", \"PC 20\", \"PC 21\"], \"y\": [70.70108576418525, 10.646537290776891, 6.802822844070711, 3.234080011935583, 2.3264914736091638, 2.0673727993506796, 1.5303256886851209, 0.6860357331123385, 0.4935510828715851, 0.46304178080573827, 0.34879824399679565, 0.22321752400819356, 0.18898953473653127, 0.14356579909262146, 0.08413981698571334, 0.02366475126650094, 0.019300677984152984, 0.013213579480039095, 0.0037656030464065056, 2.176153378899767e-16, -9.13876075048247e-16]}, {\"name\": \"Cumulative\", \"type\": \"scatter\", \"x\": [\"PC 1\", \"PC 2\", \"PC 3\", \"PC 4\", \"PC 5\", \"PC 6\", \"PC 7\", \"PC 8\", \"PC 9\", \"PC 10\", \"PC 11\", \"PC 12\", \"PC 13\", \"PC 14\", \"PC 15\", \"PC 16\", \"PC 17\", \"PC 18\", \"PC 19\", \"PC 20\", \"PC 21\"], \"y\": [70.70108576418525, 81.34762305496214, 88.15044589903286, 91.38452591096845, 93.71101738457762, 95.7783901839283, 97.30871587261342, 97.99475160572575, 98.48830268859734, 98.95134446940308, 99.30014271339988, 99.52336023740807, 99.7123497721446, 99.85591557123723, 99.94005538822294, 99.96372013948944, 99.98302081747359, 99.99623439695362, 100.00000000000003, 100.00000000000003, 100.00000000000003]}],\n",
              "                        {\"annotations\": [{\"showarrow\": false, \"text\": \"Explained Variance\", \"x\": 1.16, \"xref\": \"paper\", \"y\": 1.05, \"yref\": \"paper\"}], \"template\": {\"data\": {\"bar\": [{\"error_x\": {\"color\": \"#2a3f5f\"}, \"error_y\": {\"color\": \"#2a3f5f\"}, \"marker\": {\"line\": {\"color\": \"#E5ECF6\", \"width\": 0.5}}, \"type\": \"bar\"}], \"barpolar\": [{\"marker\": {\"line\": {\"color\": \"#E5ECF6\", \"width\": 0.5}}, \"type\": \"barpolar\"}], \"carpet\": [{\"aaxis\": {\"endlinecolor\": \"#2a3f5f\", \"gridcolor\": \"white\", \"linecolor\": \"white\", \"minorgridcolor\": \"white\", \"startlinecolor\": \"#2a3f5f\"}, \"baxis\": {\"endlinecolor\": \"#2a3f5f\", \"gridcolor\": \"white\", \"linecolor\": \"white\", \"minorgridcolor\": \"white\", \"startlinecolor\": \"#2a3f5f\"}, \"type\": \"carpet\"}], \"choropleth\": [{\"colorbar\": {\"outlinewidth\": 0, \"ticks\": \"\"}, \"type\": \"choropleth\"}], \"contour\": [{\"colorbar\": {\"outlinewidth\": 0, \"ticks\": \"\"}, \"colorscale\": [[0.0, \"#0d0887\"], [0.1111111111111111, \"#46039f\"], [0.2222222222222222, \"#7201a8\"], [0.3333333333333333, \"#9c179e\"], [0.4444444444444444, \"#bd3786\"], [0.5555555555555556, \"#d8576b\"], [0.6666666666666666, \"#ed7953\"], [0.7777777777777778, \"#fb9f3a\"], [0.8888888888888888, \"#fdca26\"], [1.0, \"#f0f921\"]], \"type\": \"contour\"}], \"contourcarpet\": [{\"colorbar\": {\"outlinewidth\": 0, \"ticks\": \"\"}, \"type\": \"contourcarpet\"}], \"heatmap\": [{\"colorbar\": {\"outlinewidth\": 0, \"ticks\": \"\"}, \"colorscale\": [[0.0, \"#0d0887\"], [0.1111111111111111, \"#46039f\"], [0.2222222222222222, \"#7201a8\"], [0.3333333333333333, \"#9c179e\"], [0.4444444444444444, \"#bd3786\"], [0.5555555555555556, \"#d8576b\"], [0.6666666666666666, \"#ed7953\"], [0.7777777777777778, \"#fb9f3a\"], [0.8888888888888888, \"#fdca26\"], [1.0, \"#f0f921\"]], \"type\": \"heatmap\"}], \"heatmapgl\": [{\"colorbar\": {\"outlinewidth\": 0, \"ticks\": \"\"}, \"colorscale\": [[0.0, \"#0d0887\"], [0.1111111111111111, \"#46039f\"], [0.2222222222222222, \"#7201a8\"], [0.3333333333333333, \"#9c179e\"], [0.4444444444444444, \"#bd3786\"], [0.5555555555555556, \"#d8576b\"], [0.6666666666666666, \"#ed7953\"], [0.7777777777777778, \"#fb9f3a\"], [0.8888888888888888, \"#fdca26\"], [1.0, \"#f0f921\"]], \"type\": \"heatmapgl\"}], \"histogram\": [{\"marker\": {\"colorbar\": {\"outlinewidth\": 0, \"ticks\": \"\"}}, \"type\": \"histogram\"}], \"histogram2d\": [{\"colorbar\": {\"outlinewidth\": 0, \"ticks\": \"\"}, \"colorscale\": [[0.0, \"#0d0887\"], [0.1111111111111111, \"#46039f\"], [0.2222222222222222, \"#7201a8\"], [0.3333333333333333, \"#9c179e\"], [0.4444444444444444, \"#bd3786\"], [0.5555555555555556, \"#d8576b\"], [0.6666666666666666, \"#ed7953\"], [0.7777777777777778, \"#fb9f3a\"], [0.8888888888888888, \"#fdca26\"], [1.0, \"#f0f921\"]], \"type\": \"histogram2d\"}], \"histogram2dcontour\": [{\"colorbar\": {\"outlinewidth\": 0, \"ticks\": \"\"}, \"colorscale\": [[0.0, \"#0d0887\"], [0.1111111111111111, \"#46039f\"], [0.2222222222222222, \"#7201a8\"], [0.3333333333333333, \"#9c179e\"], [0.4444444444444444, \"#bd3786\"], [0.5555555555555556, \"#d8576b\"], [0.6666666666666666, \"#ed7953\"], [0.7777777777777778, \"#fb9f3a\"], [0.8888888888888888, \"#fdca26\"], [1.0, \"#f0f921\"]], \"type\": \"histogram2dcontour\"}], \"mesh3d\": [{\"colorbar\": {\"outlinewidth\": 0, \"ticks\": \"\"}, \"type\": \"mesh3d\"}], \"parcoords\": [{\"line\": {\"colorbar\": {\"outlinewidth\": 0, \"ticks\": \"\"}}, \"type\": \"parcoords\"}], \"pie\": [{\"automargin\": true, \"type\": \"pie\"}], \"scatter\": [{\"marker\": {\"colorbar\": {\"outlinewidth\": 0, \"ticks\": \"\"}}, \"type\": \"scatter\"}], \"scatter3d\": [{\"line\": {\"colorbar\": {\"outlinewidth\": 0, \"ticks\": \"\"}}, \"marker\": {\"colorbar\": {\"outlinewidth\": 0, \"ticks\": \"\"}}, \"type\": \"scatter3d\"}], \"scattercarpet\": [{\"marker\": {\"colorbar\": {\"outlinewidth\": 0, \"ticks\": \"\"}}, \"type\": \"scattercarpet\"}], \"scattergeo\": [{\"marker\": {\"colorbar\": {\"outlinewidth\": 0, \"ticks\": \"\"}}, \"type\": \"scattergeo\"}], \"scattergl\": [{\"marker\": {\"colorbar\": {\"outlinewidth\": 0, \"ticks\": \"\"}}, \"type\": \"scattergl\"}], \"scattermapbox\": [{\"marker\": {\"colorbar\": {\"outlinewidth\": 0, \"ticks\": \"\"}}, \"type\": \"scattermapbox\"}], \"scatterpolar\": [{\"marker\": {\"colorbar\": {\"outlinewidth\": 0, \"ticks\": \"\"}}, \"type\": \"scatterpolar\"}], \"scatterpolargl\": [{\"marker\": {\"colorbar\": {\"outlinewidth\": 0, \"ticks\": \"\"}}, \"type\": \"scatterpolargl\"}], \"scatterternary\": [{\"marker\": {\"colorbar\": {\"outlinewidth\": 0, \"ticks\": \"\"}}, \"type\": \"scatterternary\"}], \"surface\": [{\"colorbar\": {\"outlinewidth\": 0, \"ticks\": \"\"}, \"colorscale\": [[0.0, \"#0d0887\"], [0.1111111111111111, \"#46039f\"], [0.2222222222222222, \"#7201a8\"], [0.3333333333333333, \"#9c179e\"], [0.4444444444444444, \"#bd3786\"], [0.5555555555555556, \"#d8576b\"], [0.6666666666666666, \"#ed7953\"], [0.7777777777777778, \"#fb9f3a\"], [0.8888888888888888, \"#fdca26\"], [1.0, \"#f0f921\"]], \"type\": \"surface\"}], \"table\": [{\"cells\": {\"fill\": {\"color\": \"#EBF0F8\"}, \"line\": {\"color\": \"white\"}}, \"header\": {\"fill\": {\"color\": \"#C8D4E3\"}, \"line\": {\"color\": \"white\"}}, \"type\": \"table\"}]}, \"layout\": {\"annotationdefaults\": {\"arrowcolor\": \"#2a3f5f\", \"arrowhead\": 0, \"arrowwidth\": 1}, \"coloraxis\": {\"colorbar\": {\"outlinewidth\": 0, \"ticks\": \"\"}}, \"colorscale\": {\"diverging\": [[0, \"#8e0152\"], [0.1, \"#c51b7d\"], [0.2, \"#de77ae\"], [0.3, \"#f1b6da\"], [0.4, \"#fde0ef\"], [0.5, \"#f7f7f7\"], [0.6, \"#e6f5d0\"], [0.7, \"#b8e186\"], [0.8, \"#7fbc41\"], [0.9, \"#4d9221\"], [1, \"#276419\"]], \"sequential\": [[0.0, \"#0d0887\"], [0.1111111111111111, \"#46039f\"], [0.2222222222222222, \"#7201a8\"], [0.3333333333333333, \"#9c179e\"], [0.4444444444444444, \"#bd3786\"], [0.5555555555555556, \"#d8576b\"], [0.6666666666666666, \"#ed7953\"], [0.7777777777777778, \"#fb9f3a\"], [0.8888888888888888, \"#fdca26\"], [1.0, \"#f0f921\"]], \"sequentialminus\": [[0.0, \"#0d0887\"], [0.1111111111111111, \"#46039f\"], [0.2222222222222222, \"#7201a8\"], [0.3333333333333333, \"#9c179e\"], [0.4444444444444444, \"#bd3786\"], [0.5555555555555556, \"#d8576b\"], [0.6666666666666666, \"#ed7953\"], [0.7777777777777778, \"#fb9f3a\"], [0.8888888888888888, \"#fdca26\"], [1.0, \"#f0f921\"]]}, \"colorway\": [\"#636efa\", \"#EF553B\", \"#00cc96\", \"#ab63fa\", \"#FFA15A\", \"#19d3f3\", \"#FF6692\", \"#B6E880\", \"#FF97FF\", \"#FECB52\"], \"font\": {\"color\": \"#2a3f5f\"}, \"geo\": {\"bgcolor\": \"white\", \"lakecolor\": \"white\", \"landcolor\": \"#E5ECF6\", \"showlakes\": true, \"showland\": true, \"subunitcolor\": \"white\"}, \"hoverlabel\": {\"align\": \"left\"}, \"hovermode\": \"closest\", \"mapbox\": {\"style\": \"light\"}, \"paper_bgcolor\": \"white\", \"plot_bgcolor\": \"#E5ECF6\", \"polar\": {\"angularaxis\": {\"gridcolor\": \"white\", \"linecolor\": \"white\", \"ticks\": \"\"}, \"bgcolor\": \"#E5ECF6\", \"radialaxis\": {\"gridcolor\": \"white\", \"linecolor\": \"white\", \"ticks\": \"\"}}, \"scene\": {\"xaxis\": {\"backgroundcolor\": \"#E5ECF6\", \"gridcolor\": \"white\", \"gridwidth\": 2, \"linecolor\": \"white\", \"showbackground\": true, \"ticks\": \"\", \"zerolinecolor\": \"white\"}, \"yaxis\": {\"backgroundcolor\": \"#E5ECF6\", \"gridcolor\": \"white\", \"gridwidth\": 2, \"linecolor\": \"white\", \"showbackground\": true, \"ticks\": \"\", \"zerolinecolor\": \"white\"}, \"zaxis\": {\"backgroundcolor\": \"#E5ECF6\", \"gridcolor\": \"white\", \"gridwidth\": 2, \"linecolor\": \"white\", \"showbackground\": true, \"ticks\": \"\", \"zerolinecolor\": \"white\"}}, \"shapedefaults\": {\"line\": {\"color\": \"#2a3f5f\"}}, \"ternary\": {\"aaxis\": {\"gridcolor\": \"white\", \"linecolor\": \"white\", \"ticks\": \"\"}, \"baxis\": {\"gridcolor\": \"white\", \"linecolor\": \"white\", \"ticks\": \"\"}, \"bgcolor\": \"#E5ECF6\", \"caxis\": {\"gridcolor\": \"white\", \"linecolor\": \"white\", \"ticks\": \"\"}}, \"title\": {\"x\": 0.05}, \"xaxis\": {\"automargin\": true, \"gridcolor\": \"white\", \"linecolor\": \"white\", \"ticks\": \"\", \"title\": {\"standoff\": 15}, \"zerolinecolor\": \"white\", \"zerolinewidth\": 2}, \"yaxis\": {\"automargin\": true, \"gridcolor\": \"white\", \"linecolor\": \"white\", \"ticks\": \"\", \"title\": {\"standoff\": 15}, \"zerolinecolor\": \"white\", \"zerolinewidth\": 2}}}, \"title\": {\"text\": \"Explained variance by different principal components\"}, \"yaxis\": {\"title\": {\"text\": \"Explained variance in percent\"}}},\n",
              "                        {\"responsive\": true}\n",
              "                    ).then(function(){\n",
              "                            \n",
              "var gd = document.getElementById('8306f436-a7a2-4f95-b928-63efa3c40b1d');\n",
              "var x = new MutationObserver(function (mutations, observer) {{\n",
              "        var display = window.getComputedStyle(gd).display;\n",
              "        if (!display || display === 'none') {{\n",
              "            console.log([gd, 'removed!']);\n",
              "            Plotly.purge(gd);\n",
              "            observer.disconnect();\n",
              "        }}\n",
              "}});\n",
              "\n",
              "// Listen for the removal of the full notebook cells\n",
              "var notebookContainer = gd.closest('#notebook-container');\n",
              "if (notebookContainer) {{\n",
              "    x.observe(notebookContainer, {childList: true});\n",
              "}}\n",
              "\n",
              "// Listen for the clearing of the current output cell\n",
              "var outputEl = gd.closest('.output');\n",
              "if (outputEl) {{\n",
              "    x.observe(outputEl, {childList: true});\n",
              "}}\n",
              "\n",
              "                        })\n",
              "                };\n",
              "                \n",
              "            </script>\n",
              "        </div>\n",
              "</body>\n",
              "</html>"
            ]
          },
          "metadata": {
            "tags": []
          }
        }
      ]
    },
    {
      "cell_type": "markdown",
      "metadata": {
        "id": "4ZLspOUBeVfO",
        "colab_type": "text"
      },
      "source": [
        "The plot above clearly shows that most of the variance (70.46% of the variance to be precise) can be explained by the first principal component alone. The first six principal components contain 95.66% of the information."
      ]
    },
    {
      "cell_type": "markdown",
      "metadata": {
        "id": "xQww-qtnfC5p",
        "colab_type": "text"
      },
      "source": [
        "### Projection Matrix\n",
        "The construction of the projection matrix that will be used to transform the data onto the new feature subspace."
      ]
    },
    {
      "cell_type": "code",
      "metadata": {
        "id": "A5xTeo9xdjOA",
        "colab_type": "code",
        "colab": {}
      },
      "source": [
        "matrix_w = np.hstack((eig_pairs[0][1].reshape(21,1), \n",
        "                      eig_pairs[1][1].reshape(21,1), \n",
        "                      eig_pairs[2][1].reshape(21,1)))\n",
        "\n",
        "# print('Matrix W:\\n', matrix_w)\n",
        "Y = X_std.dot(matrix_w)"
      ],
      "execution_count": 0,
      "outputs": []
    },
    {
      "cell_type": "markdown",
      "metadata": {
        "id": "H2Zv8BJNIGbx",
        "colab_type": "text"
      },
      "source": [
        "Visualizing PCA results by 3d scatter chart."
      ]
    },
    {
      "cell_type": "code",
      "metadata": {
        "id": "Q8k876mRf72n",
        "colab_type": "code",
        "outputId": "5305caa4-c7a7-4c40-937d-c2280c6a7da6",
        "colab": {
          "base_uri": "https://localhost:8080/",
          "height": 542
        }
      },
      "source": [
        "import plotly.graph_objects as go\n",
        "\n",
        "data = []\n",
        "\n",
        "colors = {'Center': '#0D76BF', \n",
        "          'Center-Forward': '#804040', \n",
        "          'Guard': '#EF553B', \n",
        "          'Forward': '#48c0a3', \n",
        "          'Forward-Guard': '#f0c239', \n",
        "          'Guard-Forward': '#161823', \n",
        "          'Forward-Center': '#827100'}\n",
        "\n",
        "for position, col in zip(('Center', \n",
        "                          'Center-Forward', \n",
        "                          'Guard', \n",
        "                          'Forward', \n",
        "                          'Forward-Guard', \n",
        "                          'Guard-Forward', \n",
        "                          'Forward-Center'), colors.values()):\n",
        "    index = df_active_player_positions.index[df_active_player_positions['POSITION'] == position]\n",
        "    playerID = df_active_player_positions[df_active_player_positions['POSITION'] == position]['PLAYER_ID']\n",
        "    trace = go.Scatter3d(\n",
        "        x = Y[index, 0],\n",
        "        y = Y[index, 1],\n",
        "        z = Y[index, 2],\n",
        "        text = list(df_playerID_name_pairs.loc[playerID]['NAME']),\n",
        "        mode = 'markers',\n",
        "        name = position,\n",
        "        marker = dict(\n",
        "            color = col,\n",
        "            size = 12,\n",
        "            line = dict(\n",
        "                color = 'rgba(217, 217, 217, 0.14)',\n",
        "                width = 0.5),\n",
        "                opacity = 0.8\n",
        "        )\n",
        "    )\n",
        "    data.append(trace)\n",
        "\n",
        "layout = dict(\n",
        "    showlegend = True,\n",
        "    scene = dict(\n",
        "        xaxis = dict(title = 'PC1'),\n",
        "        yaxis = dict(title = 'PC2'),\n",
        "        zaxis = dict(title = 'PC3')\n",
        "    )\n",
        ")\n",
        "\n",
        "fig = go.Figure(data=data, layout=layout)\n",
        "py.iplot(fig, filename='projection.html')"
      ],
      "execution_count": 0,
      "outputs": [
        {
          "output_type": "display_data",
          "data": {
            "text/html": [
              "<html>\n",
              "<head><meta charset=\"utf-8\" /></head>\n",
              "<body>\n",
              "    <div>\n",
              "            <script src=\"https://cdnjs.cloudflare.com/ajax/libs/mathjax/2.7.5/MathJax.js?config=TeX-AMS-MML_SVG\"></script><script type=\"text/javascript\">if (window.MathJax) {MathJax.Hub.Config({SVG: {font: \"STIX-Web\"}});}</script>\n",
              "                <script type=\"text/javascript\">window.PlotlyConfig = {MathJaxConfig: 'local'};</script>\n",
              "        <script src=\"https://cdn.plot.ly/plotly-latest.min.js\"></script>    \n",
              "            <div id=\"3e3bc804-8669-495a-9c07-12459c5d52a8\" class=\"plotly-graph-div\" style=\"height:525px; width:100%;\"></div>\n",
              "            <script type=\"text/javascript\">\n",
              "                \n",
              "                    window.PLOTLYENV=window.PLOTLYENV || {};\n",
              "                    \n",
              "                if (document.getElementById(\"3e3bc804-8669-495a-9c07-12459c5d52a8\")) {\n",
              "                    Plotly.newPlot(\n",
              "                        '3e3bc804-8669-495a-9c07-12459c5d52a8',\n",
              "                        [{\"marker\": {\"color\": \"#0D76BF\", \"line\": {\"color\": \"rgba(217, 217, 217, 0.14)\", \"width\": 0.5}, \"opacity\": 0.8, \"size\": 12}, \"mode\": \"markers\", \"name\": \"Center\", \"text\": [\"Steven Adams\", \"Jarrett Allen\", \"Deandre Ayton\", \"Mo Bamba\", \"Khem Birch\", \"Bismack Biyombo\", \"Marques Bolden\", \"Moses Brown\", \"Clint Capela\", \"Willie Cauley-Stein\", \"Tyson Chandler\", \"DeMarcus Cousins\", \"Dewayne Dedmon\", \"Gorgui Dieng\", \"Andre Drummond\", \"Tacko Fall\", \"Marc Gasol\", \"Rudy Gobert\", \"Nikola Jokic\", \"Damian Jones\", \"DeAndre Jordan\", \"Enes Kanter\", \"Alex Len\", \"Brook Lopez\", \"Robin Lopez\", \"Ian Mahinmi\", \"Boban Marjanovic\", \"Jusuf Nurkic\", \"Jakob Poeltl\", \"Jonas Valanciunas\", \"Nikola Vucevic\", \"Hassan Whiteside\", \"Ante Zizic\", \"Ivica Zubac\"], \"type\": \"scatter3d\", \"x\": [2.5669009856653595, -0.8643287316819543, -1.8376922230839865, -2.3812162809143795, -2.414718604375501, 1.888672625590726, -3.701642340835028, -3.276044806301221, 0.9198851462311823, 0.2952378103867133, 9.814949270470622, 7.573368204471259, 0.21211414414307703, 1.6676592289182328, 6.401691503645699, -3.1687145396987693, 8.773127408491112, 3.1537440143116715, 2.60774697669509, -2.381346618788268, 7.584121405509992, 3.252440998354829, 1.1275269846950984, 7.614519363622376, 4.206106670200183, 1.2309476204988694, -1.7642814446041009, 0.6476598924091926, -1.1208446917392647, 3.443636410633705, 4.95943936107288, 2.4805760377031962, -2.5044005288878233, -1.6889654854461498], \"y\": [-4.05029602365234, -1.6283306469071324, -1.4853030078681555, -0.2818565858974958, -1.3821549129801358, -4.239382310966351, -0.997775485199968, -1.0638481437199345, -3.587161676036916, -1.652923246663045, -8.24412903122769, -2.3050142834280183, -1.0546926630132565, -1.4916405581577206, -6.067543610355602, -1.8073533202127956, -2.757141578327354, -4.899985555747947, -0.6040318354834049, -0.5864510669178132, -7.563509506093944, -2.602652375313812, -1.691018212908129, -2.829452557857231, -3.680456759164789, -2.4707971292511384, -0.39147407056933264, -2.3231535256052545, -0.8257846277232042, -2.5865077177642295, -2.3564110808369696, -3.716104088084949, -1.24748829243501, -1.5864123819185345], \"z\": [0.03554353068296558, 0.9006081705637797, 0.19360627711063583, 0.3624160238448303, -0.17875405533835015, 0.0059583868546090645, -5.311555232064471, -1.3170778310051738, 0.1989252505665113, 0.3711130877168955, 1.111325705241012, 0.04428765540717748, 1.1658899431273773, 1.2354900644283744, 0.23385271612744507, -0.046567571724602, 0.5926888656638559, 0.7112309372261757, 0.9024069206823414, 1.5231431345021718, 1.2934594628438214, 1.2825109646292103, 0.8960557381127469, 0.9428983356358017, 1.3274755379022791, 0.42806295683148765, 1.4118201774982524, -0.2013035615861018, 1.8705517873106505, 1.7294018067676586, 0.9206409624723145, 1.3063552866490566, 0.14493337883273735, 0.13968963300672602]}, {\"marker\": {\"color\": \"#804040\", \"line\": {\"color\": \"rgba(217, 217, 217, 0.14)\", \"width\": 0.5}, \"opacity\": 0.8, \"size\": 12}, \"mode\": \"markers\", \"name\": \"Center-Forward\", \"text\": [\"Bam Adebayo\", \"LaMarcus Aldridge\", \"Aron Baynes\", \"Goga Bitadze\", \"Tony Bradley\", \"Thomas Bryant\", \"Wendell Carter Jr.\", \"Ed Davis\", \"Joel Embiid\", \"Isaiah Hartenstein\", \"Jaxson Hayes\", \"Dewan Hernandez\", \"Willy Hernangomez\", \"Nene\", \"Al Horford\", \"Dwight Howard\", \"JaVale McGee\", \"Eric Mika\", \"Nerlens Noel\", \"Kyle O'Quinn\", \"Jahlil Okafor\", \"Anzejs Pasecniks\", \"Vincent Poirier\", \"Naz Reid\", \"Mitchell Robinson\", \"Tristan Thompson\", \"Karl-Anthony Towns\", \"Myles Turner\", \"Robert Williams III\"], \"type\": \"scatter3d\", \"x\": [-0.942329645669724, 11.352373208668626, 0.09572110973755242, -2.9652937756019426, -2.9382929967087255, -1.9169744846138845, -2.061924796144995, 2.168778334311362, 0.8414584808698914, -2.792687774332424, -2.621804478543157, -3.241679135189486, -1.5758603354551695, 7.669404246360944, 7.927882627390342, 15.736441749535276, 2.632496577000206, -2.9946238252297688, 0.4254526863141344, 0.13731294269754965, -1.107850625799719, -3.057226313524544, -2.867216719837162, -3.005392400601328, -1.9912851773186688, 3.441696491055407, 3.5897492937333992, 1.0467775262548094, -2.86798477077289], \"y\": [-1.3895976180868232, -4.326909920338262, -1.0032050346775399, -0.41082911139593487, -1.2500998444476978, -0.30912243984612725, -0.6174389993752457, -4.1077256885420494, -0.5895139136504686, -0.4455485320280467, -0.6644678456800387, 0.03469307602180919, -0.4509986173705412, -3.937656897470487, -2.8376750087157685, -9.722759103672061, -3.954697516460011, -0.7505230140079977, -1.7273651805308556, -1.628908787186136, -0.9900546250054282, -1.0993153570807936, 0.8933064964468591, 0.1900854667898979, -2.119838544269241, -3.870766460480884, -1.0630518575915375, -1.0050977766010405, -1.5154725565972575], \"z\": [0.39816561992839455, 0.7486697796691896, 1.1141662498740388, -0.001336800931313781, -0.07453741684912313, 1.4425052736786903, 0.53892530680911, 0.21431157367142561, 0.6197530498003984, 1.0394812963203257, 1.1627358482615961, -1.273956406817158, 0.9496937454440835, 0.013997988662034775, 1.0523386088455662, 0.6549411200068626, 0.8811400354105937, 1.4013865057392543, 0.8240239086564389, 0.8494082517267346, 0.5667692780991113, -0.4768972030239346, 1.543935239164255, 0.024987954100892575, 0.6547103901733836, 0.46827002186900885, 1.3495873103019502, 1.0583935961820927, 0.38153478968757626]}, {\"marker\": {\"color\": \"#EF553B\", \"line\": {\"color\": \"rgba(217, 217, 217, 0.14)\", \"width\": 0.5}, \"opacity\": 0.8, \"size\": 12}, \"mode\": \"markers\", \"name\": \"Guard\", \"text\": [\"Nickeil Alexander-Walker\", \"Grayson Allen\", \"Kadeem Allen\", \"Ryan Arcidiacono\", \"D.J. Augustin\", \"Lonzo Ball\", \"J.J. Barea\", \"Will Barton\", \"Bradley Beal\", \"Malik Beasley\", \"Marco Belinelli\", \"Patrick Beverley\", \"Eric Bledsoe\", \"Bogdan Bogdanovic\", \"Jordan Bone\", \"Isaac Bonga\", \"Devin Booker\", \"Ky Bowman\", \"Avery Bradley\", \"Malcolm Brogdon\", \"Charles Brown Jr.\", \"Jalen Brunson\", \"Trey Burke\", \"Alec Burks\", \"Kentavious Caldwell-Pope\", \"Jevon Carter\", \"Michael Carter-Williams\", \"Alex Caruso\", \"Chris Chiozza\", \"Jordan Clarkson\", \"Chris Clemons\", \"Antonius Cleveland\", \"Mike Conley\", \"Pat Connaughton\", \"Quinn Cook\", \"Seth Curry\", \"Stephen Curry\", \"Troy Daniels\", \"Terence Davis\", \"Matthew Dellavedova\", \"Donte DiVincenzo\", \"Hamidou Diallo\", \"Spencer Dinwiddie\", \"Luguentz Dort\", \"Damyean Dotson\", \"Goran Dragic\", \"Kris Dunn\", \"Carsen Edwards\", \"Wayne Ellington\", \"Dante Exum\", \"Terrance Ferguson\", \"Yogi Ferrell\", \"Bryn Forbes\", \"De'Aaron Fox\", \"Michael Frazier\", \"Tim Frazier\", \"Markelle Fultz\", \"Langston Galloway\", \"Darius Garland\", \"Brandon Goodwin\", \"Eric Gordon\", \"Devonte' Graham\", \"Josh Gray\", \"Danny Green\", \"Marko Guduric\", \"Kyle Guy\", \"James Harden\", \"Jared Harper\", \"Gary Harris\", \"Shaquille Harrison\", \"Josh Hart\", \"Tyler Herro\", \"Buddy Hield\", \"George Hill\", \"Aaron Holiday\", \"Jrue Holiday\", \"Talen Horton-Tucker\", \"Kyrie Irving\", \"Frank Jackson\", \"Reggie Jackson\", \"Tyler Johnson\", \"Tyus Jones\", \"Cory Joseph\", \"Luke Kennard\", \"Brandon Knight\", \"John Konchar\", \"Caris LeVert\", \"Jalen Lecque\", \"Courtney Lee\", \"Damian Lillard\", \"Kyle Lowry\", \"Jeremiah Martin\", \"Frank Mason\", \"Garrison Mathews\", \"Wesley Matthews\", \"Patrick McCaw\", \"CJ McCollum\", \"T.J. McConnell\", \"Rodney McGruder\", \"Jordan McLaughlin\", \"Ben McLemore\", \"Jordan McRae\", \"De'Anthony Melton\", \"Patty Mills\", \"Donovan Mitchell\", \"Naz Mitrou-Long\", \"Adam Mokoka\", \"Malik Monk\", \"Matt Mooney\", \"E'Twaun Moore\", \"Ja Morant\", \"Monte Morris\", \"Emmanuel Mudiay\", \"Dejounte Murray\", \"Jamal Murray\", \"Shabazz Napier\", \"Raul Neto\", \"Jaylen Nowell\", \"Frank Ntilikina\", \"Kendrick Nunn\", \"Josh Okogie\", \"Victor Oladipo\", \"Chris Paul\", \"Elfrid Payton\", \"Gary Payton II\", \"Jordan Poole\", \"Norman Powell\", \"JJ Redick\", \"Josh Richardson\", \"Austin Rivers\", \"Jerome Robinson\", \"Rajon Rondo\", \"Derrick Rose\", \"Terry Rozier\", \"Ricky Rubio\", \"D'Angelo Russell\", \"Tomas Satoransky\", \"Dennis Schroder\", \"Collin Sexton\", \"Landry Shamet\", \"Kobi Simmons\", \"Anfernee Simons\", \"Marcus Smart\", \"Ish Smith\", \"Zhaire Smith\", \"Dennis Smith Jr.\", \"Tony Snell\", \"Edmond Sumner\", \"Jeff Teague\", \"Isaiah Thomas\", \"Khyri Thomas\", \"Matt Thomas\", \"Klay Thompson\", \"Allonzo Trier\", \"Rayjon Tucker\", \"Denzel Valentine\", \"Fred VanVleet\", \"Gabe Vincent\", \"Dion Waiters\", \"Kemba Walker\", \"John Wall\", \"Derrick Walton Jr.\", \"Brad Wanamaker\", \"Tremont Waters\", \"Paul Watson\", \"Russell Westbrook\", \"Coby White\", \"Derrick White\", \"Lou Williams\", \"Nigel Williams-Goss\", \"Delon Wright\", \"Trae Young\"], \"type\": \"scatter3d\", \"x\": [-2.930286480190397, -2.6828602766667426, -2.78256716883431, -2.0636586651439504, 4.345743931646924, -1.246343874100548, 3.096087779774651, 1.6008685164366252, 4.861777843976148, -1.7727585479211077, 3.5942510132315384, 1.6471189741328824, 4.758169282213365, -0.9774043412107328, -3.6029079584643866, -2.6933965673282656, 2.0329399528222303, -2.7465371551315965, 2.5657413501144792, -0.500983773808729, -3.0072677098781475, -2.0928139479736694, 0.17232075985538012, 1.0062745684078744, 2.331115876045343, -2.6515984338004057, 0.7351764359083772, -2.3180011034219716, -3.2872070519855385, 1.5031847819253694, -2.911745353151724, -2.935070962461796, 7.355979454755049, -1.663311819397804, -2.106986978712428, -1.1080276244654332, 9.417250727478631, -1.1464118123585287, -2.561310768268943, -0.20730553454385353, -2.466945155657135, -2.7390956352194125, 0.2522790723426212, -2.967146175121148, -1.9309798617858873, 6.188516344158271, -0.8423610133892134, -2.9748626677290857, 1.6063013716098682, -1.5815722846235845, -1.9112704159754177, -1.304546396991629, -1.1704965073156002, -0.5666438917531111, -3.1152917821454635, -1.242477454206166, -2.311271294320424, -0.020678892387917463, -2.4659497073521757, -2.8626967459900117, 5.335222527209951, -2.010073775090794, -3.1799288791184335, 3.634575187255744, -2.8962161825863797, -3.433009858428874, 12.60768613940004, -3.566152314101974, 0.6535945139252773, -2.3069734302410656, -1.4535330119955547, -2.5466144649117495, 0.5890638494816304, 4.667594642774306, -2.312524690912574, 6.469593568274308, -3.7010942408867056, 5.334718198460139, -2.461634987671773, 2.6555313958092346, -0.24884036591954642, -1.2614865245307396, 0.9735786383667813, -1.6404629912982511, 2.141589282626792, -3.4277740148026155, -1.1035239253010145, -3.1228275159426753, 3.908612007171776, 7.298424605984935, 9.428537758673224, -3.566071202882985, -2.5148026986741066, -2.856441914152295, 5.893721821185071, -2.1255193005043966, 2.795316457346978, -0.3445505733554687, -1.6403915007300252, -3.014538573491541, 0.5361425395818156, -2.3747294485375803, -2.3327507833478767, 1.7261223413391393, 0.2848005745041532, -3.016371383949415, -3.6953921310329836, -1.7848702442972022, -3.4314101113761035, 0.9226946320960349, -2.385951543396649, -1.9835428672280944, -0.195930660640997, -1.6330709338618088, 0.385642698495994, -0.8344171662445647, -1.7805189405785076, -3.1202996278688397, -1.84466345180537, -2.440170115320368, -1.9899267718164748, 2.7939693624957562, 12.867285157125034, 1.2286541300399134, -2.894368600533369, -2.799871594841036, -0.8946519031667468, 5.47813830986487, 0.39208661171328685, 1.2616117467327292, -2.853512546474883, 7.2856065186492245, 4.588231784103482, -0.23863337936332357, 4.106765705118113, 1.1947686783974993, -0.8269868921628175, 2.109496968344032, -1.3334003415900109, -2.0379641069045697, -2.7926093901280695, -2.6253982740527917, 1.1352627348893076, 1.134760454733001, -3.0757254026742187, -1.3605465234900977, 0.2915667401278928, -2.948592212240732, 5.560468609550488, 3.972120905183898, -3.1017683239900253, -2.89692812880112, 5.460817132493336, -2.352276724346467, -3.244313791890208, -1.739064785756292, -0.9915352998550637, -3.4179455444916953, 1.2452041485199083, 6.6968576765954175, 6.31521386622522, -2.8683468632199993, -2.5123565910654064, -3.061899909825559, -3.5239518850590787, 13.041109012649386, -2.6111590230713673, -1.82949862873642, 7.19900512230411, -3.2673510663927243, -1.192641838133628, -0.7845935538633219], \"y\": [0.35269049764883786, 0.5286428508704859, 0.39308143863896505, 0.7352515379270477, 2.6814698557619785, 0.24115934741309095, 1.9862399455038977, 0.6807517311763477, 2.053391607360063, 0.8836385113405305, 2.4615781342505385, 0.8418646246568687, 0.9521046815646022, 1.0652009896551096, -1.2758243744471283, 0.10750067196119449, 1.4929356602915909, 0.5326358275091863, 1.2020705226557633, 0.9729457560079829, 0.8564795698536072, 0.4606651759917285, 1.283041646555608, 0.6656135752191917, 1.5177678702998372, 0.7118392302493233, -0.1195679306059679, 0.5389433123190751, -0.30884666807369465, 1.2804429166937292, 0.5600449965622633, 1.0230044778784064, 2.5594448013797986, 0.3987437109283066, 0.7528853248067336, 1.2594053282669613, 4.739354765942916, 1.4517824606583254, 0.7773730734608105, 1.2454987916074842, 0.3086826889266284, -0.44177030804785855, 1.0410737435433786, 0.2774941144244754, 0.6398309815257829, 1.7460922282567242, 0.2636283717012167, 0.5795169758765004, 2.0332521330528324, 0.47645853379084124, 0.5685080759273161, 0.9779489750640514, 1.1661082094060569, 0.4766114171987212, 0.34010598231143035, 0.46821128878559953, -0.05437587712938731, 1.2933311962952554, 0.7978160336528601, 0.6475614415161067, 2.8995928418588295, 0.961645188221305, 0.11043141798455984, 1.379933432305824, 0.5051245037306519, -1.8376425270863073, 3.7605854354757886, -1.416878668355439, 1.1301034209946765, -0.0032838611742625166, 0.47350949522505464, 0.7805971442309305, 1.6204498074193596, 1.4760882013969936, 0.8025378012603085, 1.4945503563748057, -0.9963608277129259, 2.339445257358557, 0.3634407731165074, 1.4858110128875095, 0.7325642809682873, 0.7847555057603547, 0.45216769456619166, 1.0081505893122247, 1.5603453757011643, -1.8376083964743524, 0.51840490608535, -0.3450629641474509, 1.4290524326169451, 3.4483799812734617, 2.761519404714709, -1.4174064339380401, 0.3680851100884465, 0.7919892210302106, 2.7977040503031407, 0.37768815930078553, 1.8268473789064996, 0.3491371634763795, 0.2635087716996783, 0.1893283096365504, 1.078321627934598, 0.5276778911541624, 0.3419622381611379, 2.3434474828165306, 1.2070318113507899, 0.4526523320501654, -0.9991267804826534, 0.8480117154409579, -1.8393927400859682, 0.9814601785592127, 0.47316878949896524, 0.767227915380807, 0.6719203189876911, 0.06526680639433156, 1.2146670163031048, 1.0096566805515306, 0.6697778592416934, -0.014246964729507778, 0.5110256130223149, 0.6107037940149633, 0.15708344007836186, 1.098168504857021, 3.313560112889002, -0.07761008173034235, -0.3176561385071594, 0.5545432592750947, 0.7420046467580227, 3.619254836662452, 0.920151012368985, 1.0200523516306557, 0.16234990960486803, 0.43132219314108783, 0.9691247777481287, 1.0875601290107564, 1.2850299168062065, 1.6224446419434653, 0.5677447383599381, 1.4293260228456333, 0.8494717197520858, 1.037701065787958, 0.5262025408483397, 0.41030493279462743, 1.007516334370261, 0.4396805054656881, 0.2697351975101111, 0.44219762517560024, 1.2003760024973409, 0.041592011450898594, 1.6670402390009855, 2.4424582606772933, 0.18509845416004642, 0.6047727621986112, 2.9646764820085667, 0.5425835245990723, -0.88427076554652, 0.8007756467278498, 1.1800516019208354, -0.5010179957088006, 1.1562981956582858, 2.8319741166020913, 1.1665185792795243, 0.798931411613097, 0.6904844911992896, 0.16090059981948204, -0.3104693064279828, 1.0732829667004915, 0.5651948926105831, 0.3765589303715743, 2.9076319247070566, 0.13177440927745354, 0.3939425196247124, 1.0994517959409886], \"z\": [-0.45033930186491133, 0.45928119988096733, 0.5334667924542371, 0.7543636593063688, -0.5144910511850673, -0.841878651631547, -0.3933841453338666, 0.16740693834777168, -0.3659350204470206, 0.7341161268390852, -0.1377735894635526, 0.15337968600628316, -0.3824081866357515, 0.45192763483655596, -4.356012868879291, 0.548879054153686, 0.06464275362486621, 0.5713823264429516, 0.04165876657630264, 1.0090879096913155, 0.5282571486104628, 0.6111152533243812, -0.004643656671366047, 0.1583371039395887, -0.09843428202389844, 0.19858110935586643, -0.5149118887467384, 0.61918015541976, -2.316981464211275, 0.09968470050772821, 0.6412470756050459, 0.7556440985097851, -1.0318550798415584, 0.6051728093477299, 0.9235979595527483, 1.0481715575779136, -0.9429551755161841, 0.4478288705839111, 1.5185193040271565, 0.21179141726577583, 0.44340214401634276, -0.314202329686776, -0.12755249717891481, 0.25282357228408586, 0.314862007539945, -0.6669399660324878, 0.021234551902700197, 0.010241272066247576, 0.17819261311830967, 0.10159377695386249, 0.4187271936109454, 0.5678036907679026, 0.5215362590402943, 0.07718175088390183, -0.25638772653068925, 0.05463895550264758, -0.04454364303504884, 0.18489181305418015, 0.5834051275415614, 0.5945166822375321, -0.7155647876352339, 0.1427736457055066, -1.0889039600959383, 0.317445175058698, 0.3918519760411265, -2.444870473617873, -2.0936697028159457, -3.8781288846152675, 0.3215626541189673, 0.06385713875937896, 0.3271071782037679, 0.75157676041663, 0.627656696072928, -0.04032849883786845, 0.7299073961173652, -0.6980747548184459, -5.31193643724276, -0.2746432180020425, 0.26724670231121544, -0.15156264865710853, 0.3013705250259763, 0.39817669207203893, 0.16482015299504324, 0.9079493339030992, -0.2782621274888407, -2.444536483502293, 0.052643493286449274, 0.03494057411042917, 0.31798873036090036, -1.0451387768547855, -1.3827385603217797, -3.878448793700404, 0.08133163807312263, 1.4011280203214385, -0.5068122461744132, 0.3857372554212829, 0.20343083339770604, 0.5662044001541304, -0.02504339464298409, -0.040980648033812274, 0.19141452289181174, 0.5501207424422921, 0.4511124129931646, 0.1779917471965235, 0.21232820707737018, 0.33320913153668913, -5.310462505790884, 0.30526339719946244, -2.444355331820396, 0.37438315070051603, 1.0228660229500848, 1.0121154761353846, -0.19181676375165108, 0.4754215703982913, 0.45458699506544303, 0.1454019740277224, 0.6206417792344111, -0.3100457893698651, -0.06705884591499747, 0.8273786422467028, -0.04098463945823986, -0.14852374334899257, -2.0010520714979183, -0.4463162001985973, -0.7923949534809329, -0.4625373185199429, 0.6493021524886319, -0.20512410276818926, 0.3698849661600369, -0.43748366970849273, -0.4527614273568206, -1.4041429646602448, -0.5218204100166707, 0.16534547248180506, -0.8095980359199549, -0.24781241373760882, 0.8300683887771041, -0.17266128885577084, 0.7594076132576287, 0.8580014255841686, 0.9512539162536164, 0.2952059515253985, -0.4171809577176304, -0.31901476739224705, -0.2246675428258151, -0.3298188401405918, 0.5826629590868794, -0.2618425057442609, -0.5973582807107536, -0.465239844825957, -0.7288483748831822, 1.0596259234663896, -0.04320338565141546, 0.7705952937700329, -1.162643262338036, 0.34203914908355454, 0.47544077322711165, -2.85402823213319, -0.40248764965652045, -1.0655947793863476, -1.151704311183357, 0.9767652034551122, 1.053650223780647, 0.15421585063233245, -3.8670320645394702, -2.135169327901634, 0.055755937713879586, 0.818220682207395, -1.2514234991591213, -1.601488359704588, 0.5672331364628139, 0.25474125744392817]}, {\"marker\": {\"color\": \"#48c0a3\", \"line\": {\"color\": \"rgba(217, 217, 217, 0.14)\", \"width\": 0.5}, \"opacity\": 0.8, \"size\": 12}, \"mode\": \"markers\", \"name\": \"Forward\", \"text\": [\"Al-Farouq Aminu\", \"Giannis Antetokounmpo\", \"Kostas Antetokounmpo\", \"Thanasis Antetokounmpo\", \"Carmelo Anthony\", \"OG Anunoby\", \"Trevor Ariza\", \"Marvin Bagley III\", \"Harrison Barnes\", \"Keita Bates-Diop\", \"Jordan Bell\", \"Dragan Bender\", \"Davis Bertans\", \"Nemanja Bjelica\", \"Bojan Bogdanovic\", \"Jonah Bolden\", \"Jarrell Brantley\", \"Ignas Brazdeikis\", \"Mikal Bridges\", \"Miles Bridges\", \"Jimmy Butler\", \"Bruno Caboclo\", \"Vlatko Cancar\", \"DeMarre Carroll\", \"Wilson Chandler\", \"Zylan Cheatham\", \"Marquese Chriss\", \"Gary Clark\", \"John Collins\", \"Robert Covington\", \"Torrey Craig\", \"Jae Crowder\", \"Sekou Doumbouya\", \"Jared Dudley\", \"Kevin Durant\", \"James Ennis III\", \"Derrick Favors\", \"Dorian Finney-Smith\", \"Wenyen Gabriel\", \"Danilo Gallinari\", \"Paul George\", \"Taj Gibson\", \"Aaron Gordon\", \"Jerami Grant\", \"Draymond Green\", \"Blake Griffin\", \"Rui Hachimura\", \"Tobias Harris\", \"Udonis Haslem\", \"Gordon Hayward\", \"Juancho Hernangomez\", \"Kevin Hervey\", \"Solomon Hill\", \"Jaylen Hoard\", \"Rondae Hollis-Jefferson\", \"Richaun Holmes\", \"Serge Ibaka\", \"Ersan Ilyasova\", \"Brandon Ingram\", \"Jonathan Isaac\", \"Wes Iwundu\", \"Justin Jackson\", \"LeBron James\", \"Amile Jefferson\", \"Alize Johnson\", \"BJ Johnson\", \"Cameron Johnson\", \"James Johnson\", \"Derrick Jones Jr.\", \"Michael Kidd-Gilchrist\", \"Louis King\", \"Maxi Kleber\", \"Kevin Knox II\", \"Rodions Kurucs\", \"Kyle Kuzma\", \"Vic Law\", \"Jake Layman\", \"TJ Leaf\", \"Kawhi Leonard\", \"Kevon Looney\", \"Trey Lyles\", \"Caleb Martin\", \"Cody Martin\", \"Kelan Martin\", \"Doug McDermott\", \"Nicolo Melli\", \"Khris Middleton\", \"Darius Miller\", \"Paul Millsap\", \"Juwan Morgan\", \"Markieff Morris\", \"Marcus Morris Sr.\", \"Johnathan Motley\", \"Abdel Nader\", \"Georges Niang\", \"Royce O'Neale\", \"Semi Ojeleye\", \"Cedi Osman\", \"Tariq Owens\", \"Jabari Parker\", \"Chandler Parsons\", \"Eric Paschall\", \"Patrick Patterson\", \"Norvel Pelle\", \"Michael Porter Jr.\", \"Otto Porter Jr.\", \"Bobby Portis\", \"Taurean Prince\", \"Duncan Robinson\", \"Glenn Robinson III\", \"Isaiah Roby\", \"JaKarr Sampson\", \"Dario Saric\", \"Mike Scott\", \"Pascal Siakam\", \"Chris Silva\", \"Alen Smailagic\", \"Ray Spalding\", \"Omari Spellman\", \"Caleb Swanigan\", \"Anthony Tolliver\", \"P.J. Tucker\", \"Jarred Vanderbilt\", \"Noah Vonleh\", \"T.J. Warren\", \"P.J. Washington\", \"Andrew Wiggins\", \"Grant Williams\", \"Johnathan Williams\", \"Marvin Williams\", \"Zion Williamson\", \"D.J. Wilson\", \"Christian Wood\", \"Thaddeus Young\"], \"type\": \"scatter3d\", \"x\": [3.543406345315699, 5.47659868030824, -3.523506465119283, -3.1927517867209314, 15.382438373247794, -1.5272351228581336, 8.53148569262319, -2.188836027392058, 3.4699237266339753, -2.695137610987361, -2.3315192887939036, -1.8352139211781955, -1.1192799559952225, -0.18719447126443073, 1.7889111142370795, -2.805873256918266, -3.697472606697374, -3.2078109989491947, -1.7776853390536187, -1.8207097275177895, 4.73953849409848, -2.5383120573718787, -2.9964045894663887, 2.183216063377737, 4.546576715934352, -3.478501592579637, -0.8878942248429009, -2.6925352182355224, -0.843377554580929, 2.0782147200211702, -2.056933508137188, 2.5176001383100575, -2.903979697456575, 3.7881419254581767, 12.794431931507612, -0.7145038846314412, 4.496564858053097, -1.1326556981496594, -3.2475755157539647, 4.728215069906507, 7.489386450569181, 4.639128761130912, 1.4636714335215222, 0.9397935180771327, 4.098431339869505, 7.292849043508352, -2.7770805104667033, 4.314372915765225, 4.254726477561544, 4.708917105912198, -1.9766200074170612, -3.6965518225917964, -0.45088031562402975, -3.231580900174748, -0.4002568784973365, -0.837666961711259, 6.746443719865509, 4.90801284300132, 0.039372613692342656, -1.5819562671514422, -2.132855662968995, -1.8336861190576212, 21.07648161782834, -3.1722837438537623, -3.0159384927924364, -2.9649425830473586, -2.7539185164498825, 2.2273639269365777, -2.0112274631777294, 0.9580765035316107, -3.2605049772484853, -1.464536445118149, -1.906853179734209, -2.302699403228212, -0.6961481756382183, -3.701836916185937, -2.2621728308255546, -2.589571458556338, 4.356399205201858, -1.8256302018611668, -0.6411494162938778, -3.320948547528276, -2.9077362019225266, -2.895344892011438, -0.5500722530395252, -2.7614813870861457, 3.5079301177707816, -1.4113669977925396, 10.01378193060328, -3.2586544905690418, 3.6990731706867273, 3.1102549783421387, -2.9230291616205992, -2.4217563950547643, -2.4720510706100294, -1.5744953450074164, -2.3889997254894837, -1.3142185542265097, -3.5653516583438143, 0.25871411485866996, 1.921699056114015, -2.5582693799837846, 1.7185297793520022, -3.15710531371665, -2.6732237103399754, 1.188151845791189, -0.360650482481309, -0.2765193646698242, -2.359904247274771, -1.4580876142464403, -3.7033009995391852, -1.9043484092673915, 0.27581568862089945, -0.023070115661903475, -0.24012225790791253, -2.9452637042408134, -2.985081505887319, -3.2274765471976257, -2.3220452863163183, -2.972794341162087, 1.7767368342566843, 3.2745053495126584, -3.142191990753608, -0.7257528250546705, 0.3085586117904589, -2.5070321820299104, 3.227088531765752, -2.835813069189096, -2.9778205865415863, 7.764076233732963, -2.895359083130831, -2.6534188328084785, -2.3095397457560365, 7.706059055436867], \"y\": [-0.7632852944653155, -1.6531901617399194, -0.3112609373164483, -1.3890529872467732, 0.17026262374630047, 0.16598093074956427, 1.3297009989707333, -0.2732189411013478, 0.7280635614128874, 0.1313736529340206, -1.0244561835962072, 0.15847764407856824, 1.095629817746224, 0.36816808737593104, 1.6722150330058903, -0.22350448465363246, -1.001617900743756, -0.020606830427491625, 0.39146337833392, 0.25398306244170915, 0.3043440492468148, 0.38776407428697074, 0.21435925895488878, 0.46504687409857803, 0.16873824968154924, -1.67343502866378, -0.41277994345860447, 0.6252674403985843, -0.5342519478657197, 1.056372767398955, -0.07216156859167971, 0.9550373641027988, 0.1641531090924119, 0.7694337633052611, 1.0698550126244732, 0.29084994530147207, -3.7119932127577693, 0.17632495130672682, -0.32534063664151935, 1.6014473512529395, 2.1131479754307665, -3.741796135365486, -0.19976278800231576, -0.5446182540013443, -0.6454696675807475, -1.2803215496190687, -0.06571726605086028, 0.4097433309552996, -3.447929359657456, 1.1569750682510487, 0.3382833978254723, -0.9964353925930892, 0.5162394368664074, -1.016857148282705, -0.7431423068632169, -1.084719910348776, -3.827108430992516, -0.379957621040942, 0.2506524900391403, 0.04328263012076063, 0.2461903615085407, 0.496203897338214, 1.3131900938209342, -1.1199769898769942, 0.6682051480920452, 0.6585878726200426, 0.5857041613056754, -0.7548374091269536, -0.2907985335316612, -1.359409028839107, -0.4869691053846003, 0.14951567454219297, 0.4913144242208394, 0.31791921948770335, 0.5246684728767752, -0.9969974336094316, 0.15042359689467114, -0.008825404552549758, 0.5278761579657277, -1.1384654708688977, 0.15724014073234494, -0.6819650364438726, -0.036083054588242396, 0.5489142068332656, 1.129952030442579, 0.49349580292896, 1.6125195273540844, 0.9948987428953484, -3.1501709234958115, -1.2021723801178008, -0.35675540867724304, 0.8978777703476158, -0.5395250850527749, 0.37018443329396955, 0.6982227655851726, 0.521782497418471, 0.31150930749416933, 0.6148177543119322, -1.4187577865741698, -0.11899757989820077, 0.8780412828812908, 0.08147248746029286, -0.0536586429166943, -1.3000405144328187, 0.5195896270939308, 0.5245538761352461, -0.0314674312738254, 0.9570502564975839, 0.9403694008966786, 0.4130957356838888, -0.9972690555584609, -0.3036767919515093, 0.5482400884426347, 0.523595401197424, -0.1465389650711356, -1.2848004933851562, -0.1620791166264814, -1.466775342269551, 0.3685485846625997, -0.49201786952384974, 0.8059273035601, -0.1283752913709438, -1.0943519221186242, -0.6704774093028929, 0.0017091998415845518, 0.2921009385564951, 0.3906962192333844, -0.05930760279596267, -1.3265829731950647, -0.4724009889620008, 0.21485780890142367, 0.06810539874004565, -0.00303887648984221, -1.670497462313208], \"z\": [0.2853551075317286, 0.19551131033720714, -3.866951113406451, -0.6283925766829676, -1.4045831435439051, 0.31303981378507295, -0.7646879651361159, 0.5627889197384287, 0.17015897207323818, 0.1189306868427667, 0.27780934680608677, -0.08660685661493066, 0.9493173359729835, 0.8491739334714883, 0.46801337127924075, 0.04800366572557561, -5.310009044769063, -1.0561841398347513, 0.6504634493140955, 0.6124131554611323, -0.17346800954204328, 0.4482327471566071, 0.8695757555556604, 0.1532235614626891, 0.17858153629576562, -3.0173165862466296, 0.1348912564532269, 0.46942439122113, 1.3249132708677145, 0.12068298026738852, 0.24556710553726327, -0.031578900755361926, 0.1125144374653534, 0.30334636590343234, -0.8228551818023905, 0.722725676537354, 0.7065917811760988, 0.2618252120105148, -1.557882493154804, -0.08329980998264418, -0.6025757015396429, 0.9002999163775395, 0.10931815922579537, 0.3898219501347557, -0.06310928924299493, -0.2372295245247436, 0.5957887320955466, 0.3702458126567532, 0.2362358179821881, -0.17647616246417452, 0.4514444592551581, -5.3109230857171825, 0.2514577753972714, -1.1627523211807267, 0.03908112856345589, 1.1417736422160343, 1.7659917536875458, 0.48755973000619585, 0.3085474339008921, 0.5932007697853345, 0.35197422364809633, 0.4761316158784532, -2.935404314497544, -0.8594470910191797, 0.15911555556405374, 0.858963003788408, 0.601664379174601, 0.3296215016304492, 0.5033749104807682, 0.49975006226937924, -1.5305379269997401, 0.9476230958164111, -0.1219896374378575, 0.6533808051015519, 0.2911261076843703, -5.311583728338884, 0.3836476515314159, 0.5553443785359329, 0.4846248572805163, 0.5529929337104783, 0.21544735739723145, -1.8573270025779838, -0.026506108613306406, 0.6408330648487152, 0.9164834553851696, 0.8701595042792923, 0.25795782348909435, 0.6367246079338191, 0.4828292502781229, -1.178186702981324, 0.36799536646672776, 0.06352531709830841, 0.1552888654168132, 0.2579649051066498, 0.9626198002461612, 0.8448476344724799, -0.022308447010814667, 0.35038459344801326, -3.8779493227289903, 0.5152704412758556, 0.1266589642555115, 0.6348853323714596, 0.6588239666144113, -0.6655949702666207, 1.376035002044181, 0.8559109457534363, 0.6453765067371798, 0.41428762653258566, 1.1211592544407083, 0.7102545466168049, -5.3115588437978545, 0.09798839900162962, 0.5461342732352457, 0.5981501588892714, 0.8177855895517232, 0.5105452421192883, 0.9242936481664732, -1.2922233383641792, 0.5400745677792278, -0.7702236912595938, 0.34765198563506855, 0.3050168313933811, -0.4871179602811583, 0.4818803338702842, 0.7946958992628206, 0.6500791122852371, -0.2850970262036841, -0.016873997809115814, -0.21743951770705286, 0.293513262733723, 1.03121391360307, -0.11582367631225608, 1.1010623643171213, 0.1637425793650219]}, {\"marker\": {\"color\": \"#f0c239\", \"line\": {\"color\": \"rgba(217, 217, 217, 0.14)\", \"width\": 0.5}, \"opacity\": 0.8, \"size\": 12}, \"mode\": \"markers\", \"name\": \"Forward-Guard\", \"text\": [\"Kyle Anderson\", \"RJ Barrett\", \"Darius Bazley\", \"Brian Bowen II\", \"Oshae Brissett\", \"Brandon Clarke\", \"Luka Doncic\", \"Rudy Gay\", \"Maurice Harkless\", \"Mario Hezonja\", \"Justin Holiday\", \"Danuel House Jr.\", \"De'Andre Hunter\", \"Chandler Hutchison\", \"Joe Ingles\", \"Keldon Johnson\", \"Stanley Johnson\", \"Nassir Little\", \"Elie Okobo\", \"KZ Okpala\", \"Kelly Oubre Jr.\", \"Cam Reddish\", \"Thabo Sefolosha\", \"Jayson Tatum\", \"Justise Winslow\", \"Kobe Bryant\"], \"type\": \"scatter3d\", \"x\": [-0.6323836044007196, -2.5977222085022413, -2.8129142354048464, -3.56524680214497, -3.055388165314669, -2.503903209750629, -0.8361601286522664, 9.794559147354402, 1.2932968083067276, -0.8020570282201988, 0.36757958131942536, -2.044650068307971, -2.502854544970192, -2.641362697000199, 1.1996478577203442, -3.483638072460787, -0.8263298198395183, -2.9298853300883754, -2.535840397575835, -3.700004159013644, 0.25499989509140614, -2.6323217408696205, 3.5237745630118167, -0.22506192620868543, -0.6902083098356271, 20.27700685541907], \"y\": [-0.4410187967156008, 0.1739386002958518, 0.17261181373965603, -1.418960382342366, 0.2104819321556526, 0.18786335643663818, 0.5998713733017009, -0.45817582158172243, -0.678066194879186, 0.531534566991542, 1.164876519205359, 0.6007946526998637, 0.4668643294265405, -0.0882518847063973, 1.5883973609124735, -1.67058192306434, 0.4452620723363086, -0.06921444857278478, 0.3800905229201459, -0.9975127261523518, 0.43544491266687035, 0.4691992316410884, -0.23555005577417426, 0.6498512091455494, 0.0680666054143601, 2.096986707283526], \"z\": [0.5080962680607276, -0.24809515117614384, -0.11787346963895655, -3.8774899756225976, 0.03734422942403551, 2.0042300926478873, 0.07850890071241996, -0.28853704834867117, 0.2713263452991003, 0.3226747803983665, 0.22255823598535196, 0.6924712630900574, 0.37493944397216705, 0.18932490140860822, 0.19882691929131294, -3.0176446488765163, -0.14983567152789476, -0.043010399070618474, 0.0734823241061673, -5.311058477169405, 0.2919083897083464, -0.01678294299417704, 0.32619853922060144, 0.7901067800670843, -0.04781341773332914, -2.9652469258520107]}, {\"marker\": {\"color\": \"#161823\", \"line\": {\"color\": \"rgba(217, 217, 217, 0.14)\", \"width\": 0.5}, \"opacity\": 0.8, \"size\": 12}, \"mode\": \"markers\", \"name\": \"Guard-Forward\", \"text\": [\"Dwayne Bacon\", \"Nicolas Batum\", \"Kent Bazemore\", \"DeAndre' Bembry\", \"Ryan Broekhoff\", \"Dillon Brooks\", \"Bruce Brown\", \"Jaylen Brown\", \"Sterling Brown\", \"Troy Brown Jr.\", \"Reggie Bullock\", \"Deonte Burton\", \"Vince Carter\", \"Amir Coffey\", \"Allen Crabbe\", \"Jarrett Culver\", \"DeMar DeRozan\", \"PJ Dozier\", \"Jacob Evans\", \"Evan Fournier\", \"Melvin Frazier Jr.\", \"Shai Gilgeous-Alexander\", \"Treveon Graham\", \"Gerald Green\", \"Javonte Green\", \"Tim Hardaway Jr.\", \"Joe Harris\", \"Rodney Hood\", \"Kevin Huerter\", \"Andre Iguodala\", \"Josh Jackson\", \"Justin James\", \"DaQuan Jeffries\", \"Ty Jerome\", \"Furkan Korkmaz\", \"Kyle Korver\", \"Zach LaVine\", \"Jeremy Lamb\", \"Romeo Langford\", \"Damion Lee\", \"Terance Mann\", \"Malcolm Miller\", \"Shake Milton\", \"Dzanan Musa\", \"Svi Mykhailiuk\", \"Miye Oni\", \"Theo Pinson\", \"Kevin Porter Jr.\", \"Josh Reaves\", \"Cameron Reynolds\", \"Andre Roberson\", \"Terrence Ross\", \"Admiral Schofield\", \"Ben Simmons\", \"Max Strus\", \"Garrett Temple\", \"Matisse Thybulle\", \"Gary Trent Jr.\", \"Evan Turner\", \"Lonnie Walker IV\", \"Yuta Watanabe\", \"Kenrich Williams\"], \"type\": \"scatter3d\", \"x\": [-2.3652801510507495, 6.480255839137346, 1.7312993852239908, -1.7584309251546237, -2.7525459374904067, -1.3915365684899166, -2.0648793590400225, -0.22339334846993036, -2.196149226965606, -2.330891772681254, -1.0987336269236572, -2.9908940314101553, 16.853500985580656, -3.103329146214753, 0.08158453927016929, -2.7286583134215716, 7.995010961510458, -3.044813192717813, -2.858053296488563, 2.6050293083291596, -3.1942206908903734, -1.419336172433745, -2.199696127018344, 2.243353184372597, -2.929257732545638, 1.4627629541563458, -0.23809631605151582, 0.4680288736325634, -1.8022341085397369, 10.384527725868425, -1.3620476862150843, -3.0685579382838264, -3.5196952917524458, -2.95893225486579, -2.36670048851644, 7.922844660885845, 1.5069911805122285, 1.0498636085220667, -3.0187240813639105, -2.337996886494831, -3.0330410152311136, -2.9663161298760032, -2.8474791446561474, -2.973933450733502, -2.509380463702634, -3.7007701879412833, -2.887206256122533, -2.7093110732175982, -3.702476365797383, -2.8829712204122444, -0.8617663263267532, 1.821962037972088, -3.00255536573012, 0.16837786535074023, -2.9979348688257543, 1.0231729049239815, -2.7724376197241143, -2.8071023761448566, 3.493491319421721, -2.762142601314448, -3.186386529170094, -2.5055567930875218], \"y\": [0.3986154981070636, 1.0534827320649323, 0.7176019905851987, -0.21222508578500782, 0.6956226176954828, 0.6871171883225587, 0.076715320425626, 0.4092621788970862, 0.41979102854279515, 0.23183500700117032, 1.0714834834696734, -0.16101423089766098, 1.731826130782955, -0.5993807360254352, 1.2743125710323744, -0.20046802812852368, 0.10108630956597764, -0.03140318722145484, 0.5435349643100797, 1.821569711065505, -0.12353510592425594, 0.39052930453891177, 0.39598455071378946, 1.5382068619828813, -0.20110244585045617, 1.8241908370570026, 1.1754393915573995, 1.334731738784953, 0.769436936030591, 0.3095322064797162, 0.014978509410119675, 0.031478162520020385, -1.558541087513042, 0.5213120329707261, 0.6282503652558653, 3.5077219887211424, 1.3996680137122797, 0.7124949771239687, -0.138713176100505, 0.5769361400922911, -0.14622664812976247, 0.3159005779889778, 0.34166817245092795, 0.034219091614993175, 0.8016293416792037, -0.9975109065235197, 0.42528136160192126, 0.28947220928366724, -0.9972673046236735, 0.7844259781498316, -0.9684972022227214, 1.785673879568932, 0.1949101299839302, -1.4576541303044992, -0.7472277738861784, 0.8353999933592925, 0.3671694839756263, 0.5537947683710056, -0.06824762292218108, 0.550338421426132, -0.22780028636576696, -0.05183304172198055], \"z\": [0.21318975179631677, -0.11142133055679869, -0.13004868711521753, -0.18948002160977645, 0.9305553870051159, 0.5397253252631359, 0.22122399227136796, 0.3475082014955947, 0.46419755112518973, 0.4272334836387378, 0.6715525958399743, -0.6483890996674253, -1.5655446642526292, 0.22016024207769122, 0.5391000613611122, -0.8917525242613049, -0.9075754569022789, -0.2401769361621352, 0.1311554734349021, 0.0040864280227133455, -1.2126485023807543, 0.7308564934843531, 0.05192060074426915, 0.1264793418568722, 0.40789693348065, -0.06730971463462315, 0.8192500158076433, 0.358386162278656, 0.4947970678940919, -1.0153948770269041, -0.19665652508790074, -0.44850727738339186, -3.3999134790641867, 0.4841276353870514, 0.34966501146773055, -0.041405141939667794, 0.16395578738916172, 0.495031324887039, 0.551772989821936, 0.6023774483072242, -0.06535674866336809, 0.06365453434214087, 0.36369739492043907, -0.42179812248361725, 0.5317602979798662, -5.311244497133786, -0.2289057793592762, 0.42510077362777027, -5.311375408885166, 1.0839144754845127, -0.25689755221714927, 0.15684735429050442, -0.002197222938913012, -0.3901546516101629, 1.400750024462438, -0.06368263165122909, 0.07195148524088112, 0.31777735152618763, -0.14913985100889043, 0.6465238981218312, -1.2442616050611306, -0.6744431377454646]}, {\"marker\": {\"color\": \"#827100\", \"line\": {\"color\": \"rgba(217, 217, 217, 0.14)\", \"width\": 0.5}, \"opacity\": 0.8, \"size\": 12}, \"mode\": \"markers\", \"name\": \"Forward-Center\", \"text\": [\"Chris Boucher\", \"Nicolas Claxton\", \"Zach Collins\", \"Anthony Davis\", \"Cheick Diallo\", \"Drew Eubanks\", \"Cristiano Felicio\", \"Bruno Fernando\", \"Daniel Gafford\", \"Harry Giles III\", \"JaMychal Green\", \"Montrezl Harrell\", \"John Henson\", \"Jaren Jackson Jr.\", \"Mfiondu Kabengele\", \"Frank Kaminsky\", \"Luke Kornet\", \"Skal Labissiere\", \"Meyers Leonard\", \"Kevin Love\", \"Thon Maker\", \"Lauri Markkanen\", \"Jalen McDaniels\", \"Chimezie Metu\", \"Mike Muscala\", \"Larry Nance Jr.\", \"Kelly Olynyk\", \"Mason Plumlee\", \"Kristaps Porzingis\", \"Dwight Powell\", \"Julius Randle\", \"Domantas Sabonis\", \"Daniel Theis\", \"Dean Wade\", \"Moritz Wagner\", \"Cody Zeller\"], \"type\": \"scatter3d\", \"x\": [-2.6274080061222245, -3.099022140176334, -2.0743644313055447, 6.331748904554243, -2.0622799869799016, -2.998908530806497, -1.951101178947584, -2.9104702659632884, -2.9807181963133336, -2.668690662575815, 0.14376479687138202, -0.2969360607645016, 0.6605106095215092, -1.5337047147446088, -2.850135342303138, -0.3835021918306875, -2.375590945472336, -1.904252130694529, -0.17775340122629518, 8.287523538350818, -1.6646299271242, -0.7045695374249049, -3.4857161191906476, -3.109438012637924, -0.8987264737460964, -0.22346807296426507, 1.5478237497385872, 1.9336776169634085, 0.49969850859977744, -0.1297625535611385, 1.9856360333940828, 0.09250535362527884, -1.6758394384379327, -2.983927481363092, -2.541099556217669, 0.8375595921242988], \"y\": [0.04315373583078781, -0.8939885296662791, 0.00823964190369118, -2.962884969950752, -0.32292299041704486, -0.8344611486101727, -1.5468266691561015, -0.683671375449565, -1.5089209425479937, -1.0816723552908056, -0.35280515494381204, -1.8342297690922964, -2.3353951256104706, 0.28487010943823593, 1.1326693129249172, 0.5368502224205572, 0.4669845938345267, -0.11652935380941092, 0.19721048561481902, -0.7913481666507718, -0.10375427217392136, 0.6420064142788697, -1.670284070493529, -0.660937768999449, 0.2652368924088013, -0.8487370090274574, 0.19095326538441665, -3.042872065975425, -0.13737176056740413, -0.8267020394149615, -1.0639163900197908, -0.7363490169598222, -0.35870501277171873, -0.15831155051751858, 0.25813306279549, -1.5421073032470052], \"z\": [0.6116289507436092, -0.2081040921573193, 0.47370016285167943, 0.9210366988994205, 1.5029586625644236, 0.6646977604634687, 0.0025085655403797656, -0.14055995693724596, 0.0775457998972877, -0.45387634908216967, 0.9064119859732209, 0.41178160394073415, 0.5876328959637144, 0.9710950794523328, 1.8936906302264815, 0.25454646684050486, 0.30985546565265326, 0.922661628593287, 1.1696347767512654, 0.19598596386111874, 0.2581882083824158, 0.6349580200510581, -3.018045121676569, -0.802559586969588, 0.99119472795013, 0.9291487035288098, 0.6891116628143348, -0.03935186442544301, 0.6195594594835563, 1.08190037846426, 0.36445174151032944, 0.8233596377591716, 1.1896991508277102, 0.9842724942700253, 1.051074652194631, 0.7290920879559838]}],\n",
              "                        {\"scene\": {\"xaxis\": {\"title\": {\"text\": \"PC1\"}}, \"yaxis\": {\"title\": {\"text\": \"PC2\"}}, \"zaxis\": {\"title\": {\"text\": \"PC3\"}}}, \"showlegend\": true, \"template\": {\"data\": {\"bar\": [{\"error_x\": {\"color\": \"#2a3f5f\"}, \"error_y\": {\"color\": \"#2a3f5f\"}, \"marker\": {\"line\": {\"color\": \"#E5ECF6\", \"width\": 0.5}}, \"type\": \"bar\"}], \"barpolar\": [{\"marker\": {\"line\": {\"color\": \"#E5ECF6\", \"width\": 0.5}}, \"type\": \"barpolar\"}], \"carpet\": [{\"aaxis\": {\"endlinecolor\": \"#2a3f5f\", \"gridcolor\": \"white\", \"linecolor\": \"white\", \"minorgridcolor\": \"white\", \"startlinecolor\": \"#2a3f5f\"}, \"baxis\": {\"endlinecolor\": \"#2a3f5f\", \"gridcolor\": \"white\", \"linecolor\": \"white\", \"minorgridcolor\": \"white\", \"startlinecolor\": \"#2a3f5f\"}, \"type\": \"carpet\"}], \"choropleth\": [{\"colorbar\": {\"outlinewidth\": 0, \"ticks\": \"\"}, \"type\": \"choropleth\"}], \"contour\": [{\"colorbar\": {\"outlinewidth\": 0, \"ticks\": \"\"}, \"colorscale\": [[0.0, \"#0d0887\"], [0.1111111111111111, \"#46039f\"], [0.2222222222222222, \"#7201a8\"], [0.3333333333333333, \"#9c179e\"], [0.4444444444444444, \"#bd3786\"], [0.5555555555555556, \"#d8576b\"], [0.6666666666666666, \"#ed7953\"], [0.7777777777777778, \"#fb9f3a\"], [0.8888888888888888, \"#fdca26\"], [1.0, \"#f0f921\"]], \"type\": \"contour\"}], \"contourcarpet\": [{\"colorbar\": {\"outlinewidth\": 0, \"ticks\": \"\"}, \"type\": \"contourcarpet\"}], \"heatmap\": [{\"colorbar\": {\"outlinewidth\": 0, \"ticks\": \"\"}, \"colorscale\": [[0.0, \"#0d0887\"], [0.1111111111111111, \"#46039f\"], [0.2222222222222222, \"#7201a8\"], [0.3333333333333333, \"#9c179e\"], [0.4444444444444444, \"#bd3786\"], [0.5555555555555556, \"#d8576b\"], [0.6666666666666666, \"#ed7953\"], [0.7777777777777778, \"#fb9f3a\"], [0.8888888888888888, \"#fdca26\"], [1.0, \"#f0f921\"]], \"type\": \"heatmap\"}], \"heatmapgl\": [{\"colorbar\": {\"outlinewidth\": 0, \"ticks\": \"\"}, \"colorscale\": [[0.0, \"#0d0887\"], [0.1111111111111111, \"#46039f\"], [0.2222222222222222, \"#7201a8\"], [0.3333333333333333, \"#9c179e\"], [0.4444444444444444, \"#bd3786\"], [0.5555555555555556, \"#d8576b\"], [0.6666666666666666, \"#ed7953\"], [0.7777777777777778, \"#fb9f3a\"], [0.8888888888888888, \"#fdca26\"], [1.0, \"#f0f921\"]], \"type\": \"heatmapgl\"}], \"histogram\": [{\"marker\": {\"colorbar\": {\"outlinewidth\": 0, \"ticks\": \"\"}}, \"type\": \"histogram\"}], \"histogram2d\": [{\"colorbar\": {\"outlinewidth\": 0, \"ticks\": \"\"}, \"colorscale\": [[0.0, \"#0d0887\"], [0.1111111111111111, \"#46039f\"], [0.2222222222222222, \"#7201a8\"], [0.3333333333333333, \"#9c179e\"], [0.4444444444444444, \"#bd3786\"], [0.5555555555555556, \"#d8576b\"], [0.6666666666666666, \"#ed7953\"], [0.7777777777777778, \"#fb9f3a\"], [0.8888888888888888, \"#fdca26\"], [1.0, \"#f0f921\"]], \"type\": \"histogram2d\"}], \"histogram2dcontour\": [{\"colorbar\": {\"outlinewidth\": 0, \"ticks\": \"\"}, \"colorscale\": [[0.0, \"#0d0887\"], [0.1111111111111111, \"#46039f\"], [0.2222222222222222, \"#7201a8\"], [0.3333333333333333, \"#9c179e\"], [0.4444444444444444, \"#bd3786\"], [0.5555555555555556, \"#d8576b\"], [0.6666666666666666, \"#ed7953\"], [0.7777777777777778, \"#fb9f3a\"], [0.8888888888888888, \"#fdca26\"], [1.0, \"#f0f921\"]], \"type\": \"histogram2dcontour\"}], \"mesh3d\": [{\"colorbar\": {\"outlinewidth\": 0, \"ticks\": \"\"}, \"type\": \"mesh3d\"}], \"parcoords\": [{\"line\": {\"colorbar\": {\"outlinewidth\": 0, \"ticks\": \"\"}}, \"type\": \"parcoords\"}], \"pie\": [{\"automargin\": true, \"type\": \"pie\"}], \"scatter\": [{\"marker\": {\"colorbar\": {\"outlinewidth\": 0, \"ticks\": \"\"}}, \"type\": \"scatter\"}], \"scatter3d\": [{\"line\": {\"colorbar\": {\"outlinewidth\": 0, \"ticks\": \"\"}}, \"marker\": {\"colorbar\": {\"outlinewidth\": 0, \"ticks\": \"\"}}, \"type\": \"scatter3d\"}], \"scattercarpet\": [{\"marker\": {\"colorbar\": {\"outlinewidth\": 0, \"ticks\": \"\"}}, \"type\": \"scattercarpet\"}], \"scattergeo\": [{\"marker\": {\"colorbar\": {\"outlinewidth\": 0, \"ticks\": \"\"}}, \"type\": \"scattergeo\"}], \"scattergl\": [{\"marker\": {\"colorbar\": {\"outlinewidth\": 0, \"ticks\": \"\"}}, \"type\": \"scattergl\"}], \"scattermapbox\": [{\"marker\": {\"colorbar\": {\"outlinewidth\": 0, \"ticks\": \"\"}}, \"type\": \"scattermapbox\"}], \"scatterpolar\": [{\"marker\": {\"colorbar\": {\"outlinewidth\": 0, \"ticks\": \"\"}}, \"type\": \"scatterpolar\"}], \"scatterpolargl\": [{\"marker\": {\"colorbar\": {\"outlinewidth\": 0, \"ticks\": \"\"}}, \"type\": \"scatterpolargl\"}], \"scatterternary\": [{\"marker\": {\"colorbar\": {\"outlinewidth\": 0, \"ticks\": \"\"}}, \"type\": \"scatterternary\"}], \"surface\": [{\"colorbar\": {\"outlinewidth\": 0, \"ticks\": \"\"}, \"colorscale\": [[0.0, \"#0d0887\"], [0.1111111111111111, \"#46039f\"], [0.2222222222222222, \"#7201a8\"], [0.3333333333333333, \"#9c179e\"], [0.4444444444444444, \"#bd3786\"], [0.5555555555555556, \"#d8576b\"], [0.6666666666666666, \"#ed7953\"], [0.7777777777777778, \"#fb9f3a\"], [0.8888888888888888, \"#fdca26\"], [1.0, \"#f0f921\"]], \"type\": \"surface\"}], \"table\": [{\"cells\": {\"fill\": {\"color\": \"#EBF0F8\"}, \"line\": {\"color\": \"white\"}}, \"header\": {\"fill\": {\"color\": \"#C8D4E3\"}, \"line\": {\"color\": \"white\"}}, \"type\": \"table\"}]}, \"layout\": {\"annotationdefaults\": {\"arrowcolor\": \"#2a3f5f\", \"arrowhead\": 0, \"arrowwidth\": 1}, \"coloraxis\": {\"colorbar\": {\"outlinewidth\": 0, \"ticks\": \"\"}}, \"colorscale\": {\"diverging\": [[0, \"#8e0152\"], [0.1, \"#c51b7d\"], [0.2, \"#de77ae\"], [0.3, \"#f1b6da\"], [0.4, \"#fde0ef\"], [0.5, \"#f7f7f7\"], [0.6, \"#e6f5d0\"], [0.7, \"#b8e186\"], [0.8, \"#7fbc41\"], [0.9, \"#4d9221\"], [1, \"#276419\"]], \"sequential\": [[0.0, \"#0d0887\"], [0.1111111111111111, \"#46039f\"], [0.2222222222222222, \"#7201a8\"], [0.3333333333333333, \"#9c179e\"], [0.4444444444444444, \"#bd3786\"], [0.5555555555555556, \"#d8576b\"], [0.6666666666666666, \"#ed7953\"], [0.7777777777777778, \"#fb9f3a\"], [0.8888888888888888, \"#fdca26\"], [1.0, \"#f0f921\"]], \"sequentialminus\": [[0.0, \"#0d0887\"], [0.1111111111111111, \"#46039f\"], [0.2222222222222222, \"#7201a8\"], [0.3333333333333333, \"#9c179e\"], [0.4444444444444444, \"#bd3786\"], [0.5555555555555556, \"#d8576b\"], [0.6666666666666666, \"#ed7953\"], [0.7777777777777778, \"#fb9f3a\"], [0.8888888888888888, \"#fdca26\"], [1.0, \"#f0f921\"]]}, \"colorway\": [\"#636efa\", \"#EF553B\", \"#00cc96\", \"#ab63fa\", \"#FFA15A\", \"#19d3f3\", \"#FF6692\", \"#B6E880\", \"#FF97FF\", \"#FECB52\"], \"font\": {\"color\": \"#2a3f5f\"}, \"geo\": {\"bgcolor\": \"white\", \"lakecolor\": \"white\", \"landcolor\": \"#E5ECF6\", \"showlakes\": true, \"showland\": true, \"subunitcolor\": \"white\"}, \"hoverlabel\": {\"align\": \"left\"}, \"hovermode\": \"closest\", \"mapbox\": {\"style\": \"light\"}, \"paper_bgcolor\": \"white\", \"plot_bgcolor\": \"#E5ECF6\", \"polar\": {\"angularaxis\": {\"gridcolor\": \"white\", \"linecolor\": \"white\", \"ticks\": \"\"}, \"bgcolor\": \"#E5ECF6\", \"radialaxis\": {\"gridcolor\": \"white\", \"linecolor\": \"white\", \"ticks\": \"\"}}, \"scene\": {\"xaxis\": {\"backgroundcolor\": \"#E5ECF6\", \"gridcolor\": \"white\", \"gridwidth\": 2, \"linecolor\": \"white\", \"showbackground\": true, \"ticks\": \"\", \"zerolinecolor\": \"white\"}, \"yaxis\": {\"backgroundcolor\": \"#E5ECF6\", \"gridcolor\": \"white\", \"gridwidth\": 2, \"linecolor\": \"white\", \"showbackground\": true, \"ticks\": \"\", \"zerolinecolor\": \"white\"}, \"zaxis\": {\"backgroundcolor\": \"#E5ECF6\", \"gridcolor\": \"white\", \"gridwidth\": 2, \"linecolor\": \"white\", \"showbackground\": true, \"ticks\": \"\", \"zerolinecolor\": \"white\"}}, \"shapedefaults\": {\"line\": {\"color\": \"#2a3f5f\"}}, \"ternary\": {\"aaxis\": {\"gridcolor\": \"white\", \"linecolor\": \"white\", \"ticks\": \"\"}, \"baxis\": {\"gridcolor\": \"white\", \"linecolor\": \"white\", \"ticks\": \"\"}, \"bgcolor\": \"#E5ECF6\", \"caxis\": {\"gridcolor\": \"white\", \"linecolor\": \"white\", \"ticks\": \"\"}}, \"title\": {\"x\": 0.05}, \"xaxis\": {\"automargin\": true, \"gridcolor\": \"white\", \"linecolor\": \"white\", \"ticks\": \"\", \"title\": {\"standoff\": 15}, \"zerolinecolor\": \"white\", \"zerolinewidth\": 2}, \"yaxis\": {\"automargin\": true, \"gridcolor\": \"white\", \"linecolor\": \"white\", \"ticks\": \"\", \"title\": {\"standoff\": 15}, \"zerolinecolor\": \"white\", \"zerolinewidth\": 2}}}},\n",
              "                        {\"responsive\": true}\n",
              "                    ).then(function(){\n",
              "                            \n",
              "var gd = document.getElementById('3e3bc804-8669-495a-9c07-12459c5d52a8');\n",
              "var x = new MutationObserver(function (mutations, observer) {{\n",
              "        var display = window.getComputedStyle(gd).display;\n",
              "        if (!display || display === 'none') {{\n",
              "            console.log([gd, 'removed!']);\n",
              "            Plotly.purge(gd);\n",
              "            observer.disconnect();\n",
              "        }}\n",
              "}});\n",
              "\n",
              "// Listen for the removal of the full notebook cells\n",
              "var notebookContainer = gd.closest('#notebook-container');\n",
              "if (notebookContainer) {{\n",
              "    x.observe(notebookContainer, {childList: true});\n",
              "}}\n",
              "\n",
              "// Listen for the clearing of the current output cell\n",
              "var outputEl = gd.closest('.output');\n",
              "if (outputEl) {{\n",
              "    x.observe(outputEl, {childList: true});\n",
              "}}\n",
              "\n",
              "                        })\n",
              "                };\n",
              "                \n",
              "            </script>\n",
              "        </div>\n",
              "</body>\n",
              "</html>"
            ]
          },
          "metadata": {
            "tags": []
          }
        }
      ]
    },
    {
      "cell_type": "markdown",
      "metadata": {
        "id": "GXabg1VQE9sV",
        "colab_type": "text"
      },
      "source": [
        "## Shortcut - PCA in scikit-learn"
      ]
    },
    {
      "cell_type": "code",
      "metadata": {
        "id": "ZJljxT3dJcy5",
        "colab_type": "code",
        "outputId": "7ed3675b-1624-41c5-958b-83a27ec22190",
        "colab": {
          "base_uri": "https://localhost:8080/",
          "height": 35
        }
      },
      "source": [
        "print(X_std.shape)"
      ],
      "execution_count": 0,
      "outputs": [
        {
          "output_type": "stream",
          "text": [
            "(493, 21)\n"
          ],
          "name": "stdout"
        }
      ]
    },
    {
      "cell_type": "code",
      "metadata": {
        "id": "cTM3F0CuzoNG",
        "colab_type": "code",
        "outputId": "4ced7896-fdee-47bb-a9ae-43524700448c",
        "colab": {
          "base_uri": "https://localhost:8080/",
          "height": 542
        }
      },
      "source": [
        "from sklearn.preprocessing import StandardScaler\n",
        "from sklearn.decomposition import PCA\n",
        "\n",
        "# 使用 scikit-learn 內建的 API 正規化\n",
        "scaler = StandardScaler()\n",
        "X_std_sk = scaler.fit_transform(X)\n",
        "\n",
        "assert_almost_equal(X_std, X_std_sk)\n",
        "\n",
        "# 我們只要最大的兩個主成分。scikit-learn 會自動幫我們\n",
        "# 依照 eigenvalue 的大小排序共變異數矩陣的 eigenvectors\n",
        "n_components = 3\n",
        "random_state = 9527\n",
        "\n",
        "pca = PCA(n_components=n_components, \n",
        "          random_state=random_state)\n",
        "\n",
        "# 對正規化後的特徵 X_std_sk 做PCA\n",
        "Y_sk = pca.fit_transform(X_std_sk)  # (n_samples, n_components)\n",
        "\n",
        "# 將投影到第一主成分的 repr. 顯示在 x 軸，第二主成分在 y 軸\n",
        "# plt.scatter(L[:, 0], L[:, 1], L[:, 2])\n",
        "\n",
        "data_sk = []\n",
        "\n",
        "for position, col in zip(('Center', \n",
        "                          'Center-Forward', \n",
        "                          'Guard', \n",
        "                          'Forward', \n",
        "                          'Forward-Guard', \n",
        "                          'Guard-Forward', \n",
        "                          'Forward-Center'), colors.values()):\n",
        "    index = df_active_player_positions.index[df_active_player_positions['POSITION'] == position]\n",
        "    playerID = df_active_player_positions[df_active_player_positions['POSITION'] == position]['PLAYER_ID']\n",
        "    trace_sk = go.Scatter3d(\n",
        "        x = Y_sk[index, 0],\n",
        "        y = Y_sk[index, 1],\n",
        "        z = Y_sk[index, 2],\n",
        "        text = list(df_playerID_name_pairs.loc[playerID]['NAME']),\n",
        "        mode = 'markers',\n",
        "        name = position,\n",
        "        marker = dict(\n",
        "            color = col,\n",
        "            size = 12,\n",
        "            line = dict(\n",
        "                color = 'rgba(217, 217, 217, 0.14)',\n",
        "                width = 0.5),\n",
        "                opacity = 0.8\n",
        "        )\n",
        "    )\n",
        "    data_sk.append(trace_sk)\n",
        "\n",
        "layout = dict(\n",
        "    showlegend = True,\n",
        "    scene = dict(\n",
        "        xaxis = dict(title = 'PC1'),\n",
        "        yaxis = dict(title = 'PC2'),\n",
        "        zaxis = dict(title = 'PC3')\n",
        "    )\n",
        ")\n",
        "\n",
        "fig_sk = go.Figure(data=data_sk, layout=layout)\n",
        "py.iplot(fig_sk, filename='projection_sk.html')"
      ],
      "execution_count": 0,
      "outputs": [
        {
          "output_type": "display_data",
          "data": {
            "text/html": [
              "<html>\n",
              "<head><meta charset=\"utf-8\" /></head>\n",
              "<body>\n",
              "    <div>\n",
              "            <script src=\"https://cdnjs.cloudflare.com/ajax/libs/mathjax/2.7.5/MathJax.js?config=TeX-AMS-MML_SVG\"></script><script type=\"text/javascript\">if (window.MathJax) {MathJax.Hub.Config({SVG: {font: \"STIX-Web\"}});}</script>\n",
              "                <script type=\"text/javascript\">window.PlotlyConfig = {MathJaxConfig: 'local'};</script>\n",
              "        <script src=\"https://cdn.plot.ly/plotly-latest.min.js\"></script>    \n",
              "            <div id=\"8d8e9077-b805-496d-bc6a-ddfffdc9c414\" class=\"plotly-graph-div\" style=\"height:525px; width:100%;\"></div>\n",
              "            <script type=\"text/javascript\">\n",
              "                \n",
              "                    window.PLOTLYENV=window.PLOTLYENV || {};\n",
              "                    \n",
              "                if (document.getElementById(\"8d8e9077-b805-496d-bc6a-ddfffdc9c414\")) {\n",
              "                    Plotly.newPlot(\n",
              "                        '8d8e9077-b805-496d-bc6a-ddfffdc9c414',\n",
              "                        [{\"marker\": {\"color\": \"#0D76BF\", \"line\": {\"color\": \"rgba(217, 217, 217, 0.14)\", \"width\": 0.5}, \"opacity\": 0.8, \"size\": 12}, \"mode\": \"markers\", \"name\": \"Center\", \"text\": [\"Steven Adams\", \"Jarrett Allen\", \"Deandre Ayton\", \"Mo Bamba\", \"Khem Birch\", \"Bismack Biyombo\", \"Marques Bolden\", \"Moses Brown\", \"Clint Capela\", \"Willie Cauley-Stein\", \"Tyson Chandler\", \"DeMarcus Cousins\", \"Dewayne Dedmon\", \"Gorgui Dieng\", \"Andre Drummond\", \"Tacko Fall\", \"Marc Gasol\", \"Rudy Gobert\", \"Nikola Jokic\", \"Damian Jones\", \"DeAndre Jordan\", \"Enes Kanter\", \"Alex Len\", \"Brook Lopez\", \"Robin Lopez\", \"Ian Mahinmi\", \"Boban Marjanovic\", \"Jusuf Nurkic\", \"Jakob Poeltl\", \"Jonas Valanciunas\", \"Nikola Vucevic\", \"Hassan Whiteside\", \"Ante Zizic\", \"Ivica Zubac\"], \"type\": \"scatter3d\", \"x\": [2.5669009856653338, -0.8643287316819727, -1.8376922230840038, -2.381216280914384, -2.414718604375519, 1.8886726255906745, -3.701642340835046, -3.2760448063012357, 0.9198851462311406, 0.29523781038669455, 9.814949270470533, 7.573368204471237, 0.21211414414306484, 1.6676592289182177, 6.4016915036456306, -3.1687145396987915, 8.773127408491085, 3.1537440143116156, 2.607746976695086, -2.3813466187882737, 7.584121405509908, 3.252440998354799, 1.1275269846950788, 7.614519363622346, 4.206106670200142, 1.2309476204988388, -1.7642814446041055, 0.6476598924091653, -1.1208446917392736, 3.4436364106336788, 4.959439361072855, 2.480576037703155, -2.5044005288878384, -1.6889654854461698], \"y\": [4.050296023652351, 1.6283306469071326, 1.4853030078681555, 0.28185658589749246, 1.382154912980135, 4.239382310966355, 0.9977754851999637, 1.0638481437199316, 3.5871616760369185, 1.6529232466630472, 8.24412903122771, 2.3050142834280325, 1.0546926630132571, 1.4916405581577228, 6.067543610355613, 1.807353320212795, 2.7571415783273676, 4.899985555747953, 0.6040318354834106, 0.5864510669178112, 7.563509506093956, 2.602652375313819, 1.6910182129081313, 2.829452557857242, 3.680456759164797, 2.470797129251141, 0.39147407056933137, 2.3231535256052593, 0.8257846277232026, 2.5865077177642375, 2.3564110808369785, 3.7161040880849527, 1.2474882924350088, 1.5864123819185352], \"z\": [-0.035543530682969525, -0.9006081705637827, -0.19360627711063821, -0.36241602384483323, 0.17875405533834704, -0.0059583868546119155, 5.311555232064468, 1.3170778310051714, -0.19892525056651367, -0.37111308771689816, -1.1113257052410128, -0.044287655407176725, -1.1658899431273806, -1.235490064428377, -0.23385271612744649, 0.04656757172459785, -0.5926888656638555, -0.711230937226177, -0.9024069206823441, -1.5231431345021755, -1.293459462843822, -1.2825109646292134, -0.8960557381127496, -0.9428983356358015, -1.3274755379022816, -0.4280629568314907, -1.4118201774982564, 0.20130356158610022, -1.8705517873106545, -1.7294018067676615, -0.920640962472317, -1.3063552866490584, -0.14493337883273955, -0.13968963300672887]}, {\"marker\": {\"color\": \"#804040\", \"line\": {\"color\": \"rgba(217, 217, 217, 0.14)\", \"width\": 0.5}, \"opacity\": 0.8, \"size\": 12}, \"mode\": \"markers\", \"name\": \"Center-Forward\", \"text\": [\"Bam Adebayo\", \"LaMarcus Aldridge\", \"Aron Baynes\", \"Goga Bitadze\", \"Tony Bradley\", \"Thomas Bryant\", \"Wendell Carter Jr.\", \"Ed Davis\", \"Joel Embiid\", \"Isaiah Hartenstein\", \"Jaxson Hayes\", \"Dewan Hernandez\", \"Willy Hernangomez\", \"Nene\", \"Al Horford\", \"Dwight Howard\", \"JaVale McGee\", \"Eric Mika\", \"Nerlens Noel\", \"Kyle O'Quinn\", \"Jahlil Okafor\", \"Anzejs Pasecniks\", \"Vincent Poirier\", \"Naz Reid\", \"Mitchell Robinson\", \"Tristan Thompson\", \"Karl-Anthony Towns\", \"Myles Turner\", \"Robert Williams III\"], \"type\": \"scatter3d\", \"x\": [-0.9423296456697455, 11.352373208668585, 0.0957211097375402, -2.965293775601949, -2.938292996708742, -1.9169744846138876, -2.0619247961450022, 2.1687783343113103, 0.8414584808698857, -2.792687774332429, -2.6218044785431642, -3.241679135189487, -1.5758603354551743, 7.669404246360901, 7.927882627390317, 15.73644174953517, 2.6324965770001585, -2.9946238252297763, 0.4254526863141153, 0.13731294269752953, -1.107850625799731, -3.0572263135245588, -2.8672167198371503, -3.0053924006013277, -1.991285177318694, 3.441696491055364, 3.5897492937333912, 1.0467775262547996, -2.867984770772906], \"y\": [1.3895976180868241, 4.326909920338277, 1.0032050346775403, 0.41082911139593176, 1.250099844447696, 0.30912243984612553, 0.617438999375244, 4.107725688542054, 0.5895139136504705, 0.4455485320280443, 0.6644678456800365, -0.034693076021813325, 0.45099861737053976, 3.9376568974705015, 2.8376750087157796, 9.722759103672084, 3.9546975164600164, 0.7505230140079965, 1.727365180530857, 1.6289087871861367, 0.990054625005428, 1.099315357080791, -0.8933064964468641, -0.19008546678990224, 2.1198385442692396, 3.87076646048089, 1.063051857591543, 1.0050977766010407, 1.5154725565972567], \"z\": [-0.39816561992839933, -0.7486697796691864, -1.114166249874042, 0.0013368009313109227, 0.07453741684911991, -1.4425052736786936, -0.5389253068091127, -0.21431157367142892, -0.6197530498003996, -1.0394812963203293, -1.1627358482615993, 1.273956406817157, -0.9496937454440864, -0.01399798866203561, -1.0523386088455675, -0.6549411200068568, -0.8811400354105966, -1.4013865057392565, -0.8240239086564412, -0.8494082517267373, -0.5667692780991137, 0.4768972030239319, -1.5439352391642573, -0.02498795410089532, -0.6547103901733878, -0.4682700218690111, -1.349587310301953, -1.0583935961820945, -0.38153478968757915]}, {\"marker\": {\"color\": \"#EF553B\", \"line\": {\"color\": \"rgba(217, 217, 217, 0.14)\", \"width\": 0.5}, \"opacity\": 0.8, \"size\": 12}, \"mode\": \"markers\", \"name\": \"Guard\", \"text\": [\"Nickeil Alexander-Walker\", \"Grayson Allen\", \"Kadeem Allen\", \"Ryan Arcidiacono\", \"D.J. Augustin\", \"Lonzo Ball\", \"J.J. Barea\", \"Will Barton\", \"Bradley Beal\", \"Malik Beasley\", \"Marco Belinelli\", \"Patrick Beverley\", \"Eric Bledsoe\", \"Bogdan Bogdanovic\", \"Jordan Bone\", \"Isaac Bonga\", \"Devin Booker\", \"Ky Bowman\", \"Avery Bradley\", \"Malcolm Brogdon\", \"Charles Brown Jr.\", \"Jalen Brunson\", \"Trey Burke\", \"Alec Burks\", \"Kentavious Caldwell-Pope\", \"Jevon Carter\", \"Michael Carter-Williams\", \"Alex Caruso\", \"Chris Chiozza\", \"Jordan Clarkson\", \"Chris Clemons\", \"Antonius Cleveland\", \"Mike Conley\", \"Pat Connaughton\", \"Quinn Cook\", \"Seth Curry\", \"Stephen Curry\", \"Troy Daniels\", \"Terence Davis\", \"Matthew Dellavedova\", \"Donte DiVincenzo\", \"Hamidou Diallo\", \"Spencer Dinwiddie\", \"Luguentz Dort\", \"Damyean Dotson\", \"Goran Dragic\", \"Kris Dunn\", \"Carsen Edwards\", \"Wayne Ellington\", \"Dante Exum\", \"Terrance Ferguson\", \"Yogi Ferrell\", \"Bryn Forbes\", \"De'Aaron Fox\", \"Michael Frazier\", \"Tim Frazier\", \"Markelle Fultz\", \"Langston Galloway\", \"Darius Garland\", \"Brandon Goodwin\", \"Eric Gordon\", \"Devonte' Graham\", \"Josh Gray\", \"Danny Green\", \"Marko Guduric\", \"Kyle Guy\", \"James Harden\", \"Jared Harper\", \"Gary Harris\", \"Shaquille Harrison\", \"Josh Hart\", \"Tyler Herro\", \"Buddy Hield\", \"George Hill\", \"Aaron Holiday\", \"Jrue Holiday\", \"Talen Horton-Tucker\", \"Kyrie Irving\", \"Frank Jackson\", \"Reggie Jackson\", \"Tyler Johnson\", \"Tyus Jones\", \"Cory Joseph\", \"Luke Kennard\", \"Brandon Knight\", \"John Konchar\", \"Caris LeVert\", \"Jalen Lecque\", \"Courtney Lee\", \"Damian Lillard\", \"Kyle Lowry\", \"Jeremiah Martin\", \"Frank Mason\", \"Garrison Mathews\", \"Wesley Matthews\", \"Patrick McCaw\", \"CJ McCollum\", \"T.J. McConnell\", \"Rodney McGruder\", \"Jordan McLaughlin\", \"Ben McLemore\", \"Jordan McRae\", \"De'Anthony Melton\", \"Patty Mills\", \"Donovan Mitchell\", \"Naz Mitrou-Long\", \"Adam Mokoka\", \"Malik Monk\", \"Matt Mooney\", \"E'Twaun Moore\", \"Ja Morant\", \"Monte Morris\", \"Emmanuel Mudiay\", \"Dejounte Murray\", \"Jamal Murray\", \"Shabazz Napier\", \"Raul Neto\", \"Jaylen Nowell\", \"Frank Ntilikina\", \"Kendrick Nunn\", \"Josh Okogie\", \"Victor Oladipo\", \"Chris Paul\", \"Elfrid Payton\", \"Gary Payton II\", \"Jordan Poole\", \"Norman Powell\", \"JJ Redick\", \"Josh Richardson\", \"Austin Rivers\", \"Jerome Robinson\", \"Rajon Rondo\", \"Derrick Rose\", \"Terry Rozier\", \"Ricky Rubio\", \"D'Angelo Russell\", \"Tomas Satoransky\", \"Dennis Schroder\", \"Collin Sexton\", \"Landry Shamet\", \"Kobi Simmons\", \"Anfernee Simons\", \"Marcus Smart\", \"Ish Smith\", \"Zhaire Smith\", \"Dennis Smith Jr.\", \"Tony Snell\", \"Edmond Sumner\", \"Jeff Teague\", \"Isaiah Thomas\", \"Khyri Thomas\", \"Matt Thomas\", \"Klay Thompson\", \"Allonzo Trier\", \"Rayjon Tucker\", \"Denzel Valentine\", \"Fred VanVleet\", \"Gabe Vincent\", \"Dion Waiters\", \"Kemba Walker\", \"John Wall\", \"Derrick Walton Jr.\", \"Brad Wanamaker\", \"Tremont Waters\", \"Paul Watson\", \"Russell Westbrook\", \"Coby White\", \"Derrick White\", \"Lou Williams\", \"Nigel Williams-Goss\", \"Delon Wright\", \"Trae Young\"], \"type\": \"scatter3d\", \"x\": [-2.9302864801903876, -2.682860276666735, -2.782567168834306, -2.063658665143942, 4.345743931646956, -1.2463438741005453, 3.0960877797746718, 1.6008685164366332, 4.861777843976176, -1.7727585479210977, 3.5942510132315673, 1.6471189741328949, 4.758169282213379, -0.9774043412107201, -3.6029079584644075, -2.6933965673282656, 2.0329399528222503, -2.7465371551315902, 2.565741350114496, -0.5009837738087157, -3.0072677098781364, -2.0928139479736645, 0.172320759855395, 1.0062745684078815, 2.3311158760453634, -2.651598433800398, 0.7351764359083763, -2.3180011034219654, -3.287207051985547, 1.5031847819253852, -2.9117453531517183, -2.935070962461783, 7.3559794547550865, -1.6633118193978003, -2.10698697871242, -1.1080276244654177, 9.417250727478697, -1.1464118123585127, -2.5613107682689327, -0.20730553454383946, -2.4669451556571307, -2.7390956352194182, 0.25227907234263336, -2.9671461751211448, -1.9309798617858807, 6.188516344158294, -0.84236101338921, -2.9748626677290804, 1.6063013716098922, -1.5815722846235798, -1.9112704159754104, -1.3045463969916176, -1.1704965073155862, -0.5666438917531048, -3.11529178214546, -1.242477454206161, -2.311271294320426, -0.02067889238790226, -2.465949707352165, -2.862696745990003, 5.335222527209988, -2.0100737750907824, -3.1799288791184357, 3.634575187255764, -2.8962161825863757, -3.4330098584289, 12.607686139400082, -3.5661523141019975, 0.6535945139252927, -2.3069734302410656, -1.45353301199555, -2.54661446491174, 0.589063849481651, 4.667594642774326, -2.3125246909125643, 6.4695935682743295, -3.701094240886725, 5.3347181984601715, -2.4616349876717702, 2.6555313958092537, -0.24884036591953754, -1.2614865245307312, 0.9735786383667865, -1.6404629912982385, 2.141589282626813, -3.4277740148026417, -1.1035239253010085, -3.1228275159426784, 3.9086120071717962, 7.2984246059849776, 9.428537758673265, -3.5660712028830077, -2.514802698674104, -2.8564419141522865, 5.893721821185113, -2.1255193005043935, 2.7953164573470026, -0.3445505733554642, -1.6403915007300234, -3.0145385734915386, 0.5361425395818288, -2.374729448537575, -2.332750783347873, 1.726122341339166, 0.2848005745041689, -3.016371383949409, -3.6953921310330027, -1.7848702442971935, -3.43141011137613, 0.9226946320960464, -2.3859515433966414, -1.9835428672280853, -0.1959306606409892, -1.6330709338618075, 0.38564269849600963, -0.8344171662445538, -1.7805189405785002, -3.1202996278688415, -1.8446634518053655, -2.4401701153203597, -1.9899267718164737, 2.793969362495771, 12.867285157125083, 1.2286541300399134, -2.8943686005333737, -2.7998715948410307, -0.8946519031667377, 5.478138309864913, 0.3920866117132994, 1.2616117467327408, -2.853512546474882, 7.285606518649234, 4.588231784103496, -0.238633379363311, 4.106765705118133, 1.19476867839752, -0.8269868921628094, 2.10949696834405, -1.3334003415899998, -2.037964106904556, -2.792609390128063, -2.625398274052788, 1.1352627348893207, 1.1347604547330046, -3.075725402674216, -1.3605465234900926, 0.2915667401279079, -2.948592212240733, 5.560468609550512, 3.972120905183929, -3.1017683239900236, -2.896928128801112, 5.460817132493375, -2.352276724346461, -3.2443137918902214, -1.7390647857562822, -0.9915352998550491, -3.4179455444917064, 1.2452041485199221, 6.696857676595455, 6.315213866225237, -2.8683468632199887, -2.5123565910653975, -3.0618999098255584, -3.523951885059088, 13.04110901264941, -2.6111590230713615, -1.8294986287364152, 7.199005122304141, -3.267351066392726, -1.1926418381336232, -0.7845935538633085], \"y\": [-0.3526904976488417, -0.5286428508704899, -0.39308143863897077, -0.7352515379270519, -2.681469855761971, -0.24115934741309258, -1.986239945503893, -0.6807517311763458, -2.053391607360054, -0.8836385113405338, -2.461578134250536, -0.8418646246568665, -0.9521046815645928, -1.0652009896551107, 1.2758243744471243, -0.10750067196119789, -1.4929356602915864, -0.5326358275091905, -1.2020705226557589, -0.9729457560079834, -0.856479569853612, -0.46066517599173107, -1.2830416465556067, -0.66561357521919, -1.517767870299834, -0.7118392302493276, 0.11956793060597024, -0.5389433123190787, 0.30884666807368977, -1.280442916693727, -0.5600449965622675, -1.0230044778784126, -2.5594448013797844, -0.39874371092830957, -0.7528853248067369, -1.2594053282669633, -4.739354765942897, -1.4517824606583283, -0.7773730734608144, -1.245498791607485, -0.30868268892663187, 0.4417703080478558, -1.0410737435433775, -0.2774941144244797, -0.639830981525786, -1.7460922282567124, -0.2636283717012172, -0.5795169758765047, -2.0332521330528324, -0.47645853379084335, -0.5685080759273193, -0.9779489750640536, -1.1661082094060593, -0.4766114171987206, -0.34010598231143496, -0.46821128878560064, 0.05437587712938486, -1.2933311962952567, -0.7978160336528638, -0.6475614415161113, -2.899592841858823, -0.9616451882213085, -0.11043141798456449, -1.3799334323058197, -0.5051245037306563, 1.8376425270863048, -3.760585435475766, 1.4168786683554355, -1.1301034209946752, 0.0032838611742598504, -0.4735094952250575, -0.780597144230935, -1.6204498074193594, -1.4760882013969865, -0.8025378012603122, -1.494550356374794, 0.9963608277129211, -2.339445257358547, -0.3634407731165108, -1.4858110128875028, -0.7325642809682884, -0.7847555057603566, -0.45216769456619016, -1.0081505893122278, -1.5603453757011607, 1.8376083964743504, -0.5184049060853511, 0.3450629641474481, -1.4290524326169392, -3.4483799812734484, -2.761519404714693, 1.4174064339380363, -0.36808511008844985, -0.7919892210302151, -2.797704050303133, -0.37768815930078836, -1.8268473789064952, -0.34913716347637913, -0.2635087716996807, -0.1893283096365547, -1.078321627934597, -0.5276778911541654, -0.3419622381611409, -2.3434474828165275, -1.207031811350789, -0.4526523320501696, 0.9991267804826491, -0.8480117154409609, 1.8393927400859658, -0.9814601785592119, -0.47316878949896835, -0.7672279153808103, -0.6719203189876908, -0.06526680639433298, -1.2146670163031037, -1.0096566805515317, -0.6697778592416955, 0.014246964729503927, -0.5110256130223175, -0.6107037940149668, -0.15708344007836442, -1.0981685048570158, -3.313560112888975, 0.0776100817303464, 0.317656138507156, -0.5545432592750993, -0.742004646758024, -3.619254836662444, -0.9201510123689847, -1.0200523516306552, -0.16234990960487192, -0.4313221931410716, -0.9691247777481186, -1.0875601290107573, -1.2850299168061976, -1.6224446419434633, -0.5677447383599387, -1.4293260228456286, -0.8494717197520874, -1.0377010657879624, -0.5262025408483438, -0.4103049327946311, -1.0075163343702596, -0.43968050546568577, -0.2697351975101155, -0.44219762517560124, -1.2003760024973418, -0.041592011450902654, -1.6670402390009738, -2.442458260677287, -0.18509845416005094, -0.6047727621986159, -2.964676482008561, -0.542583524599076, 0.884270765546518, -0.8007756467278531, -1.1800516019208365, 0.5010179957087955, -1.1562981956582834, -2.8319741166020798, -1.166518579279511, -0.7989314116131021, -0.6904844911992932, -0.16090059981948604, 0.31046930642797765, -1.0732829667004626, -0.5651948926105873, -0.3765589303715768, -2.9076319247070446, -0.131774409277458, -0.39394251962471416, -1.0994517959409886], \"z\": [0.450339301864907, -0.45928119988097016, -0.5334667924542399, -0.7543636593063715, 0.5144910511850643, 0.8418786516315439, 0.39338414533386296, -0.16740693834777454, 0.36593502044701787, -0.7341161268390889, 0.13777358946354823, -0.1533796860062874, 0.3824081866357499, -0.45192763483655907, 4.356012868879288, -0.5488790541536889, -0.06464275362486813, -0.5713823264429543, -0.041658766576306516, -1.0090879096913186, -0.5282571486104652, -0.6111152533243843, 0.004643656671362899, -0.15833710393959116, 0.09843428202389425, -0.19858110935586915, 0.5149118887467364, -0.6191801554197626, 2.3169814642112723, -0.09968470050773127, -0.6412470756050487, -0.7556440985097888, 1.0318550798415569, -0.6051728093477335, -0.9235979595527515, -1.0481715575779171, 0.9429551755161795, -0.4478288705839152, -1.5185193040271592, -0.21179141726577944, -0.44340214401634587, 0.31420232968677325, 0.12755249717891243, -0.25282357228408875, -0.31486200753994803, 0.6669399660324856, -0.021234551902702997, -0.010241272066249838, -0.17819261311831464, -0.10159377695386533, -0.4187271936109488, -0.5678036907679057, -0.5215362590402981, -0.07718175088390417, 0.2563877265306871, -0.05463895550265051, 0.04454364303504618, -0.1848918130541839, -0.5834051275415644, -0.5945166822375346, 0.7155647876352302, -0.1427736457055093, 1.0889039600959365, -0.31744517505870307, -0.3918519760411291, 2.4448704736178697, 2.093669702815947, 3.8781288846152666, -0.3215626541189708, -0.06385713875938175, -0.3271071782037713, -0.7515767604166327, -0.627656696072932, 0.04032849883786523, -0.729907396117368, 0.698074754818444, 5.311936437242757, 0.2746432180020402, -0.26724670231121833, 0.15156264865710575, -0.30137052502597944, -0.39817669207204176, -0.16482015299504602, -0.9079493339031024, 0.27826212748883816, 2.4445364835022914, -0.05264349328645216, -0.034940574110430896, -0.3179887303609042, 1.0451387768547826, 1.3827385603217777, 3.8784487937004024, -0.08133163807312517, -1.4011280203214407, 0.5068122461744082, -0.38573725542128573, -0.20343083339770957, -0.5662044001541328, 0.025043394642980665, 0.040980648033809706, -0.19141452289181574, -0.550120742442295, -0.4511124129931672, -0.1779917471965282, -0.212328207077373, -0.33320913153669124, 5.310462505790884, -0.3052633971994653, 2.4443553318203928, -0.3743831507005202, -1.0228660229500877, -1.0121154761353877, 0.1918167637516487, -0.47542157039829414, -0.4545869950654461, -0.1454019740277254, -0.6206417792344143, 0.3100457893698629, 0.06705884591499488, -0.8273786422467058, 0.04098463945823734, 0.14852374334899035, 2.0010520714979183, 0.4463162001985951, 0.7923949534809304, 0.4625373185199407, -0.6493021524886353, 0.20512410276818435, -0.36988496616003996, 0.4374836697084892, 0.45276142735681785, 1.404142964660243, 0.5218204100166707, -0.1653454724818084, 0.8095980359199536, 0.24781241373760565, -0.8300683887771073, 0.17266128885576862, -0.7594076132576314, -0.858001425584172, -0.951253916253619, -0.2952059515254013, 0.4171809577176275, 0.31901476739224444, 0.2246675428258127, 0.3298188401405891, -0.5826629590868835, 0.2618425057442582, 0.5973582807107525, 0.46523984482595476, 0.7288483748831793, -1.0596259234663925, 0.04320338565141078, -0.7705952937700355, 1.162643262338034, -0.34203914908355776, -0.47544077322711475, 2.854028232133188, 0.40248764965651745, 1.0655947793863452, 1.1517043111833576, -0.9767652034551152, -1.0536502237806502, -0.1542158506323349, 3.867032064539469, 2.135169327901637, -0.05575593771388212, -0.818220682207398, 1.2514234991591202, 1.6014883597045872, -0.5672331364628166, -0.2547412574439304]}, {\"marker\": {\"color\": \"#48c0a3\", \"line\": {\"color\": \"rgba(217, 217, 217, 0.14)\", \"width\": 0.5}, \"opacity\": 0.8, \"size\": 12}, \"mode\": \"markers\", \"name\": \"Forward\", \"text\": [\"Al-Farouq Aminu\", \"Giannis Antetokounmpo\", \"Kostas Antetokounmpo\", \"Thanasis Antetokounmpo\", \"Carmelo Anthony\", \"OG Anunoby\", \"Trevor Ariza\", \"Marvin Bagley III\", \"Harrison Barnes\", \"Keita Bates-Diop\", \"Jordan Bell\", \"Dragan Bender\", \"Davis Bertans\", \"Nemanja Bjelica\", \"Bojan Bogdanovic\", \"Jonah Bolden\", \"Jarrell Brantley\", \"Ignas Brazdeikis\", \"Mikal Bridges\", \"Miles Bridges\", \"Jimmy Butler\", \"Bruno Caboclo\", \"Vlatko Cancar\", \"DeMarre Carroll\", \"Wilson Chandler\", \"Zylan Cheatham\", \"Marquese Chriss\", \"Gary Clark\", \"John Collins\", \"Robert Covington\", \"Torrey Craig\", \"Jae Crowder\", \"Sekou Doumbouya\", \"Jared Dudley\", \"Kevin Durant\", \"James Ennis III\", \"Derrick Favors\", \"Dorian Finney-Smith\", \"Wenyen Gabriel\", \"Danilo Gallinari\", \"Paul George\", \"Taj Gibson\", \"Aaron Gordon\", \"Jerami Grant\", \"Draymond Green\", \"Blake Griffin\", \"Rui Hachimura\", \"Tobias Harris\", \"Udonis Haslem\", \"Gordon Hayward\", \"Juancho Hernangomez\", \"Kevin Hervey\", \"Solomon Hill\", \"Jaylen Hoard\", \"Rondae Hollis-Jefferson\", \"Richaun Holmes\", \"Serge Ibaka\", \"Ersan Ilyasova\", \"Brandon Ingram\", \"Jonathan Isaac\", \"Wes Iwundu\", \"Justin Jackson\", \"LeBron James\", \"Amile Jefferson\", \"Alize Johnson\", \"BJ Johnson\", \"Cameron Johnson\", \"James Johnson\", \"Derrick Jones Jr.\", \"Michael Kidd-Gilchrist\", \"Louis King\", \"Maxi Kleber\", \"Kevin Knox II\", \"Rodions Kurucs\", \"Kyle Kuzma\", \"Vic Law\", \"Jake Layman\", \"TJ Leaf\", \"Kawhi Leonard\", \"Kevon Looney\", \"Trey Lyles\", \"Caleb Martin\", \"Cody Martin\", \"Kelan Martin\", \"Doug McDermott\", \"Nicolo Melli\", \"Khris Middleton\", \"Darius Miller\", \"Paul Millsap\", \"Juwan Morgan\", \"Markieff Morris\", \"Marcus Morris Sr.\", \"Johnathan Motley\", \"Abdel Nader\", \"Georges Niang\", \"Royce O'Neale\", \"Semi Ojeleye\", \"Cedi Osman\", \"Tariq Owens\", \"Jabari Parker\", \"Chandler Parsons\", \"Eric Paschall\", \"Patrick Patterson\", \"Norvel Pelle\", \"Michael Porter Jr.\", \"Otto Porter Jr.\", \"Bobby Portis\", \"Taurean Prince\", \"Duncan Robinson\", \"Glenn Robinson III\", \"Isaiah Roby\", \"JaKarr Sampson\", \"Dario Saric\", \"Mike Scott\", \"Pascal Siakam\", \"Chris Silva\", \"Alen Smailagic\", \"Ray Spalding\", \"Omari Spellman\", \"Caleb Swanigan\", \"Anthony Tolliver\", \"P.J. Tucker\", \"Jarred Vanderbilt\", \"Noah Vonleh\", \"T.J. Warren\", \"P.J. Washington\", \"Andrew Wiggins\", \"Grant Williams\", \"Johnathan Williams\", \"Marvin Williams\", \"Zion Williamson\", \"D.J. Wilson\", \"Christian Wood\", \"Thaddeus Young\"], \"type\": \"scatter3d\", \"x\": [3.543406345315691, 5.476598680308226, -3.5235064651192918, -3.1927517867209496, 15.382438373247806, -1.527235122858132, 8.53148569262321, -2.188836027392061, 3.4699237266339864, -2.6951376109873606, -2.3315192887939165, -1.8352139211781944, -1.1192799559952091, -0.18719447126442562, 1.788911114237101, -2.8058732569182694, -3.697472606697394, -3.207810998949198, -1.7776853390536136, -1.8207097275177861, 4.739538494098489, -2.538312057371875, -2.996404589466386, 2.183216063377744, 4.546576715934359, -3.4785015925796614, -0.8878942248429065, -2.692535218235516, -0.8433775545809341, 2.0782147200211853, -2.056933508137189, 2.517600138310071, -2.903979697456574, 3.7881419254581865, 12.794431931507633, -0.714503884631438, 4.496564858053056, -1.1326556981496576, -3.247575515753971, 4.72821506990653, 7.489386450569213, 4.639128761130871, 1.4636714335215215, 0.9397935180771265, 4.098431339869501, 7.292849043508344, -2.777080510466705, 4.314372915765232, 4.254726477561505, 4.708917105912215, -1.9766200074170577, -3.696551822591816, -0.45088031562402364, -3.231580900174763, -0.40025687849734537, -0.8376669617112715, 6.7464437198654705, 4.908012843001318, 0.039372613692346736, -1.58195626715144, -2.1328556629689936, -1.833686119057616, 21.076481617828374, -3.1722837438537788, -3.015938492792429, -2.964942583047351, -2.7539185164498763, 2.2273639269365693, -2.0112274631777325, 0.9580765035315957, -3.2605049772484938, -1.4645364451181468, -1.9068531797342039, -2.302699403228208, -0.6961481756382115, -3.7018369161859552, -2.2621728308255538, -2.5895714585563394, 4.356399205201867, -1.8256302018611812, -0.6411494162938768, -3.3209485475282867, -2.907736201922528, -2.895344892011432, -0.5500722530395119, -2.761481387086138, 3.507930117770804, -1.4113669977925278, 10.01378193060325, -3.2586544905690595, 3.699073170686725, 3.110254978342151, -2.923029161620605, -2.4217563950547616, -2.4720510706100214, -1.5744953450074095, -2.388999725489481, -1.3142185542265021, -3.5653516583438374, 0.25871411485866963, 1.9216990561140281, -2.5582693799837832, 1.718529779352002, -3.157105313716667, -2.673223710339969, 1.1881518457911977, -0.3606504824813099, -0.2765193646698117, -2.359904247274759, -1.4580876142464358, -3.703300999539203, -1.9043484092673957, 0.275815688620907, -0.023070115661898455, -0.24012225790791317, -2.945263704240831, -2.98508150588732, -3.2274765471976448, -2.3220452863163143, -2.9727943411620954, 1.7767368342566936, 3.2745053495126606, -3.1421919907536235, -0.7257528250546786, 0.30855861179046096, -2.507032182029906, 3.2270885317657605, -2.8358130691890975, -2.977820586541603, 7.764076233732959, -2.895359083130828, -2.653418832808478, -2.309539745756037, 7.70605905543685], \"y\": [0.7632852944653191, 1.6531901617399287, 0.31126093731644366, 1.3890529872467714, -0.1702626237462703, -0.1659809307495666, -1.3297009989707227, 0.2732189411013452, -0.7280635614128819, -0.13137365293402434, 1.0244561835962056, -0.15847764407857132, -1.0956298177462267, -0.36816808737593193, -1.6722150330058874, 0.22350448465362893, 1.0016179007437513, 0.02060683042748775, -0.3914633783339226, -0.25398306244171187, -0.3043440492468057, -0.3877640742869745, -0.21435925895489247, -0.4650468740985754, -0.16873824968154388, 1.6734350286637762, 0.41277994345860386, -0.6252674403985887, 0.5342519478657191, -1.0563727673989536, 0.07216156859167684, -0.9550373641027963, -0.1641531090924158, -0.7694337633052569, -1.0698550126244513, -0.29084994530147346, 3.711993212757777, -0.17632495130672887, 0.32534063664151525, -1.6014473512529321, -2.113147975430755, 3.7417961353654925, 0.19976278800231814, 0.5446182540013449, 0.6454696675807534, 1.2803215496190823, 0.06571726605085725, -0.40974333095529336, 3.4479293596574645, -1.1569750682510402, -0.33828339782547534, 0.9964353925930842, -0.5162394368664084, 1.0168571482827027, 0.7431423068632177, 1.0847199103487752, 3.8271084309925216, 0.3799576210409491, -0.2506524900391392, -0.04328263012076344, -0.24619036150854381, -0.4962038973382169, -1.3131900938208965, 1.119976989876992, -0.6682051480920509, -0.658587872620047, -0.5857041613056795, 0.7548374091269568, 0.29079853353165874, 1.3594090288391092, 0.4869691053845965, -0.1495156745421957, -0.4913144242208423, -0.3179192194877064, -0.5246684728767764, 0.9969974336094266, -0.15042359689467394, 0.008825404552546606, -0.5278761579657204, 1.1384654708688966, -0.157240140732346, 0.6819650364438693, 0.03608305458823865, -0.54891420683327, -1.1299520304425803, -0.4934958029289641, -1.6125195273540782, -0.9948987428953514, 3.150170923495828, 1.2021723801177975, 0.35675540867724864, -0.897877770347612, 0.539525085052772, -0.37018443329397316, -0.6982227655851763, -0.521782497418474, -0.31150930749417316, -0.6148177543119341, 1.4187577865741663, 0.11899757989820202, -0.8780412828812877, -0.08147248746029605, 0.053658642916694615, 1.300040514432817, -0.5195896270939349, -0.5245538761352447, 0.03146743127382472, -0.9570502564975842, -0.9403694008966822, -0.4130957356838909, 0.9972690555584559, 0.30367679195150726, -0.5482400884426343, -0.5235954011974246, 0.14653896507113578, 1.2848004933851551, 0.16207911662647811, 1.466775342269549, -0.36854858466260315, 0.49201786952384596, -0.805927303560099, 0.12837529137094775, 1.0943519221186222, 0.6704774093028923, -0.0017091998415833928, -0.292100938556499, -0.39069621923337844, 0.059307602795959015, 1.3265829731950636, 0.472400988962011, -0.2148578089014273, -0.06810539874004928, 0.00303887648983932, 1.6704974623132203], \"z\": [-0.2853551075317317, -0.19551131033720662, 3.86695111340645, 0.6283925766829648, 1.4045831435439062, -0.3130398137850766, 0.7646879651361113, -0.5627889197384313, -0.1701589720732412, -0.11893068684276946, -0.2778093468060898, 0.08660685661492762, -0.9493173359729874, -0.8491739334714917, -0.46801337127924425, -0.04800366572557888, 5.310009044769064, 1.0561841398347496, -0.6504634493140985, -0.6124131554611354, 0.17346800954204294, -0.44823274715660977, -0.869575755555663, -0.15322356146269292, -0.1785815362957692, 3.017316586246626, -0.13489125645322997, -0.469424391221133, -1.3249132708677178, -0.12068298026739249, -0.24556710553726632, 0.03157890075535769, -0.11251443746535614, -0.3033463659034372, 0.822855181802393, -0.7227256765373572, -0.7065917811761, -0.26182521201051806, 1.5578824931548019, 0.08329980998264155, 0.6025757015396399, -0.9002999163775413, -0.10931815922579823, -0.3898219501347582, 0.0631092892429924, 0.23722952452474402, -0.5957887320955492, -0.37024581265675616, -0.23623581798219093, 0.1764761624641728, -0.4514444592551612, 5.3109230857171825, -0.25145777539727454, 1.1627523211807238, -0.03908112856345805, -1.1417736422160372, -1.7659917536875473, -0.48755973000620045, -0.3085474339008943, -0.5932007697853372, -0.3519742236480992, -0.47613161587845637, 2.9354043144975503, 0.8594470910191767, -0.15911555556405702, -0.8589630037884103, -0.6016643791746038, -0.3296215016304519, -0.5033749104807713, -0.49975006226938185, 1.5305379269997377, -0.9476230958164141, 0.12198963743785468, -0.653380805101555, -0.29112610768437336, 5.311583728338882, -0.383647651531419, -0.5553443785359359, -0.48462485728051835, -0.5529929337104821, -0.21544735739723475, 1.8573270025779818, 0.02650610861330365, -0.6408330648487174, -0.9164834553851734, -0.8701595042792952, -0.2579578234890972, -0.6367246079338225, -0.48282925027812346, 1.1781867029813198, -0.3679953664667307, -0.06352531709831234, -0.15528886541681614, -0.257964905106653, -0.9626198002461647, -0.8448476344724832, 0.022308447010811482, -0.35038459344801653, 3.877949322728988, -0.5152704412758583, -0.126658964255515, -0.6348853323714623, -0.6588239666144156, 0.6655949702666177, -1.3760350020441838, -0.8559109457534401, -0.645376506737183, -0.4142876265325889, -1.1211592544407112, -0.7102545466168081, 5.311558843797855, -0.09798839900163253, -0.546134273235249, -0.5981501588892756, -0.817785589551726, -0.5105452421192922, -0.924293648166476, 1.2922233383641757, -0.5400745677792304, 0.770223691259591, -0.3476519856350731, -0.3050168313933858, 0.48711796028115517, -0.48188033387028767, -0.7946958992628235, -0.6500791122852405, 0.28509702620368266, 0.01687399780911307, 0.21743951770705003, -0.2935132627337268, -1.0312139136030736, 0.11582367631225317, -1.1010623643171247, -0.163742579365025]}, {\"marker\": {\"color\": \"#f0c239\", \"line\": {\"color\": \"rgba(217, 217, 217, 0.14)\", \"width\": 0.5}, \"opacity\": 0.8, \"size\": 12}, \"mode\": \"markers\", \"name\": \"Forward-Guard\", \"text\": [\"Kyle Anderson\", \"RJ Barrett\", \"Darius Bazley\", \"Brian Bowen II\", \"Oshae Brissett\", \"Brandon Clarke\", \"Luka Doncic\", \"Rudy Gay\", \"Maurice Harkless\", \"Mario Hezonja\", \"Justin Holiday\", \"Danuel House Jr.\", \"De'Andre Hunter\", \"Chandler Hutchison\", \"Joe Ingles\", \"Keldon Johnson\", \"Stanley Johnson\", \"Nassir Little\", \"Elie Okobo\", \"KZ Okpala\", \"Kelly Oubre Jr.\", \"Cam Reddish\", \"Thabo Sefolosha\", \"Jayson Tatum\", \"Justise Winslow\", \"Kobe Bryant\"], \"type\": \"scatter3d\", \"x\": [-0.6323836044007254, -2.5977222085022404, -2.8129142354048455, -3.5652468021449937, -3.0553881653146675, -2.5039032097506255, -0.8361601286522587, 9.794559147354404, 1.2932968083067204, -0.8020570282201931, 0.36757958131943963, -2.0446500683079636, -2.5028545449701873, -2.6413626970002, 1.1996478577203649, -3.4836380724608116, -0.8263298198395135, -2.9298853300883763, -2.5358403975758312, -3.7000041590136634, 0.2549998950914114, -2.6323217408696156, 3.523774563011814, -0.22506192620867593, -0.6902083098356262, 20.277006855419106], \"y\": [0.44101879671560124, -0.17393860029585534, -0.17261181373966009, 1.4189603823423624, -0.2104819321556568, -0.18786335643664132, -0.5998713733017015, 0.458175821581738, 0.6780661948791874, -0.5315345669915432, -1.1648765192053598, -0.600794652699867, -0.466864329426544, 0.08825188470639388, -1.5883973609124717, 1.6705819230643364, -0.44526207233631, 0.06921444857278097, -0.38009052292014955, 0.997512726152347, -0.4354449126668706, -0.4691992316410924, 0.23555005577417937, -0.6498512091455494, -0.06806660541436109, -2.0969867072834876], \"z\": [-0.5080962680607286, 0.24809515117614134, 0.11787346963895401, 3.8774899756225962, -0.03734422942403808, -2.00423009264789, -0.07850890071242245, 0.28853704834867056, -0.2713263452991038, -0.3226747803983695, -0.22255823598535573, -0.6924712630900602, -0.37493944397216966, -0.1893249014086112, -0.1988269192913173, 3.017644648876514, 0.14983567152789196, 0.043010399070615726, -0.07348232410616999, 5.311058477169404, -0.2919083897083496, 0.016782942994174484, -0.3261985392206052, -0.790106780067087, 0.04781341773332627, 2.965246925852015]}, {\"marker\": {\"color\": \"#161823\", \"line\": {\"color\": \"rgba(217, 217, 217, 0.14)\", \"width\": 0.5}, \"opacity\": 0.8, \"size\": 12}, \"mode\": \"markers\", \"name\": \"Guard-Forward\", \"text\": [\"Dwayne Bacon\", \"Nicolas Batum\", \"Kent Bazemore\", \"DeAndre' Bembry\", \"Ryan Broekhoff\", \"Dillon Brooks\", \"Bruce Brown\", \"Jaylen Brown\", \"Sterling Brown\", \"Troy Brown Jr.\", \"Reggie Bullock\", \"Deonte Burton\", \"Vince Carter\", \"Amir Coffey\", \"Allen Crabbe\", \"Jarrett Culver\", \"DeMar DeRozan\", \"PJ Dozier\", \"Jacob Evans\", \"Evan Fournier\", \"Melvin Frazier Jr.\", \"Shai Gilgeous-Alexander\", \"Treveon Graham\", \"Gerald Green\", \"Javonte Green\", \"Tim Hardaway Jr.\", \"Joe Harris\", \"Rodney Hood\", \"Kevin Huerter\", \"Andre Iguodala\", \"Josh Jackson\", \"Justin James\", \"DaQuan Jeffries\", \"Ty Jerome\", \"Furkan Korkmaz\", \"Kyle Korver\", \"Zach LaVine\", \"Jeremy Lamb\", \"Romeo Langford\", \"Damion Lee\", \"Terance Mann\", \"Malcolm Miller\", \"Shake Milton\", \"Dzanan Musa\", \"Svi Mykhailiuk\", \"Miye Oni\", \"Theo Pinson\", \"Kevin Porter Jr.\", \"Josh Reaves\", \"Cameron Reynolds\", \"Andre Roberson\", \"Terrence Ross\", \"Admiral Schofield\", \"Ben Simmons\", \"Max Strus\", \"Garrett Temple\", \"Matisse Thybulle\", \"Gary Trent Jr.\", \"Evan Turner\", \"Lonnie Walker IV\", \"Yuta Watanabe\", \"Kenrich Williams\"], \"type\": \"scatter3d\", \"x\": [-2.3652801510507455, 6.480255839137361, 1.7312993852240006, -1.758430925154628, -2.7525459374903996, -1.3915365684899081, -2.0648793590400216, -0.22339334846992476, -2.1961492269656024, -2.3308917726812513, -1.0987336269236443, -2.990894031410158, 16.853500985580677, -3.103329146214762, 0.08158453927018473, -2.7286583134215756, 7.99501096151046, -3.044813192717814, -2.8580532964885585, 2.6050293083291836, -3.1942206908903774, -1.4193361724337392, -2.19969612701834, 2.243353184372614, -2.92925773254564, 1.4627629541563687, -0.23809631605150094, 0.4680288736325803, -1.802234108539727, 10.384527725868438, -1.3620476862150848, -3.0685579382838273, -3.5196952917524684, -2.958932254865784, -2.3667004885164324, 7.92284466088589, 1.5069911805122465, 1.0498636085220752, -3.0187240813639127, -2.337996886494824, -3.0330410152311145, -2.9663161298759997, -2.847479144656144, -2.9739334507335045, -2.509380463702624, -3.7007701879413033, -2.8872062561225293, -2.7093110732175947, -3.702476365797402, -2.882971220412235, -0.8617663263267649, 1.8219620379721095, -3.0025553657301174, 0.16837786535072388, -2.9979348688257637, 1.023172904923991, -2.7724376197241103, -2.80710237614485, 3.4934913194217216, -2.762142601314443, -3.1863865291700986, -2.505556793087523], \"y\": [-0.3986154981070672, -1.0534827320649236, -0.7176019905851962, 0.2122250857850057, -0.6956226176954874, -0.6871171883225612, -0.07671532042562859, -0.40926217889708616, -0.41979102854279876, -0.23183500700117338, -1.0714834834696754, 0.16101423089765693, -1.7318261307829304, 0.5993807360254314, -1.274312571032376, 0.20046802812852024, -0.10108630956596025, 0.031403187221450794, -0.5435349643100841, -1.8215697110655003, 0.12353510592425142, -0.3905293045389133, -0.3959845507137929, -1.5382068619828797, 0.20110244585045287, -1.8241908370570008, -1.1754393915574006, -1.3347317387849522, -0.769436936030594, -0.30953220647970003, -0.014978509410121275, -0.0314781625200248, 1.5585410875130388, -0.5213120329707306, -0.6282503652558691, -3.5077219887211375, -1.3996680137122757, -0.7124949771239674, 0.13871317610050168, -0.5769361400922943, 0.14622664812975877, -0.31590057798898213, -0.341668172450932, -0.03421909161499688, -0.8016293416792076, 0.9975109065235149, -0.42528136160192564, -0.289472209283671, 0.9972673046236689, -0.7844259781498368, 0.968497202222721, -1.785673879568931, -0.19491012998393442, 1.4576541303045039, 0.7472277738861772, -0.8353999933592915, -0.3671694839756307, -0.5537947683710099, 0.06824762292218785, -0.5503384214261364, 0.22780028636576283, 0.05183304172197688], \"z\": [-0.2131897517963198, 0.11142133055679494, 0.13004868711521456, 0.18948002160977354, -0.9305553870051188, -0.5397253252631393, -0.22122399227137088, -0.34750820149559786, -0.46419755112519284, -0.42723348363874075, -0.6715525958399783, 0.6483890996674223, 1.5655446642526272, -0.22016024207769486, -0.5391000613611161, 0.8917525242613022, 0.9075754569022809, 0.24017693616213248, -0.13115547343490425, -0.004086428022717057, 1.2126485023807516, -0.7308564934843558, -0.051920600744272134, -0.12647934185687645, -0.40789693348065315, 0.06730971463461942, -0.8192500158076472, -0.35838616227865955, -0.49479706789409506, 1.0153948770269032, 0.19665652508789813, 0.4485072773833891, 3.3999134790641845, -0.484127635387054, -0.34966501146773366, 0.0414051419396604, -0.16395578738916428, -0.4950313248870424, -0.5517729898219385, -0.6023774483072266, 0.06535674866336527, -0.06365453434214365, -0.36369739492044173, 0.42179812248361503, -0.5317602979798691, 5.3112444971337816, 0.22890577935927345, -0.4251007736277731, 5.311375408885163, -1.0839144754845151, 0.25689755221714544, -0.156847354290509, 0.002197222938910243, 0.3901546516101609, -1.4007500244624413, 0.0636826316512249, -0.07195148524088396, -0.3177773515261903, 0.1491398510088884, -0.6465238981218338, 1.2442616050611275, 0.6744431377454616]}, {\"marker\": {\"color\": \"#827100\", \"line\": {\"color\": \"rgba(217, 217, 217, 0.14)\", \"width\": 0.5}, \"opacity\": 0.8, \"size\": 12}, \"mode\": \"markers\", \"name\": \"Forward-Center\", \"text\": [\"Chris Boucher\", \"Nicolas Claxton\", \"Zach Collins\", \"Anthony Davis\", \"Cheick Diallo\", \"Drew Eubanks\", \"Cristiano Felicio\", \"Bruno Fernando\", \"Daniel Gafford\", \"Harry Giles III\", \"JaMychal Green\", \"Montrezl Harrell\", \"John Henson\", \"Jaren Jackson Jr.\", \"Mfiondu Kabengele\", \"Frank Kaminsky\", \"Luke Kornet\", \"Skal Labissiere\", \"Meyers Leonard\", \"Kevin Love\", \"Thon Maker\", \"Lauri Markkanen\", \"Jalen McDaniels\", \"Chimezie Metu\", \"Mike Muscala\", \"Larry Nance Jr.\", \"Kelly Olynyk\", \"Mason Plumlee\", \"Kristaps Porzingis\", \"Dwight Powell\", \"Julius Randle\", \"Domantas Sabonis\", \"Daniel Theis\", \"Dean Wade\", \"Moritz Wagner\", \"Cody Zeller\"], \"type\": \"scatter3d\", \"x\": [-2.627408006122224, -3.099022140176346, -2.0743644313055447, 6.331748904554214, -2.062279986979905, -2.9989085308065064, -1.9511011789476052, -2.910470265963297, -2.980718196313352, -2.66869066257583, 0.14376479687137875, -0.2969360607645236, 0.6605106095214816, -1.533704714744605, -2.850135342303123, -0.38350219183068146, -2.375590945472331, -1.90425213069453, -0.17775340122629332, 8.287523538350817, -1.664629927124202, -0.7045695374248964, -3.4857161191906725, -3.1094380126379337, -0.8987264737460936, -0.22346807296427412, 1.5478237497385896, 1.9336776169633725, 0.4996985085997775, -0.1297625535611479, 1.9856360333940721, 0.092505353625271, -1.6758394384379363, -2.9839274813630943, -2.541099556217665, 0.8375595921242814], \"y\": [-0.04315373583079125, 0.8939885296662768, -0.008239641903694235, 2.962884969950762, 0.32292299041704287, 0.8344611486101711, 1.546826669156101, 0.6836713754495627, 1.5089209425479917, 1.0816723552908045, 0.3528051549438121, 1.8342297690922973, 2.335395125610472, -0.28487010943823815, -1.1326693129249223, -0.5368502224205587, -0.46698459383453034, 0.1165293538094083, -0.19721048561481977, 0.7913481666507841, 0.10375427217391925, -0.6420064142788712, 1.670284070493526, 0.6609377689994468, -0.26523689240880316, 0.8487370090274573, -0.19095326538441493, 3.042872065975431, 0.13737176056740424, 0.8267020394149618, 1.0639163900197959, 0.7363490169598237, 0.3587050127717167, 0.15831155051751436, -0.25813306279549314, 1.5421073032470078], \"z\": [-0.6116289507436122, 0.20810409215731593, -0.4737001628516823, -0.9210366988994193, -1.5029586625644273, -0.6646977604634712, -0.0025085655403830225, 0.14055995693724324, -0.07754579989729059, 0.4538763490821671, -0.9064119859732244, -0.4117816039407366, -0.5876328959637169, -0.9710950794523358, -1.8936906302264835, -0.254546466840508, -0.3098554656526561, -0.92266162859329, -1.1696347767512694, -0.195985963861121, -0.258188208382419, -0.6349580200510612, 3.0180451216765674, 0.8025595869695858, -0.9911947279501332, -0.9291487035288135, -0.6891116628143382, 0.03935186442544102, -0.6195594594835588, -1.0819003784642627, -0.36445174151033133, -0.8233596377591745, -1.189699150827713, -0.9842724942700298, -1.0510746521946337, -0.729092087955986]}],\n",
              "                        {\"scene\": {\"xaxis\": {\"title\": {\"text\": \"PC1\"}}, \"yaxis\": {\"title\": {\"text\": \"PC2\"}}, \"zaxis\": {\"title\": {\"text\": \"PC3\"}}}, \"showlegend\": true, \"template\": {\"data\": {\"bar\": [{\"error_x\": {\"color\": \"#2a3f5f\"}, \"error_y\": {\"color\": \"#2a3f5f\"}, \"marker\": {\"line\": {\"color\": \"#E5ECF6\", \"width\": 0.5}}, \"type\": \"bar\"}], \"barpolar\": [{\"marker\": {\"line\": {\"color\": \"#E5ECF6\", \"width\": 0.5}}, \"type\": \"barpolar\"}], \"carpet\": [{\"aaxis\": {\"endlinecolor\": \"#2a3f5f\", \"gridcolor\": \"white\", \"linecolor\": \"white\", \"minorgridcolor\": \"white\", \"startlinecolor\": \"#2a3f5f\"}, \"baxis\": {\"endlinecolor\": \"#2a3f5f\", \"gridcolor\": \"white\", \"linecolor\": \"white\", \"minorgridcolor\": \"white\", \"startlinecolor\": \"#2a3f5f\"}, \"type\": \"carpet\"}], \"choropleth\": [{\"colorbar\": {\"outlinewidth\": 0, \"ticks\": \"\"}, \"type\": \"choropleth\"}], \"contour\": [{\"colorbar\": {\"outlinewidth\": 0, \"ticks\": \"\"}, \"colorscale\": [[0.0, \"#0d0887\"], [0.1111111111111111, \"#46039f\"], [0.2222222222222222, \"#7201a8\"], [0.3333333333333333, \"#9c179e\"], [0.4444444444444444, \"#bd3786\"], [0.5555555555555556, \"#d8576b\"], [0.6666666666666666, \"#ed7953\"], [0.7777777777777778, \"#fb9f3a\"], [0.8888888888888888, \"#fdca26\"], [1.0, \"#f0f921\"]], \"type\": \"contour\"}], \"contourcarpet\": [{\"colorbar\": {\"outlinewidth\": 0, \"ticks\": \"\"}, \"type\": \"contourcarpet\"}], \"heatmap\": [{\"colorbar\": {\"outlinewidth\": 0, \"ticks\": \"\"}, \"colorscale\": [[0.0, \"#0d0887\"], [0.1111111111111111, \"#46039f\"], [0.2222222222222222, \"#7201a8\"], [0.3333333333333333, \"#9c179e\"], [0.4444444444444444, \"#bd3786\"], [0.5555555555555556, \"#d8576b\"], [0.6666666666666666, \"#ed7953\"], [0.7777777777777778, \"#fb9f3a\"], [0.8888888888888888, \"#fdca26\"], [1.0, \"#f0f921\"]], \"type\": \"heatmap\"}], \"heatmapgl\": [{\"colorbar\": {\"outlinewidth\": 0, \"ticks\": \"\"}, \"colorscale\": [[0.0, \"#0d0887\"], [0.1111111111111111, \"#46039f\"], [0.2222222222222222, \"#7201a8\"], [0.3333333333333333, \"#9c179e\"], [0.4444444444444444, \"#bd3786\"], [0.5555555555555556, \"#d8576b\"], [0.6666666666666666, \"#ed7953\"], [0.7777777777777778, \"#fb9f3a\"], [0.8888888888888888, \"#fdca26\"], [1.0, \"#f0f921\"]], \"type\": \"heatmapgl\"}], \"histogram\": [{\"marker\": {\"colorbar\": {\"outlinewidth\": 0, \"ticks\": \"\"}}, \"type\": \"histogram\"}], \"histogram2d\": [{\"colorbar\": {\"outlinewidth\": 0, \"ticks\": \"\"}, \"colorscale\": [[0.0, \"#0d0887\"], [0.1111111111111111, \"#46039f\"], [0.2222222222222222, \"#7201a8\"], [0.3333333333333333, \"#9c179e\"], [0.4444444444444444, \"#bd3786\"], [0.5555555555555556, \"#d8576b\"], [0.6666666666666666, \"#ed7953\"], [0.7777777777777778, \"#fb9f3a\"], [0.8888888888888888, \"#fdca26\"], [1.0, \"#f0f921\"]], \"type\": \"histogram2d\"}], \"histogram2dcontour\": [{\"colorbar\": {\"outlinewidth\": 0, \"ticks\": \"\"}, \"colorscale\": [[0.0, \"#0d0887\"], [0.1111111111111111, \"#46039f\"], [0.2222222222222222, \"#7201a8\"], [0.3333333333333333, \"#9c179e\"], [0.4444444444444444, \"#bd3786\"], [0.5555555555555556, \"#d8576b\"], [0.6666666666666666, \"#ed7953\"], [0.7777777777777778, \"#fb9f3a\"], [0.8888888888888888, \"#fdca26\"], [1.0, \"#f0f921\"]], \"type\": \"histogram2dcontour\"}], \"mesh3d\": [{\"colorbar\": {\"outlinewidth\": 0, \"ticks\": \"\"}, \"type\": \"mesh3d\"}], \"parcoords\": [{\"line\": {\"colorbar\": {\"outlinewidth\": 0, \"ticks\": \"\"}}, \"type\": \"parcoords\"}], \"pie\": [{\"automargin\": true, \"type\": \"pie\"}], \"scatter\": [{\"marker\": {\"colorbar\": {\"outlinewidth\": 0, \"ticks\": \"\"}}, \"type\": \"scatter\"}], \"scatter3d\": [{\"line\": {\"colorbar\": {\"outlinewidth\": 0, \"ticks\": \"\"}}, \"marker\": {\"colorbar\": {\"outlinewidth\": 0, \"ticks\": \"\"}}, \"type\": \"scatter3d\"}], \"scattercarpet\": [{\"marker\": {\"colorbar\": {\"outlinewidth\": 0, \"ticks\": \"\"}}, \"type\": \"scattercarpet\"}], \"scattergeo\": [{\"marker\": {\"colorbar\": {\"outlinewidth\": 0, \"ticks\": \"\"}}, \"type\": \"scattergeo\"}], \"scattergl\": [{\"marker\": {\"colorbar\": {\"outlinewidth\": 0, \"ticks\": \"\"}}, \"type\": \"scattergl\"}], \"scattermapbox\": [{\"marker\": {\"colorbar\": {\"outlinewidth\": 0, \"ticks\": \"\"}}, \"type\": \"scattermapbox\"}], \"scatterpolar\": [{\"marker\": {\"colorbar\": {\"outlinewidth\": 0, \"ticks\": \"\"}}, \"type\": \"scatterpolar\"}], \"scatterpolargl\": [{\"marker\": {\"colorbar\": {\"outlinewidth\": 0, \"ticks\": \"\"}}, \"type\": \"scatterpolargl\"}], \"scatterternary\": [{\"marker\": {\"colorbar\": {\"outlinewidth\": 0, \"ticks\": \"\"}}, \"type\": \"scatterternary\"}], \"surface\": [{\"colorbar\": {\"outlinewidth\": 0, \"ticks\": \"\"}, \"colorscale\": [[0.0, \"#0d0887\"], [0.1111111111111111, \"#46039f\"], [0.2222222222222222, \"#7201a8\"], [0.3333333333333333, \"#9c179e\"], [0.4444444444444444, \"#bd3786\"], [0.5555555555555556, \"#d8576b\"], [0.6666666666666666, \"#ed7953\"], [0.7777777777777778, \"#fb9f3a\"], [0.8888888888888888, \"#fdca26\"], [1.0, \"#f0f921\"]], \"type\": \"surface\"}], \"table\": [{\"cells\": {\"fill\": {\"color\": \"#EBF0F8\"}, \"line\": {\"color\": \"white\"}}, \"header\": {\"fill\": {\"color\": \"#C8D4E3\"}, \"line\": {\"color\": \"white\"}}, \"type\": \"table\"}]}, \"layout\": {\"annotationdefaults\": {\"arrowcolor\": \"#2a3f5f\", \"arrowhead\": 0, \"arrowwidth\": 1}, \"coloraxis\": {\"colorbar\": {\"outlinewidth\": 0, \"ticks\": \"\"}}, \"colorscale\": {\"diverging\": [[0, \"#8e0152\"], [0.1, \"#c51b7d\"], [0.2, \"#de77ae\"], [0.3, \"#f1b6da\"], [0.4, \"#fde0ef\"], [0.5, \"#f7f7f7\"], [0.6, \"#e6f5d0\"], [0.7, \"#b8e186\"], [0.8, \"#7fbc41\"], [0.9, \"#4d9221\"], [1, \"#276419\"]], \"sequential\": [[0.0, \"#0d0887\"], [0.1111111111111111, \"#46039f\"], [0.2222222222222222, \"#7201a8\"], [0.3333333333333333, \"#9c179e\"], [0.4444444444444444, \"#bd3786\"], [0.5555555555555556, \"#d8576b\"], [0.6666666666666666, \"#ed7953\"], [0.7777777777777778, \"#fb9f3a\"], [0.8888888888888888, \"#fdca26\"], [1.0, \"#f0f921\"]], \"sequentialminus\": [[0.0, \"#0d0887\"], [0.1111111111111111, \"#46039f\"], [0.2222222222222222, \"#7201a8\"], [0.3333333333333333, \"#9c179e\"], [0.4444444444444444, \"#bd3786\"], [0.5555555555555556, \"#d8576b\"], [0.6666666666666666, \"#ed7953\"], [0.7777777777777778, \"#fb9f3a\"], [0.8888888888888888, \"#fdca26\"], [1.0, \"#f0f921\"]]}, \"colorway\": [\"#636efa\", \"#EF553B\", \"#00cc96\", \"#ab63fa\", \"#FFA15A\", \"#19d3f3\", \"#FF6692\", \"#B6E880\", \"#FF97FF\", \"#FECB52\"], \"font\": {\"color\": \"#2a3f5f\"}, \"geo\": {\"bgcolor\": \"white\", \"lakecolor\": \"white\", \"landcolor\": \"#E5ECF6\", \"showlakes\": true, \"showland\": true, \"subunitcolor\": \"white\"}, \"hoverlabel\": {\"align\": \"left\"}, \"hovermode\": \"closest\", \"mapbox\": {\"style\": \"light\"}, \"paper_bgcolor\": \"white\", \"plot_bgcolor\": \"#E5ECF6\", \"polar\": {\"angularaxis\": {\"gridcolor\": \"white\", \"linecolor\": \"white\", \"ticks\": \"\"}, \"bgcolor\": \"#E5ECF6\", \"radialaxis\": {\"gridcolor\": \"white\", \"linecolor\": \"white\", \"ticks\": \"\"}}, \"scene\": {\"xaxis\": {\"backgroundcolor\": \"#E5ECF6\", \"gridcolor\": \"white\", \"gridwidth\": 2, \"linecolor\": \"white\", \"showbackground\": true, \"ticks\": \"\", \"zerolinecolor\": \"white\"}, \"yaxis\": {\"backgroundcolor\": \"#E5ECF6\", \"gridcolor\": \"white\", \"gridwidth\": 2, \"linecolor\": \"white\", \"showbackground\": true, \"ticks\": \"\", \"zerolinecolor\": \"white\"}, \"zaxis\": {\"backgroundcolor\": \"#E5ECF6\", \"gridcolor\": \"white\", \"gridwidth\": 2, \"linecolor\": \"white\", \"showbackground\": true, \"ticks\": \"\", \"zerolinecolor\": \"white\"}}, \"shapedefaults\": {\"line\": {\"color\": \"#2a3f5f\"}}, \"ternary\": {\"aaxis\": {\"gridcolor\": \"white\", \"linecolor\": \"white\", \"ticks\": \"\"}, \"baxis\": {\"gridcolor\": \"white\", \"linecolor\": \"white\", \"ticks\": \"\"}, \"bgcolor\": \"#E5ECF6\", \"caxis\": {\"gridcolor\": \"white\", \"linecolor\": \"white\", \"ticks\": \"\"}}, \"title\": {\"x\": 0.05}, \"xaxis\": {\"automargin\": true, \"gridcolor\": \"white\", \"linecolor\": \"white\", \"ticks\": \"\", \"title\": {\"standoff\": 15}, \"zerolinecolor\": \"white\", \"zerolinewidth\": 2}, \"yaxis\": {\"automargin\": true, \"gridcolor\": \"white\", \"linecolor\": \"white\", \"ticks\": \"\", \"title\": {\"standoff\": 15}, \"zerolinecolor\": \"white\", \"zerolinewidth\": 2}}}},\n",
              "                        {\"responsive\": true}\n",
              "                    ).then(function(){\n",
              "                            \n",
              "var gd = document.getElementById('8d8e9077-b805-496d-bc6a-ddfffdc9c414');\n",
              "var x = new MutationObserver(function (mutations, observer) {{\n",
              "        var display = window.getComputedStyle(gd).display;\n",
              "        if (!display || display === 'none') {{\n",
              "            console.log([gd, 'removed!']);\n",
              "            Plotly.purge(gd);\n",
              "            observer.disconnect();\n",
              "        }}\n",
              "}});\n",
              "\n",
              "// Listen for the removal of the full notebook cells\n",
              "var notebookContainer = gd.closest('#notebook-container');\n",
              "if (notebookContainer) {{\n",
              "    x.observe(notebookContainer, {childList: true});\n",
              "}}\n",
              "\n",
              "// Listen for the clearing of the current output cell\n",
              "var outputEl = gd.closest('.output');\n",
              "if (outputEl) {{\n",
              "    x.observe(outputEl, {childList: true});\n",
              "}}\n",
              "\n",
              "                        })\n",
              "                };\n",
              "                \n",
              "            </script>\n",
              "        </div>\n",
              "</body>\n",
              "</html>"
            ]
          },
          "metadata": {
            "tags": []
          }
        }
      ]
    },
    {
      "cell_type": "code",
      "metadata": {
        "id": "X8_gc7KxW1vg",
        "colab_type": "code",
        "outputId": "513cdd62-b32d-4df0-9082-052de19146b0",
        "colab": {
          "base_uri": "https://localhost:8080/",
          "height": 35
        }
      },
      "source": [
        "X_cp = X_std_sk.copy()\n",
        "print(type(X_cp))"
      ],
      "execution_count": 0,
      "outputs": [
        {
          "output_type": "stream",
          "text": [
            "<class 'numpy.ndarray'>\n"
          ],
          "name": "stdout"
        }
      ]
    },
    {
      "cell_type": "code",
      "metadata": {
        "id": "qjIzAHKUJSpd",
        "colab_type": "code",
        "outputId": "c674ef68-f725-400e-fe7a-10a096388a7f",
        "colab": {
          "base_uri": "https://localhost:8080/",
          "height": 155
        }
      },
      "source": [
        "from sklearn.manifold import TSNE\n",
        "import time\n",
        "\n",
        "pca = PCA(n_components=10)\n",
        "pca_result = pca.fit_transform(X_std_sk)\n",
        "print('Cumulative explained variation for n principal components: {}'.format(np.sum(pca.explained_variance_ratio_)))\n",
        "tsne = TSNE(n_components=3, verbose=1, perplexity=40, n_iter=300)\n",
        "Y_tsne = tsne.fit_transform(pca_result)"
      ],
      "execution_count": 0,
      "outputs": [
        {
          "output_type": "stream",
          "text": [
            "Cumulative explained variation for n principal components: 0.9895134446940302\n",
            "[t-SNE] Computing 121 nearest neighbors...\n",
            "[t-SNE] Indexed 493 samples in 0.001s...\n",
            "[t-SNE] Computed neighbors for 493 samples in 0.022s...\n",
            "[t-SNE] Computed conditional probabilities for sample 493 / 493\n",
            "[t-SNE] Mean sigma: 0.683836\n",
            "[t-SNE] KL divergence after 250 iterations with early exaggeration: 83.821404\n",
            "[t-SNE] KL divergence after 300 iterations: 2.250958\n"
          ],
          "name": "stdout"
        }
      ]
    },
    {
      "cell_type": "code",
      "metadata": {
        "id": "Xauk8dnLU94E",
        "colab_type": "code",
        "outputId": "c35fc66a-6fc4-463d-f26f-fa27df9cdf5e",
        "colab": {
          "base_uri": "https://localhost:8080/",
          "height": 542
        }
      },
      "source": [
        "data_tsne = []\n",
        "\n",
        "for position, col in zip(('Center', \n",
        "                          'Center-Forward', \n",
        "                          'Guard', \n",
        "                          'Forward', \n",
        "                          'Forward-Guard', \n",
        "                          'Guard-Forward', \n",
        "                          'Forward-Center'), colors.values()):\n",
        "    index = df_active_player_positions.index[df_active_player_positions['POSITION'] == position]\n",
        "    playerID = df_active_player_positions[df_active_player_positions['POSITION'] == position]['PLAYER_ID']\n",
        "    trace_tsne = go.Scatter3d(\n",
        "        x = Y_tsne[index, 0],\n",
        "        y = Y_tsne[index, 1],\n",
        "        z = Y_tsne[index, 2],\n",
        "        text = list(df_playerID_name_pairs.loc[playerID]['NAME']),\n",
        "        mode = 'markers',\n",
        "        name = position,\n",
        "        marker = dict(\n",
        "            color = col,\n",
        "            size = 12,\n",
        "            line = dict(\n",
        "                color = 'rgba(217, 217, 217, 0.14)',\n",
        "                width = 0.5),\n",
        "                opacity = 0.8\n",
        "        )\n",
        "    )\n",
        "    data_tsne.append(trace_tsne)\n",
        "\n",
        "layout = dict(\n",
        "    showlegend = True,\n",
        "    scene = dict(\n",
        "        xaxis = dict(title = 'PC1'),\n",
        "        yaxis = dict(title = 'PC2'),\n",
        "        zaxis = dict(title = 'PC3')\n",
        "    )\n",
        ")\n",
        "\n",
        "fig_tsne = go.Figure(data=data_tsne, layout=layout)\n",
        "py.iplot(fig_tsne, filename='projection_tsne.html')"
      ],
      "execution_count": 0,
      "outputs": [
        {
          "output_type": "display_data",
          "data": {
            "text/html": [
              "<html>\n",
              "<head><meta charset=\"utf-8\" /></head>\n",
              "<body>\n",
              "    <div>\n",
              "            <script src=\"https://cdnjs.cloudflare.com/ajax/libs/mathjax/2.7.5/MathJax.js?config=TeX-AMS-MML_SVG\"></script><script type=\"text/javascript\">if (window.MathJax) {MathJax.Hub.Config({SVG: {font: \"STIX-Web\"}});}</script>\n",
              "                <script type=\"text/javascript\">window.PlotlyConfig = {MathJaxConfig: 'local'};</script>\n",
              "        <script src=\"https://cdn.plot.ly/plotly-latest.min.js\"></script>    \n",
              "            <div id=\"61c8fa0a-624d-414e-beb4-986a92e6b670\" class=\"plotly-graph-div\" style=\"height:525px; width:100%;\"></div>\n",
              "            <script type=\"text/javascript\">\n",
              "                \n",
              "                    window.PLOTLYENV=window.PLOTLYENV || {};\n",
              "                    \n",
              "                if (document.getElementById(\"61c8fa0a-624d-414e-beb4-986a92e6b670\")) {\n",
              "                    Plotly.newPlot(\n",
              "                        '61c8fa0a-624d-414e-beb4-986a92e6b670',\n",
              "                        [{\"marker\": {\"color\": \"#0D76BF\", \"line\": {\"color\": \"rgba(217, 217, 217, 0.14)\", \"width\": 0.5}, \"opacity\": 0.8, \"size\": 12}, \"mode\": \"markers\", \"name\": \"Center\", \"text\": [\"Steven Adams\", \"Jarrett Allen\", \"Deandre Ayton\", \"Mo Bamba\", \"Khem Birch\", \"Bismack Biyombo\", \"Marques Bolden\", \"Moses Brown\", \"Clint Capela\", \"Willie Cauley-Stein\", \"Tyson Chandler\", \"DeMarcus Cousins\", \"Dewayne Dedmon\", \"Gorgui Dieng\", \"Andre Drummond\", \"Tacko Fall\", \"Marc Gasol\", \"Rudy Gobert\", \"Nikola Jokic\", \"Damian Jones\", \"DeAndre Jordan\", \"Enes Kanter\", \"Alex Len\", \"Brook Lopez\", \"Robin Lopez\", \"Ian Mahinmi\", \"Boban Marjanovic\", \"Jusuf Nurkic\", \"Jakob Poeltl\", \"Jonas Valanciunas\", \"Nikola Vucevic\", \"Hassan Whiteside\", \"Ante Zizic\", \"Ivica Zubac\"], \"type\": \"scatter3d\", \"x\": [-3.367856502532959, 0.33906862139701843, 6.989546775817871, -0.3285987377166748, 7.235806941986084, -3.9996070861816406, 8.159761428833008, 8.149511337280273, -2.086078405380249, -2.2496492862701416, -10.605196952819824, -11.530097007751465, -6.952293395996094, -4.821872711181641, -9.868050575256348, 11.563065528869629, -10.952863693237305, -5.700962543487549, -1.7358670234680176, 8.838699340820312, -11.752161026000977, -2.809018850326538, -5.875341892242432, -11.618212699890137, -57.125492095947266, -2.53257417678833, 2.8210065364837646, -1.3595532178878784, -5.945494174957275, -4.477327346801758, -6.006006717681885, -6.3021559715271, -10.120231628417969, 7.543481349945068], \"y\": [-0.3261336088180542, -0.465482234954834, 3.4140918254852295, -1.3499778509140015, 0.6590160131454468, -2.3878014087677, -12.451101303100586, -5.150896072387695, -2.9772307872772217, -1.452870488166809, 1.2814602851867676, 7.213658809661865, -0.9715573191642761, 2.6376402378082275, 2.1606717109680176, -0.2930208444595337, 6.4087605476379395, -2.6386492252349854, 4.988126277923584, -7.251672744750977, 1.3466174602508545, 3.3936972618103027, 0.6350009441375732, 5.84114933013916, 95.28021240234375, -0.08616071939468384, -3.368917465209961, -2.5648720264434814, 0.49652230739593506, 2.9668524265289307, 4.547908782958984, 0.25737327337265015, -45.0214729309082, 3.6160407066345215], \"z\": [12.900873184204102, 3.0422935485839844, -11.817867279052734, -3.014127254486084, -10.440583229064941, 14.357331275939941, -14.652854919433594, -12.122564315795898, 11.989448547363281, 6.616253852844238, 10.7254638671875, 13.773162841796875, 5.802310943603516, 8.244476318359375, 13.643095016479492, -16.35053825378418, 11.520892143249512, 12.35018539428711, 8.112251281738281, 4.219715595245361, 12.665440559387207, 13.409257888793945, 8.159032821655273, 9.289656639099121, -123.8429183959961, 9.783905982971191, 3.7220256328582764, 9.1489896774292, -12.716954231262207, 11.742818832397461, 12.837594032287598, 11.756982803344727, -67.32386779785156, -9.660453796386719]}, {\"marker\": {\"color\": \"#804040\", \"line\": {\"color\": \"rgba(217, 217, 217, 0.14)\", \"width\": 0.5}, \"opacity\": 0.8, \"size\": 12}, \"mode\": \"markers\", \"name\": \"Center-Forward\", \"text\": [\"Bam Adebayo\", \"LaMarcus Aldridge\", \"Aron Baynes\", \"Goga Bitadze\", \"Tony Bradley\", \"Thomas Bryant\", \"Wendell Carter Jr.\", \"Ed Davis\", \"Joel Embiid\", \"Isaiah Hartenstein\", \"Jaxson Hayes\", \"Dewan Hernandez\", \"Willy Hernangomez\", \"Nene\", \"Al Horford\", \"Dwight Howard\", \"JaVale McGee\", \"Eric Mika\", \"Nerlens Noel\", \"Kyle O'Quinn\", \"Jahlil Okafor\", \"Anzejs Pasecniks\", \"Vincent Poirier\", \"Naz Reid\", \"Mitchell Robinson\", \"Tristan Thompson\", \"Karl-Anthony Towns\", \"Myles Turner\", \"Robert Williams III\"], \"type\": \"scatter3d\", \"x\": [-0.8309595584869385, -12.163187026977539, -7.751414775848389, 2.3244621753692627, 7.755246162414551, 3.9472196102142334, 1.4996286630630493, -1.94013249874115, -9.954164505004883, 10.672880172729492, 10.968816757202148, 6.899923324584961, 0.8092305064201355, -9.837542533874512, -8.835432052612305, -13.60655689239502, -6.431280612945557, 3.815833330154419, -4.5781049728393555, -5.175859451293945, -1.2697397470474243, 6.345085620880127, -2.030038833618164, -3.337099552154541, 9.750555992126465, -3.9853596687316895, -3.396639108657837, -7.341402530670166, 9.103315353393555], \"y\": [1.011254072189331, 8.995038032531738, -3.1708056926727295, -2.441328763961792, 0.17517107725143433, -3.829665422439575, 0.6934362053871155, -0.8696868419647217, 1.5532233715057373, -6.628190517425537, -7.419682502746582, -9.480951309204102, -4.104039669036865, 4.999481678009033, 5.676061630249023, 9.152685165405273, -0.9425535798072815, 3.090083360671997, -1.3022581338882446, -3.6194956302642822, -1.6283316612243652, -1.7452784776687622, -14.425583839416504, -8.873299598693848, 3.3503925800323486, 1.619649052619934, 5.131755828857422, 2.3336069583892822, 1.3772661685943604], \"z\": [1.8606809377670288, 10.3778715133667, 5.555387020111084, -11.354447364807129, -13.131514549255371, 5.7090983390808105, -9.809967041015625, 14.682358741760254, 5.301248550415039, 1.8717705011367798, 4.180356025695801, -7.521756172180176, 2.654787063598633, 13.95382022857666, 11.393986701965332, 7.930230140686035, 14.044930458068848, -13.892166137695312, 6.909588813781738, 7.342092514038086, 1.1180305480957031, -11.726667404174805, 7.189753532409668, -6.198253154754639, -13.755568504333496, 14.670828819274902, 10.36650562286377, 6.215905666351318, -15.759322166442871]}, {\"marker\": {\"color\": \"#EF553B\", \"line\": {\"color\": \"rgba(217, 217, 217, 0.14)\", \"width\": 0.5}, \"opacity\": 0.8, \"size\": 12}, \"mode\": \"markers\", \"name\": \"Guard\", \"text\": [\"Nickeil Alexander-Walker\", \"Grayson Allen\", \"Kadeem Allen\", \"Ryan Arcidiacono\", \"D.J. Augustin\", \"Lonzo Ball\", \"J.J. Barea\", \"Will Barton\", \"Bradley Beal\", \"Malik Beasley\", \"Marco Belinelli\", \"Patrick Beverley\", \"Eric Bledsoe\", \"Bogdan Bogdanovic\", \"Jordan Bone\", \"Isaac Bonga\", \"Devin Booker\", \"Ky Bowman\", \"Avery Bradley\", \"Malcolm Brogdon\", \"Charles Brown Jr.\", \"Jalen Brunson\", \"Trey Burke\", \"Alec Burks\", \"Kentavious Caldwell-Pope\", \"Jevon Carter\", \"Michael Carter-Williams\", \"Alex Caruso\", \"Chris Chiozza\", \"Jordan Clarkson\", \"Chris Clemons\", \"Antonius Cleveland\", \"Mike Conley\", \"Pat Connaughton\", \"Quinn Cook\", \"Seth Curry\", \"Stephen Curry\", \"Troy Daniels\", \"Terence Davis\", \"Matthew Dellavedova\", \"Donte DiVincenzo\", \"Hamidou Diallo\", \"Spencer Dinwiddie\", \"Luguentz Dort\", \"Damyean Dotson\", \"Goran Dragic\", \"Kris Dunn\", \"Carsen Edwards\", \"Wayne Ellington\", \"Dante Exum\", \"Terrance Ferguson\", \"Yogi Ferrell\", \"Bryn Forbes\", \"De'Aaron Fox\", \"Michael Frazier\", \"Tim Frazier\", \"Markelle Fultz\", \"Langston Galloway\", \"Darius Garland\", \"Brandon Goodwin\", \"Eric Gordon\", \"Devonte' Graham\", \"Josh Gray\", \"Danny Green\", \"Marko Guduric\", \"Kyle Guy\", \"James Harden\", \"Jared Harper\", \"Gary Harris\", \"Shaquille Harrison\", \"Josh Hart\", \"Tyler Herro\", \"Buddy Hield\", \"George Hill\", \"Aaron Holiday\", \"Jrue Holiday\", \"Talen Horton-Tucker\", \"Kyrie Irving\", \"Frank Jackson\", \"Reggie Jackson\", \"Tyler Johnson\", \"Tyus Jones\", \"Cory Joseph\", \"Luke Kennard\", \"Brandon Knight\", \"John Konchar\", \"Caris LeVert\", \"Jalen Lecque\", \"Courtney Lee\", \"Damian Lillard\", \"Kyle Lowry\", \"Jeremiah Martin\", \"Frank Mason\", \"Garrison Mathews\", \"Wesley Matthews\", \"Patrick McCaw\", \"CJ McCollum\", \"T.J. McConnell\", \"Rodney McGruder\", \"Jordan McLaughlin\", \"Ben McLemore\", \"Jordan McRae\", \"De'Anthony Melton\", \"Patty Mills\", \"Donovan Mitchell\", \"Naz Mitrou-Long\", \"Adam Mokoka\", \"Malik Monk\", \"Matt Mooney\", \"E'Twaun Moore\", \"Ja Morant\", \"Monte Morris\", \"Emmanuel Mudiay\", \"Dejounte Murray\", \"Jamal Murray\", \"Shabazz Napier\", \"Raul Neto\", \"Jaylen Nowell\", \"Frank Ntilikina\", \"Kendrick Nunn\", \"Josh Okogie\", \"Victor Oladipo\", \"Chris Paul\", \"Elfrid Payton\", \"Gary Payton II\", \"Jordan Poole\", \"Norman Powell\", \"JJ Redick\", \"Josh Richardson\", \"Austin Rivers\", \"Jerome Robinson\", \"Rajon Rondo\", \"Derrick Rose\", \"Terry Rozier\", \"Ricky Rubio\", \"D'Angelo Russell\", \"Tomas Satoransky\", \"Dennis Schroder\", \"Collin Sexton\", \"Landry Shamet\", \"Kobi Simmons\", \"Anfernee Simons\", \"Marcus Smart\", \"Ish Smith\", \"Zhaire Smith\", \"Dennis Smith Jr.\", \"Tony Snell\", \"Edmond Sumner\", \"Jeff Teague\", \"Isaiah Thomas\", \"Khyri Thomas\", \"Matt Thomas\", \"Klay Thompson\", \"Allonzo Trier\", \"Rayjon Tucker\", \"Denzel Valentine\", \"Fred VanVleet\", \"Gabe Vincent\", \"Dion Waiters\", \"Kemba Walker\", \"John Wall\", \"Derrick Walton Jr.\", \"Brad Wanamaker\", \"Tremont Waters\", \"Paul Watson\", \"Russell Westbrook\", \"Coby White\", \"Derrick White\", \"Lou Williams\", \"Nigel Williams-Goss\", \"Delon Wright\", \"Trae Young\"], \"type\": \"scatter3d\", \"x\": [-4.284535884857178, 66.11631774902344, 0.5080921649932861, 10.773150444030762, -0.6454858183860779, 0.9257611036300659, -1.5570940971374512, -71.58908081054688, 15.960150718688965, 7.743387699127197, 1.6123175621032715, -3.1800384521484375, 1.9803121089935303, 5.711996555328369, 9.075516700744629, 1.795041799545288, -5.480917930603027, 0.36071088910102844, 0.11705252528190613, 5.540369033813477, 7.62449312210083, 6.543045520782471, -7.974105358123779, -5.330911159515381, -1.0368726253509521, 1.5881993770599365, -0.9276139736175537, -1.2450264692306519, 13.487272262573242, 19.507997512817383, -2.123084306716919, -8.932129859924316, -3.947242498397827, 9.374147415161133, 8.28925609588623, 7.546288967132568, -2.5885109901428223, 3.6951775550842285, -2.864694833755493, -2.561767578125, 3.8007802963256836, 0.8187808394432068, -5.922362804412842, -0.9401722550392151, 4.790340423583984, -2.736781120300293, 0.522257387638092, 4.494068145751953, 0.9262782335281372, 8.9044771194458, 6.599479675292969, 5.848874568939209, 5.044479846954346, -1.7842603921890259, 1.357019305229187, 2.6393234729766846, 2.501174211502075, -10.619806289672852, 1.9600419998168945, 5.8261003494262695, 1.4744027853012085, 13.73536491394043, 1.2368508577346802, 4.283616065979004, 5.571755409240723, 14.258974075317383, -5.646578311920166, 10.99565315246582, -8.951520919799805, 3.855302572250366, -108.71001434326172, -1.480921983718872, -12.259672164916992, 3.1350464820861816, 2.361741304397583, -4.621262550354004, 6.7231035232543945, -0.765589714050293, 6.471155643463135, -2.919426679611206, -167.7035369873047, 2.8758747577667236, -3.515252113342285, 8.861274719238281, -3.907933235168457, 12.195907592773438, -95.86814880371094, 7.905561447143555, 1.9694329500198364, -0.7014976739883423, -4.525827884674072, 9.615022659301758, 2.546107530593872, -3.189195156097412, -0.29459908604621887, 6.943909645080566, 0.7512460350990295, 1.7129595279693604, 4.524448394775391, -3.375422954559326, -9.381004333496094, 20.329957962036133, 6.5089569091796875, 0.9196003079414368, -8.583390235900879, 7.94771671295166, 6.773816108703613, 11.238456726074219, 13.231217384338379, -7.890151023864746, 1.8883662223815918, 8.54072380065918, -4.298762321472168, 6.737795352935791, -10.317090034484863, 2.643207550048828, 9.37492847442627, 6.181818962097168, 10.275918960571289, 2.0909507274627686, 7.999018669128418, -3.3192861080169678, -7.350187301635742, -0.9775519371032715, -3.4766719341278076, 4.168435573577881, 9.958532333374023, 1.6562484502792358, 102.1319808959961, -6.047115325927734, -2.893352508544922, -6.563872814178467, -2.9374332427978516, -9.11064624786377, -6.192508220672607, -5.80048131942749, 4.75193977355957, -4.599667072296143, 8.924220085144043, 10.504979133605957, 7.515360355377197, 5.397583961486816, -3.3993301391601562, -3.0689523220062256, -2.197568893432617, 3.091311454772949, -11.420856475830078, -2.79837965965271, -4.683305740356445, 1.022751808166504, -1.2779697179794312, 0.1751352846622467, 2.006955862045288, 0.509491503238678, 5.965057849884033, 6.888428688049316, 3.7370288372039795, 12.388249397277832, -5.9058613777160645, -1.2238614559173584, -6.798617362976074, -4.176234245300293, -0.22991783916950226, 7.864037990570068, 2.6956777572631836, -8.907271385192871, -3.7985620498657227, 11.439764022827148, -1.0368201732635498, 6.220262050628662, 5.38977575302124, -12.468814849853516], \"y\": [-11.656614303588867, 29.0212345123291, -51.50959396362305, -1.7559504508972168, 16.214847564697266, 6.131512641906738, 17.121044158935547, 24.39299964904785, -1.9163748025894165, 0.07140631973743439, 16.046855926513672, 9.053718566894531, 1.0539963245391846, 2.2790255546569824, -12.384775161743164, -5.310853004455566, 16.669227600097656, -12.599315643310547, 10.843753814697266, 5.686465740203857, -15.694083213806152, -2.748898506164551, 5.448341369628906, 6.620449066162109, 12.484790802001953, -16.235225677490234, 8.35591983795166, -7.523437976837158, -12.28244400024414, -57.46611022949219, -13.0619535446167, -11.087575912475586, 13.945452690124512, 3.0603458881378174, -3.806670904159546, 0.005680471658706665, 12.039629936218262, -2.280513048171997, -11.604884147644043, -7.357241153717041, -4.451578140258789, -3.883207321166992, 4.745550155639648, -8.287127494812012, 1.2961868047714233, 14.75537395477295, 4.520475387573242, -15.632814407348633, 14.683584213256836, 3.0129992961883545, 2.174234628677368, 1.7417622804641724, 0.2838863730430603, 4.172845840454102, -12.778982162475586, 4.565338134765625, -2.0416455268859863, 4.746523380279541, -14.270514488220215, -13.986184120178223, 11.77405834197998, 1.1158205270767212, -10.905316352844238, 12.757433891296387, -13.079634666442871, -6.5774383544921875, 14.686444282531738, -10.841550827026367, 8.728702545166016, -2.387092351913452, 37.53915786743164, 60.85945129394531, 8.7930908203125, -1.2785290479660034, -13.369269371032715, 12.616329193115234, -12.459080696105957, 12.706623077392578, -10.415518760681152, 14.72420597076416, -181.62261962890625, 4.321569919586182, 8.321659088134766, 0.3926321864128113, 14.074541091918945, -5.454782962799072, -23.613975524902344, -6.251081466674805, 11.610240936279297, 13.084897994995117, 12.336134910583496, -9.37537670135498, -8.747148513793945, -13.491769790649414, 9.394569396972656, -1.0856987237930298, 13.728860855102539, 7.122575759887695, 6.252316474914551, -6.779765605926514, 7.4412126541137695, -12.938520431518555, -3.964266061782837, 16.23544692993164, 6.353616714477539, -11.50612735748291, -10.248857498168945, 0.9596500396728516, -6.307088851928711, 9.76456069946289, -8.652755737304688, -2.740922451019287, 3.72627592086792, 7.46820592880249, 5.004631042480469, 2.3158326148986816, 0.48416662216186523, -8.184996604919434, 2.2567429542541504, -10.225625991821289, 0.5537195801734924, 12.484521865844727, 12.008882522583008, 9.972514152526855, -5.936800479888916, -14.041043281555176, 68.38343811035156, 10.365492820739746, -41.49446487426758, 10.765705108642578, -9.561735153198242, 15.73054313659668, 13.194234848022461, 2.683457374572754, 15.451687812805176, 14.426283836364746, 5.9057722091674805, 16.10928726196289, 3.468942642211914, -1.5200490951538086, -11.314037322998047, -10.459327697753906, 11.009960174560547, 9.304052352905273, -11.602149963378906, 7.445840835571289, 7.134065628051758, -7.020092010498047, 14.483149528503418, 14.239229202270508, -11.806816101074219, -12.03769588470459, 9.120004653930664, -8.453838348388672, -4.569433212280273, 0.9737540483474731, 2.5994439125061035, -12.020259857177734, 12.655550956726074, 12.712630271911621, 13.127372741699219, -14.424242973327637, -12.866129875183105, -8.997065544128418, -13.570050239562988, 12.847024917602539, -8.72741413116455, 1.6563905477523804, 15.489245414733887, -11.127331733703613, 5.042765140533447, -6.280310153961182], \"z\": [-8.844039916992188, 38.296546936035156, -7.179381370544434, 1.9239062070846558, 7.528454780578613, -8.07730770111084, 5.094024658203125, -40.76703643798828, 1.402849793434143, 4.603870391845703, 4.8377685546875, -0.41749879717826843, -18.979761123657227, 9.378366470336914, -11.280984878540039, -1.082823395729065, 0.9702497720718384, -0.6503282189369202, 2.692689895629883, 8.774856567382812, -2.074896812438965, 1.4460378885269165, -4.499330997467041, -3.238231897354126, 1.164445161819458, -2.131012201309204, -4.774220943450928, 1.6843516826629639, -5.686133861541748, -9.210068702697754, -0.08053608983755112, -1.936856746673584, 12.402032852172852, 0.4592241048812866, 5.538085460662842, 9.895254135131836, 16.27535629272461, 10.58658504486084, 6.467545986175537, 10.466034889221191, -2.7132680416107178, -12.44079303741455, -5.692607402801514, -4.451258659362793, 0.5947524309158325, 10.279838562011719, 0.7003505825996399, -4.053934097290039, -2.7306554317474365, -2.943807363510132, -0.923251748085022, 6.652451038360596, 11.153068542480469, -1.1374964714050293, -6.300343036651611, 1.9411733150482178, -7.302574634552002, -2.9441030025482178, 1.0894711017608643, 0.25327491760253906, 11.501202583312988, -2.1149582862854004, -9.338799476623535, 3.2893106937408447, -1.9145187139511108, -10.454435348510742, 16.202428817749023, -12.837185859680176, -4.941951751708984, -5.897063255310059, -0.9340715408325195, -0.892425537109375, -3.1839663982391357, -20.530174255371094, 3.5923380851745605, 10.582734107971191, -12.766350746154785, 9.535775184631348, 4.706439018249512, 4.0041890144348145, -44.04473114013672, 4.021627902984619, -4.315562725067139, 6.666969299316406, 1.4928704500198364, -10.115187644958496, -9.088897705078125, -6.211537837982178, 5.188776016235352, 14.378856658935547, 14.637250900268555, -11.575681686401367, -4.263847827911377, 4.898581027984619, 12.055371284484863, -2.748782157897949, 2.925672769546509, 0.1560051590204239, -3.947399854660034, -6.688887119293213, -2.3802449703216553, -85.57689666748047, -3.3448562622070312, -0.7843388915061951, -7.046721458435059, -3.6114981174468994, -11.871861457824707, -1.8227505683898926, -8.214229583740234, -2.3019790649414062, 5.766658782958984, 3.675722122192383, -2.867600679397583, 0.10461467504501343, -6.238772869110107, 5.974279880523682, 2.3157060146331787, -5.1752777099609375, -4.728885650634766, 3.194584846496582, -5.633307456970215, 3.531195878982544, 16.706951141357422, -6.313456058502197, -12.552323341369629, -6.086366176605225, -5.7552618980407715, 13.595976829528809, 217.378173828125, -4.501775741577148, -9.630173683166504, 10.37004566192627, 7.274779319763184, -4.239051818847656, 6.699595928192139, -1.310472011566162, 6.117260456085205, 3.231398344039917, 7.303996562957764, 5.866848945617676, -0.08732069283723831, 2.32936954498291, -3.032275676727295, -5.998361587524414, -7.048621654510498, -6.324867248535156, -0.8020102977752686, -9.099018096923828, 8.701372146606445, 7.906650543212891, -9.849119186401367, 8.38412857055664, 11.379378318786621, 3.0168261528015137, -10.955148696899414, 1.6029330492019653, 8.203369140625, -7.1455793380737305, -3.093702793121338, 12.101309776306152, 9.264836311340332, 2.3059239387512207, 4.18004846572876, -4.03451681137085, -11.245880126953125, 15.220804214477539, -2.7117881774902344, 4.01573371887207, 13.097557067871094, -7.352084159851074, 3.7356455326080322, 3.478008270263672]}, {\"marker\": {\"color\": \"#48c0a3\", \"line\": {\"color\": \"rgba(217, 217, 217, 0.14)\", \"width\": 0.5}, \"opacity\": 0.8, \"size\": 12}, \"mode\": \"markers\", \"name\": \"Forward\", \"text\": [\"Al-Farouq Aminu\", \"Giannis Antetokounmpo\", \"Kostas Antetokounmpo\", \"Thanasis Antetokounmpo\", \"Carmelo Anthony\", \"OG Anunoby\", \"Trevor Ariza\", \"Marvin Bagley III\", \"Harrison Barnes\", \"Keita Bates-Diop\", \"Jordan Bell\", \"Dragan Bender\", \"Davis Bertans\", \"Nemanja Bjelica\", \"Bojan Bogdanovic\", \"Jonah Bolden\", \"Jarrell Brantley\", \"Ignas Brazdeikis\", \"Mikal Bridges\", \"Miles Bridges\", \"Jimmy Butler\", \"Bruno Caboclo\", \"Vlatko Cancar\", \"DeMarre Carroll\", \"Wilson Chandler\", \"Zylan Cheatham\", \"Marquese Chriss\", \"Gary Clark\", \"John Collins\", \"Robert Covington\", \"Torrey Craig\", \"Jae Crowder\", \"Sekou Doumbouya\", \"Jared Dudley\", \"Kevin Durant\", \"James Ennis III\", \"Derrick Favors\", \"Dorian Finney-Smith\", \"Wenyen Gabriel\", \"Danilo Gallinari\", \"Paul George\", \"Taj Gibson\", \"Aaron Gordon\", \"Jerami Grant\", \"Draymond Green\", \"Blake Griffin\", \"Rui Hachimura\", \"Tobias Harris\", \"Udonis Haslem\", \"Gordon Hayward\", \"Juancho Hernangomez\", \"Kevin Hervey\", \"Solomon Hill\", \"Jaylen Hoard\", \"Rondae Hollis-Jefferson\", \"Richaun Holmes\", \"Serge Ibaka\", \"Ersan Ilyasova\", \"Brandon Ingram\", \"Jonathan Isaac\", \"Wes Iwundu\", \"Justin Jackson\", \"LeBron James\", \"Amile Jefferson\", \"Alize Johnson\", \"BJ Johnson\", \"Cameron Johnson\", \"James Johnson\", \"Derrick Jones Jr.\", \"Michael Kidd-Gilchrist\", \"Louis King\", \"Maxi Kleber\", \"Kevin Knox II\", \"Rodions Kurucs\", \"Kyle Kuzma\", \"Vic Law\", \"Jake Layman\", \"TJ Leaf\", \"Kawhi Leonard\", \"Kevon Looney\", \"Trey Lyles\", \"Caleb Martin\", \"Cody Martin\", \"Kelan Martin\", \"Doug McDermott\", \"Nicolo Melli\", \"Khris Middleton\", \"Darius Miller\", \"Paul Millsap\", \"Juwan Morgan\", \"Markieff Morris\", \"Marcus Morris Sr.\", \"Johnathan Motley\", \"Abdel Nader\", \"Georges Niang\", \"Royce O'Neale\", \"Semi Ojeleye\", \"Cedi Osman\", \"Tariq Owens\", \"Jabari Parker\", \"Chandler Parsons\", \"Eric Paschall\", \"Patrick Patterson\", \"Norvel Pelle\", \"Michael Porter Jr.\", \"Otto Porter Jr.\", \"Bobby Portis\", \"Taurean Prince\", \"Duncan Robinson\", \"Glenn Robinson III\", \"Isaiah Roby\", \"JaKarr Sampson\", \"Dario Saric\", \"Mike Scott\", \"Pascal Siakam\", \"Chris Silva\", \"Alen Smailagic\", \"Ray Spalding\", \"Omari Spellman\", \"Caleb Swanigan\", \"Anthony Tolliver\", \"P.J. Tucker\", \"Jarred Vanderbilt\", \"Noah Vonleh\", \"T.J. Warren\", \"P.J. Washington\", \"Andrew Wiggins\", \"Grant Williams\", \"Johnathan Williams\", \"Marvin Williams\", \"Zion Williamson\", \"D.J. Wilson\", \"Christian Wood\", \"Thaddeus Young\"], \"type\": \"scatter3d\", \"x\": [-7.808322429656982, -13.992900848388672, 2.2996413707733154, 9.034642219543457, -9.315369606018066, 2.485126495361328, -4.461674213409424, 9.01246166229248, -0.22662073373794556, -1.461179494857788, -3.6236538887023926, 6.254416465759277, 6.236289024353027, -11.514577865600586, -2.3260130882263184, -5.51542329788208, 5.324208736419678, 4.291468620300293, -0.47261208295822144, -0.6963841915130615, -3.0640344619750977, 0.6109050512313843, 8.962071418762207, -2.2598226070404053, -4.65765380859375, 10.908546447753906, 136.46104431152344, 5.0692033767700195, -1.8938217163085938, -0.4833108186721802, 2.8607840538024902, -55.481201171875, -0.35193559527397156, -5.760193824768066, -7.136107921600342, 13.694429397583008, -13.54047679901123, -0.9864521026611328, 3.1677496433258057, 1.341051697731018, -2.4716405868530273, -6.846003532409668, -3.13893461227417, -6.506422519683838, -10.29734992980957, -11.450098037719727, 9.773041725158691, 85.5423355102539, -4.6948089599609375, -86.32487487792969, -13.936272621154785, 6.885092735290527, -6.481417179107666, 6.157447338104248, -5.824841499328613, -1.7168307304382324, -10.280341148376465, -6.509284496307373, -6.1365838050842285, 10.729819297790527, 8.369181632995605, 8.393437385559082, -10.26061725616455, 8.372511863708496, -8.372316360473633, 8.195462226867676, -4.521440505981445, -4.858585834503174, 0.9830968379974365, -3.5009207725524902, 13.998551368713379, 10.713640213012695, 8.719115257263184, 39.044071197509766, -9.516454696655273, 7.602021217346191, 2.5054848194122314, -1.9690090417861938, -1.6964988708496094, 1.208393931388855, -6.63382625579834, 5.078161716461182, 0.34957215189933777, 8.325520515441895, 5.000599384307861, -0.5633862018585205, -0.6112756133079529, 5.776615619659424, -9.6166353225708, 14.444915771484375, 18.501529693603516, 15.245055198669434, -17.145925521850586, -1.0941309928894043, -1.171652913093567, 8.397564888000488, -3.2842674255371094, 4.8252973556518555, 9.944252967834473, -6.0489702224731445, 2.978351593017578, 4.744718551635742, -4.806557655334473, 8.858996391296387, 0.07214856147766113, -8.244484901428223, -9.711752891540527, -11.288304328918457, -3.5522656440734863, 7.45967435836792, 6.661888599395752, 3.3691725730895996, -10.211511611938477, -11.98758602142334, -1.3041088581085205, 6.8004021644592285, 11.20155143737793, 11.203721046447754, -16.54387092590332, 2.2546772956848145, -5.2338738441467285, -7.020391941070557, 6.382586479187012, -7.086516857147217, -7.939332962036133, -2.7329928874969482, -2.503615379333496, 124.0065689086914, 9.835582733154297, -6.431798934936523, 2.934819221496582, -6.1347270011901855, 4.358766078948975, -7.6894402503967285], \"y\": [7.556483745574951, 6.302380561828613, -12.713330268859863, -1.7007462978363037, 15.465898513793945, 4.802327632904053, 9.295014381408691, 42.93730545043945, 9.199146270751953, -5.351061820983887, 78.70146179199219, 5.039559841156006, -2.289114236831665, -0.031376153230667114, 16.265769958496094, -4.14024019241333, -12.922042846679688, -8.840578079223633, -25.47942543029785, -27.557538986206055, 10.927528381347656, 36.55731201171875, -9.503634452819824, 8.342635154724121, 8.213385581970215, -7.51751708984375, 4.4356770515441895, -15.620198249816895, -4.14608097076416, 10.327123641967773, 1.3335570096969604, 33.13802719116211, -7.085792064666748, 10.431741714477539, 14.648860931396484, -3.2160072326660156, -52.546531677246094, 3.4388723373413086, -8.608637809753418, 10.56910228729248, 10.969728469848633, 2.351882219314575, 4.8767595291137695, 3.2061052322387695, 8.334319114685059, 9.456436157226562, -6.264203071594238, 4.372538089752197, 3.356027841567993, 66.99044799804688, 4.615880966186523, -10.17476749420166, 1.5269495248794556, -4.634840488433838, -5.291790008544922, -1.6578261852264404, 4.084338665008545, 7.634337902069092, 1.8611692190170288, 6.877089977264404, -1.8019779920578003, 0.7346423864364624, 15.773974418640137, -2.881077527999878, -9.945608139038086, -13.65009593963623, -11.727612495422363, 5.0104780197143555, 0.8450905680656433, 1.1611056327819824, -10.424169540405273, 5.529238224029541, 6.031257152557373, -29.598459243774414, -2.137428045272827, -14.727795600891113, -1.3172552585601807, -3.31418776512146, 8.642723083496094, -0.6017043590545654, -1.534508466720581, -7.21253776550293, -4.780154228210449, -12.88601303100586, -4.642823219299316, -11.137619972229004, 12.759371757507324, -0.8511481881141663, 8.210232734680176, -7.936173915863037, 100.53209686279297, -15.464695930480957, 74.39232635498047, -1.727266550064087, -10.134584426879883, 3.0328774452209473, -1.601680874824524, 4.914150714874268, -10.458904266357422, 0.6034143567085266, -23.625635147094727, -5.671074390411377, 7.190836429595947, -2.5634634494781494, -9.78672981262207, 8.008877754211426, -2.151266098022461, 1.6482065916061401, -9.232669830322266, 4.718207836151123, -14.146527290344238, 0.9876735210418701, 2.332087516784668, 2.7999751567840576, 32.292999267578125, 1.756030797958374, -5.72066593170166, -3.414290189743042, 3.831803798675537, -5.978936672210693, 9.419706344604492, 8.342312812805176, -2.004318952560425, -3.352977752685547, 1.2709978818893433, -5.198838233947754, 10.262389183044434, -28.882221221923828, -0.561999499797821, 8.295681953430176, -11.606975555419922, -6.4489288330078125, -5.81703519821167, 6.940563678741455], \"z\": [6.576857089996338, 12.696629524230957, -13.052659034729004, -15.423386573791504, 15.27714729309082, -3.1224489212036133, 14.281146049499512, 56.65484619140625, 5.4696574211120605, -5.524409770965576, -11.201196670532227, -4.832058429718018, 9.497674942016602, 0.34222859144210815, -0.3911231458187103, -5.514554023742676, -14.921862602233887, -7.552333354949951, -3.3014068603515625, -3.3558719158172607, 8.117400169372559, 0.6258927583694458, -1.4651621580123901, 2.221623182296753, 7.718923091888428, -9.386319160461426, -102.12062072753906, -1.162222981452942, 3.4755337238311768, -0.5416965484619141, -4.536767482757568, 0.10984693467617035, -6.4560112953186035, 6.10477876663208, 14.262336730957031, 8.353718757629395, -10.15227222442627, -4.641386032104492, -9.991292953491211, 8.489726066589355, 13.182276725769043, 14.354458808898926, 2.657572031021118, 4.337331771850586, 5.074384689331055, 13.568096160888672, -2.678027868270874, -37.543277740478516, 16.03629493713379, 4.005065441131592, 19.924959182739258, -14.454646110534668, -3.749061346054077, -13.355818748474121, 1.590669870376587, 3.234132766723633, 8.868520736694336, 8.99564266204834, -0.42854639887809753, -0.31255248188972473, -4.371429443359375, -0.7634389996528625, 12.453835487365723, -10.615856170654297, -3.2376697063446045, 0.4405338764190674, -0.27187326550483704, 6.021278381347656, -6.201295375823975, 6.434621810913086, -5.000777721405029, 1.787987232208252, -5.208199977874756, 131.33389282226562, -2.922395706176758, -13.060855865478516, -3.8038578033447266, -2.4058916568756104, 7.954559326171875, 0.30678752064704895, -2.5173394680023193, -10.448756217956543, -7.82741641998291, -1.759681224822998, 12.191039085388184, 1.7340195178985596, 5.073195934295654, 7.089476585388184, 10.95189094543457, -5.935774803161621, 8.083895683288574, -39.564788818359375, 2.4431588649749756, -6.7970733642578125, 4.195197105407715, 3.2443461418151855, -8.437366485595703, -0.8422666192054749, -9.44468879699707, 1.5788744688034058, 54.84169006347656, 0.02700343355536461, 2.8281400203704834, -13.221600532531738, 7.400762557983398, 0.875705897808075, 0.8556755781173706, -4.362069129943848, 5.073583602905273, 1.6404389142990112, -10.58548641204834, -7.183337211608887, -1.3116624355316162, 1.3355443477630615, -12.221234321594238, -14.933370590209961, -0.37984588742256165, -12.238730430603027, 17.19769287109375, -12.47259521484375, 1.9383854866027832, 4.700748920440674, -14.283646583557129, 0.7142024040222168, 1.7241653203964233, -1.2337024211883545, 5.194422245025635, 12.574570655822754, -11.785576820373535, 12.35874080657959, 8.910106658935547, -7.8273444175720215, 3.366828441619873, 13.802652359008789]}, {\"marker\": {\"color\": \"#f0c239\", \"line\": {\"color\": \"rgba(217, 217, 217, 0.14)\", \"width\": 0.5}, \"opacity\": 0.8, \"size\": 12}, \"mode\": \"markers\", \"name\": \"Forward-Guard\", \"text\": [\"Kyle Anderson\", \"RJ Barrett\", \"Darius Bazley\", \"Brian Bowen II\", \"Oshae Brissett\", \"Brandon Clarke\", \"Luka Doncic\", \"Rudy Gay\", \"Maurice Harkless\", \"Mario Hezonja\", \"Justin Holiday\", \"Danuel House Jr.\", \"De'Andre Hunter\", \"Chandler Hutchison\", \"Joe Ingles\", \"Keldon Johnson\", \"Stanley Johnson\", \"Nassir Little\", \"Elie Okobo\", \"KZ Okpala\", \"Kelly Oubre Jr.\", \"Cam Reddish\", \"Thabo Sefolosha\", \"Jayson Tatum\", \"Justise Winslow\", \"Kobe Bryant\"], \"type\": \"scatter3d\", \"x\": [-4.667174339294434, -5.585165023803711, 1.023666262626648, 11.71677017211914, 4.958203315734863, 4.606656551361084, -10.283890724182129, -8.575531005859375, -3.8676950931549072, 96.41834259033203, -32.451663970947266, 10.927472114562988, 1.2311118841171265, -0.04965180158615112, -7.693391799926758, 12.974699020385742, -2.8263373374938965, -1.1800098419189453, 2.2175118923187256, 4.945892333984375, -9.013659477233887, 1.3625714778900146, -8.426192283630371, -12.247872352600098, -4.619796276092529, -8.92570972442627], \"y\": [-2.6286892890930176, -8.762864112854004, 29.69300651550293, -11.54149341583252, -11.280393600463867, -6.431964874267578, -6.939127445220947, 9.738518714904785, 3.4876112937927246, -65.81543731689453, 2.3803484439849854, -3.258120536804199, -9.118509292602539, -3.4574053287506104, 11.892833709716797, -8.893267631530762, 1.2150704860687256, -4.531405925750732, -6.436430931091309, -14.5155611038208, 4.114689826965332, -14.93368911743164, 10.036782264709473, -0.36071252822875977, -0.5699670910835266, 17.28194808959961], \"z\": [0.6723951697349548, -8.011605262756348, 0.7545574307441711, -10.647181510925293, -3.853175640106201, 6.872876167297363, 3.605353355407715, 13.023759841918945, 4.408237934112549, 77.03470611572266, -77.45972442626953, -84.60072326660156, -0.6504822373390198, -4.342101573944092, -0.3584373891353607, -9.463053703308105, -2.6351706981658936, -9.525875091552734, -4.933382034301758, -12.792115211486816, -0.14088979363441467, -4.57685661315918, 5.472203731536865, -2.8420212268829346, -3.9138150215148926, 13.15629768371582]}, {\"marker\": {\"color\": \"#161823\", \"line\": {\"color\": \"rgba(217, 217, 217, 0.14)\", \"width\": 0.5}, \"opacity\": 0.8, \"size\": 12}, \"mode\": \"markers\", \"name\": \"Guard-Forward\", \"text\": [\"Dwayne Bacon\", \"Nicolas Batum\", \"Kent Bazemore\", \"DeAndre' Bembry\", \"Ryan Broekhoff\", \"Dillon Brooks\", \"Bruce Brown\", \"Jaylen Brown\", \"Sterling Brown\", \"Troy Brown Jr.\", \"Reggie Bullock\", \"Deonte Burton\", \"Vince Carter\", \"Amir Coffey\", \"Allen Crabbe\", \"Jarrett Culver\", \"DeMar DeRozan\", \"PJ Dozier\", \"Jacob Evans\", \"Evan Fournier\", \"Melvin Frazier Jr.\", \"Shai Gilgeous-Alexander\", \"Treveon Graham\", \"Gerald Green\", \"Javonte Green\", \"Tim Hardaway Jr.\", \"Joe Harris\", \"Rodney Hood\", \"Kevin Huerter\", \"Andre Iguodala\", \"Josh Jackson\", \"Justin James\", \"DaQuan Jeffries\", \"Ty Jerome\", \"Furkan Korkmaz\", \"Kyle Korver\", \"Zach LaVine\", \"Jeremy Lamb\", \"Romeo Langford\", \"Damion Lee\", \"Terance Mann\", \"Malcolm Miller\", \"Shake Milton\", \"Dzanan Musa\", \"Svi Mykhailiuk\", \"Miye Oni\", \"Theo Pinson\", \"Kevin Porter Jr.\", \"Josh Reaves\", \"Cameron Reynolds\", \"Andre Roberson\", \"Terrence Ross\", \"Admiral Schofield\", \"Ben Simmons\", \"Max Strus\", \"Garrett Temple\", \"Matisse Thybulle\", \"Gary Trent Jr.\", \"Evan Turner\", \"Lonnie Walker IV\", \"Yuta Watanabe\", \"Kenrich Williams\"], \"type\": \"scatter3d\", \"x\": [87.14519500732422, -3.695509910583496, -4.29955530166626, 2.846431255340576, -3.268023729324341, -52.145050048828125, 5.529922962188721, -8.407121658325195, 4.889796733856201, -90.47276306152344, 4.2968549728393555, -0.9672213792800903, -7.524829864501953, 14.64714527130127, -12.792533874511719, -5.300652980804443, -10.297272682189941, -0.3244341015815735, 3.014556407928467, -0.9025943279266357, -3.693897008895874, 9.225488662719727, -2.1898553371429443, 2.285506010055542, 7.9666900634765625, -2.0637712478637695, -13.72054386138916, -10.880032539367676, 5.329980373382568, -6.804594993591309, 4.271448135375977, -5.399707317352295, -16.31147575378418, -1.3983138799667358, 140.62191772460938, -1.0461220741271973, -4.6023125648498535, -6.838551044464111, 11.20479679107666, 2.9213953018188477, 2.56860089302063, -6.972813129425049, -0.8249038457870483, -0.2938016355037689, -3.256221055984497, 4.564517021179199, 6.4166693687438965, -0.05154697224497795, 5.21316385269165, -1.952653408050537, -6.929007530212402, 0.04100542515516281, -0.7795386910438538, 4.6198248863220215, 3.447740316390991, -5.563202381134033, -5.763062477111816, -3.659353256225586, -7.332365989685059, -5.975744724273682, 1.5248140096664429, -5.944084644317627], \"y\": [39.59439468383789, 9.395132064819336, 11.240287780761719, 3.323286294937134, -11.717541694641113, 134.16357421875, -0.4350823760032654, -0.020459268242120743, -1.5853784084320068, 176.63446044921875, -0.06356365978717804, -7.3323163986206055, 17.008193969726562, -9.82042407989502, 5.5864033699035645, -7.092981338500977, 11.804305076599121, -6.933188438415527, -14.3162260055542, 15.050804138183594, -9.234781265258789, 5.367190361022949, 0.5441454648971558, 13.829453468322754, -5.815884590148926, 14.690157890319824, 2.9411420822143555, 7.105376720428467, 0.6372999548912048, 11.515680313110352, 5.5831427574157715, -8.800822257995605, -44.999900817871094, -13.185359954833984, 5.631471633911133, 8.841948509216309, 28.903423309326172, 6.447064399719238, -4.849296569824219, -11.658613204956055, -4.539520263671875, -7.990927696228027, -9.588634490966797, -4.191868305206299, -9.294421195983887, -10.853480339050293, -13.397648811340332, -6.254530906677246, -12.072002410888672, -14.870050430297852, 0.1284671127796173, 13.224581718444824, -9.236496925354004, 8.790361404418945, 1.2167444229125977, 9.591548919677734, -10.152814865112305, -11.428011894226074, 12.929465293884277, -10.494922637939453, -9.099349975585938, -5.989736080169678], \"z\": [7.35927152633667, 11.466602325439453, -0.3998912274837494, -7.247463226318359, 2.6252167224884033, 58.95595169067383, -5.100412845611572, -1.0925496816635132, -0.908137321472168, -79.10519409179688, 9.096392631530762, -11.77123737335205, 15.467249870300293, -1.582405686378479, -2.4716923236846924, -12.873936653137207, 11.512235641479492, -9.240861892700195, -2.940790891647339, 2.0448906421661377, -13.167932510375977, 5.149722099304199, -8.797372817993164, -0.1736411154270172, 0.08643653243780136, -2.265868663787842, -2.1425888538360596, -4.624772071838379, 3.120680332183838, 13.446541786193848, -6.930937767028809, -10.584296226501465, -5.165525913238525, -2.5016000270843506, 12.458044052124023, 15.15144157409668, -75.68539428710938, -1.1883680820465088, -2.539337158203125, 0.7392776012420654, -9.874228477478027, -5.2008514404296875, -2.5876920223236084, 29.781070709228516, 0.5893252491950989, -13.478964805603027, -4.9520583152771, -2.334806442260742, -10.989760398864746, 3.0029549598693848, -7.787339210510254, -1.2453041076660156, -6.979955196380615, 3.309451103210449, -14.693653106689453, -1.9950839281082153, -5.520855903625488, -2.7832651138305664, 4.667051315307617, 0.8945735096931458, -11.377976417541504, -10.771121978759766]}, {\"marker\": {\"color\": \"#827100\", \"line\": {\"color\": \"rgba(217, 217, 217, 0.14)\", \"width\": 0.5}, \"opacity\": 0.8, \"size\": 12}, \"mode\": \"markers\", \"name\": \"Forward-Center\", \"text\": [\"Chris Boucher\", \"Nicolas Claxton\", \"Zach Collins\", \"Anthony Davis\", \"Cheick Diallo\", \"Drew Eubanks\", \"Cristiano Felicio\", \"Bruno Fernando\", \"Daniel Gafford\", \"Harry Giles III\", \"JaMychal Green\", \"Montrezl Harrell\", \"John Henson\", \"Jaren Jackson Jr.\", \"Mfiondu Kabengele\", \"Frank Kaminsky\", \"Luke Kornet\", \"Skal Labissiere\", \"Meyers Leonard\", \"Kevin Love\", \"Thon Maker\", \"Lauri Markkanen\", \"Jalen McDaniels\", \"Chimezie Metu\", \"Mike Muscala\", \"Larry Nance Jr.\", \"Kelly Olynyk\", \"Mason Plumlee\", \"Kristaps Porzingis\", \"Dwight Powell\", \"Julius Randle\", \"Domantas Sabonis\", \"Daniel Theis\", \"Dean Wade\", \"Moritz Wagner\", \"Cody Zeller\"], \"type\": \"scatter3d\", \"x\": [3.9525086879730225, 10.717942237854004, 3.8286783695220947, -12.745443344116211, 2.717740774154663, 4.623636722564697, 9.400306701660156, 16.914491653442383, 10.72727108001709, -4.715372085571289, -9.326306343078613, -0.637692391872406, -4.586631774902344, 12.190240859985352, -4.748696327209473, 17.569120407104492, 1.9987733364105225, 0.39799025654792786, -12.11884593963623, -9.605901718139648, 4.699934005737305, -11.32561206817627, 12.213104248046875, 6.541640758514404, -4.121817588806152, -5.373410701751709, -5.119218349456787, -1.084948182106018, -8.84976863861084, -4.192770004272461, -1.4216117858886719, -6.507227897644043, 0.7976923584938049, 14.575798034667969, 4.0749406814575195, 229.59568786621094], \"y\": [-6.947322845458984, -4.0850419998168945, 0.6175029873847961, 4.491800308227539, -5.3923139572143555, 1.146395206451416, 2.3389649391174316, -32.9002571105957, 0.4525493383407593, 24.154891967773438, -1.5173126459121704, 1.0186212062835693, -1.8188949823379517, 4.276115894317627, -14.249837875366211, -4.850340366363525, -10.99924087524414, -19.796833038330078, -0.04948325455188751, 8.381523132324219, 3.1610593795776367, -1.444893717765808, -7.956211090087891, -5.278934478759766, 4.675840377807617, -3.467033624649048, 6.162234783172607, -0.6532149314880371, 3.3086955547332764, -1.4898982048034668, 3.0422699451446533, -1.5510493516921997, -3.7721714973449707, -10.152019500732422, -7.69452428817749, -9.035896301269531], \"z\": [-1.535935401916504, -15.281935691833496, -2.682015895843506, 10.953136444091797, 5.200353145599365, -12.568553924560547, -10.647869110107422, 61.78788375854492, -13.968771934509277, 9.218585968017578, 3.2865686416625977, 4.494856357574463, 9.229384422302246, 3.576636791229248, 6.748407363891602, 10.239593505859375, -2.681702136993408, -5.084012508392334, 2.578584671020508, 15.804742813110352, -4.551817893981934, -4.894409656524658, -11.618331909179688, -8.58476448059082, -9.979732513427734, 3.950331211090088, 1.007202386856079, 11.918664932250977, 4.127028465270996, 3.750598907470703, 8.319875717163086, 3.224468231201172, 4.9709248542785645, -0.0327908918261528, 1.4974095821380615, 1.005587100982666]}],\n",
              "                        {\"scene\": {\"xaxis\": {\"title\": {\"text\": \"PC1\"}}, \"yaxis\": {\"title\": {\"text\": \"PC2\"}}, \"zaxis\": {\"title\": {\"text\": \"PC3\"}}}, \"showlegend\": true, \"template\": {\"data\": {\"bar\": [{\"error_x\": {\"color\": \"#2a3f5f\"}, \"error_y\": {\"color\": \"#2a3f5f\"}, \"marker\": {\"line\": {\"color\": \"#E5ECF6\", \"width\": 0.5}}, \"type\": \"bar\"}], \"barpolar\": [{\"marker\": {\"line\": {\"color\": \"#E5ECF6\", \"width\": 0.5}}, \"type\": \"barpolar\"}], \"carpet\": [{\"aaxis\": {\"endlinecolor\": \"#2a3f5f\", \"gridcolor\": \"white\", \"linecolor\": \"white\", \"minorgridcolor\": \"white\", \"startlinecolor\": \"#2a3f5f\"}, \"baxis\": {\"endlinecolor\": \"#2a3f5f\", \"gridcolor\": \"white\", \"linecolor\": \"white\", \"minorgridcolor\": \"white\", \"startlinecolor\": \"#2a3f5f\"}, \"type\": \"carpet\"}], \"choropleth\": [{\"colorbar\": {\"outlinewidth\": 0, \"ticks\": \"\"}, \"type\": \"choropleth\"}], \"contour\": [{\"colorbar\": {\"outlinewidth\": 0, \"ticks\": \"\"}, \"colorscale\": [[0.0, \"#0d0887\"], [0.1111111111111111, \"#46039f\"], [0.2222222222222222, \"#7201a8\"], [0.3333333333333333, \"#9c179e\"], [0.4444444444444444, \"#bd3786\"], [0.5555555555555556, \"#d8576b\"], [0.6666666666666666, \"#ed7953\"], [0.7777777777777778, \"#fb9f3a\"], [0.8888888888888888, \"#fdca26\"], [1.0, \"#f0f921\"]], \"type\": \"contour\"}], \"contourcarpet\": [{\"colorbar\": {\"outlinewidth\": 0, \"ticks\": \"\"}, \"type\": \"contourcarpet\"}], \"heatmap\": [{\"colorbar\": {\"outlinewidth\": 0, \"ticks\": \"\"}, \"colorscale\": [[0.0, \"#0d0887\"], [0.1111111111111111, \"#46039f\"], [0.2222222222222222, \"#7201a8\"], [0.3333333333333333, \"#9c179e\"], [0.4444444444444444, \"#bd3786\"], [0.5555555555555556, \"#d8576b\"], [0.6666666666666666, \"#ed7953\"], [0.7777777777777778, \"#fb9f3a\"], [0.8888888888888888, \"#fdca26\"], [1.0, \"#f0f921\"]], \"type\": \"heatmap\"}], \"heatmapgl\": [{\"colorbar\": {\"outlinewidth\": 0, \"ticks\": \"\"}, \"colorscale\": [[0.0, \"#0d0887\"], [0.1111111111111111, \"#46039f\"], [0.2222222222222222, \"#7201a8\"], [0.3333333333333333, \"#9c179e\"], [0.4444444444444444, \"#bd3786\"], [0.5555555555555556, \"#d8576b\"], [0.6666666666666666, \"#ed7953\"], [0.7777777777777778, \"#fb9f3a\"], [0.8888888888888888, \"#fdca26\"], [1.0, \"#f0f921\"]], \"type\": \"heatmapgl\"}], \"histogram\": [{\"marker\": {\"colorbar\": {\"outlinewidth\": 0, \"ticks\": \"\"}}, \"type\": \"histogram\"}], \"histogram2d\": [{\"colorbar\": {\"outlinewidth\": 0, \"ticks\": \"\"}, \"colorscale\": [[0.0, \"#0d0887\"], [0.1111111111111111, \"#46039f\"], [0.2222222222222222, \"#7201a8\"], [0.3333333333333333, \"#9c179e\"], [0.4444444444444444, \"#bd3786\"], [0.5555555555555556, \"#d8576b\"], [0.6666666666666666, \"#ed7953\"], [0.7777777777777778, \"#fb9f3a\"], [0.8888888888888888, \"#fdca26\"], [1.0, \"#f0f921\"]], \"type\": \"histogram2d\"}], \"histogram2dcontour\": [{\"colorbar\": {\"outlinewidth\": 0, \"ticks\": \"\"}, \"colorscale\": [[0.0, \"#0d0887\"], [0.1111111111111111, \"#46039f\"], [0.2222222222222222, \"#7201a8\"], [0.3333333333333333, \"#9c179e\"], [0.4444444444444444, \"#bd3786\"], [0.5555555555555556, \"#d8576b\"], [0.6666666666666666, \"#ed7953\"], [0.7777777777777778, \"#fb9f3a\"], [0.8888888888888888, \"#fdca26\"], [1.0, \"#f0f921\"]], \"type\": \"histogram2dcontour\"}], \"mesh3d\": [{\"colorbar\": {\"outlinewidth\": 0, \"ticks\": \"\"}, \"type\": \"mesh3d\"}], \"parcoords\": [{\"line\": {\"colorbar\": {\"outlinewidth\": 0, \"ticks\": \"\"}}, \"type\": \"parcoords\"}], \"pie\": [{\"automargin\": true, \"type\": \"pie\"}], \"scatter\": [{\"marker\": {\"colorbar\": {\"outlinewidth\": 0, \"ticks\": \"\"}}, \"type\": \"scatter\"}], \"scatter3d\": [{\"line\": {\"colorbar\": {\"outlinewidth\": 0, \"ticks\": \"\"}}, \"marker\": {\"colorbar\": {\"outlinewidth\": 0, \"ticks\": \"\"}}, \"type\": \"scatter3d\"}], \"scattercarpet\": [{\"marker\": {\"colorbar\": {\"outlinewidth\": 0, \"ticks\": \"\"}}, \"type\": \"scattercarpet\"}], \"scattergeo\": [{\"marker\": {\"colorbar\": {\"outlinewidth\": 0, \"ticks\": \"\"}}, \"type\": \"scattergeo\"}], \"scattergl\": [{\"marker\": {\"colorbar\": {\"outlinewidth\": 0, \"ticks\": \"\"}}, \"type\": \"scattergl\"}], \"scattermapbox\": [{\"marker\": {\"colorbar\": {\"outlinewidth\": 0, \"ticks\": \"\"}}, \"type\": \"scattermapbox\"}], \"scatterpolar\": [{\"marker\": {\"colorbar\": {\"outlinewidth\": 0, \"ticks\": \"\"}}, \"type\": \"scatterpolar\"}], \"scatterpolargl\": [{\"marker\": {\"colorbar\": {\"outlinewidth\": 0, \"ticks\": \"\"}}, \"type\": \"scatterpolargl\"}], \"scatterternary\": [{\"marker\": {\"colorbar\": {\"outlinewidth\": 0, \"ticks\": \"\"}}, \"type\": \"scatterternary\"}], \"surface\": [{\"colorbar\": {\"outlinewidth\": 0, \"ticks\": \"\"}, \"colorscale\": [[0.0, \"#0d0887\"], [0.1111111111111111, \"#46039f\"], [0.2222222222222222, \"#7201a8\"], [0.3333333333333333, \"#9c179e\"], [0.4444444444444444, \"#bd3786\"], [0.5555555555555556, \"#d8576b\"], [0.6666666666666666, \"#ed7953\"], [0.7777777777777778, \"#fb9f3a\"], [0.8888888888888888, \"#fdca26\"], [1.0, \"#f0f921\"]], \"type\": \"surface\"}], \"table\": [{\"cells\": {\"fill\": {\"color\": \"#EBF0F8\"}, \"line\": {\"color\": \"white\"}}, \"header\": {\"fill\": {\"color\": \"#C8D4E3\"}, \"line\": {\"color\": \"white\"}}, \"type\": \"table\"}]}, \"layout\": {\"annotationdefaults\": {\"arrowcolor\": \"#2a3f5f\", \"arrowhead\": 0, \"arrowwidth\": 1}, \"coloraxis\": {\"colorbar\": {\"outlinewidth\": 0, \"ticks\": \"\"}}, \"colorscale\": {\"diverging\": [[0, \"#8e0152\"], [0.1, \"#c51b7d\"], [0.2, \"#de77ae\"], [0.3, \"#f1b6da\"], [0.4, \"#fde0ef\"], [0.5, \"#f7f7f7\"], [0.6, \"#e6f5d0\"], [0.7, \"#b8e186\"], [0.8, \"#7fbc41\"], [0.9, \"#4d9221\"], [1, \"#276419\"]], \"sequential\": [[0.0, \"#0d0887\"], [0.1111111111111111, \"#46039f\"], [0.2222222222222222, \"#7201a8\"], [0.3333333333333333, \"#9c179e\"], [0.4444444444444444, \"#bd3786\"], [0.5555555555555556, \"#d8576b\"], [0.6666666666666666, \"#ed7953\"], [0.7777777777777778, \"#fb9f3a\"], [0.8888888888888888, \"#fdca26\"], [1.0, \"#f0f921\"]], \"sequentialminus\": [[0.0, \"#0d0887\"], [0.1111111111111111, \"#46039f\"], [0.2222222222222222, \"#7201a8\"], [0.3333333333333333, \"#9c179e\"], [0.4444444444444444, \"#bd3786\"], [0.5555555555555556, \"#d8576b\"], [0.6666666666666666, \"#ed7953\"], [0.7777777777777778, \"#fb9f3a\"], [0.8888888888888888, \"#fdca26\"], [1.0, \"#f0f921\"]]}, \"colorway\": [\"#636efa\", \"#EF553B\", \"#00cc96\", \"#ab63fa\", \"#FFA15A\", \"#19d3f3\", \"#FF6692\", \"#B6E880\", \"#FF97FF\", \"#FECB52\"], \"font\": {\"color\": \"#2a3f5f\"}, \"geo\": {\"bgcolor\": \"white\", \"lakecolor\": \"white\", \"landcolor\": \"#E5ECF6\", \"showlakes\": true, \"showland\": true, \"subunitcolor\": \"white\"}, \"hoverlabel\": {\"align\": \"left\"}, \"hovermode\": \"closest\", \"mapbox\": {\"style\": \"light\"}, \"paper_bgcolor\": \"white\", \"plot_bgcolor\": \"#E5ECF6\", \"polar\": {\"angularaxis\": {\"gridcolor\": \"white\", \"linecolor\": \"white\", \"ticks\": \"\"}, \"bgcolor\": \"#E5ECF6\", \"radialaxis\": {\"gridcolor\": \"white\", \"linecolor\": \"white\", \"ticks\": \"\"}}, \"scene\": {\"xaxis\": {\"backgroundcolor\": \"#E5ECF6\", \"gridcolor\": \"white\", \"gridwidth\": 2, \"linecolor\": \"white\", \"showbackground\": true, \"ticks\": \"\", \"zerolinecolor\": \"white\"}, \"yaxis\": {\"backgroundcolor\": \"#E5ECF6\", \"gridcolor\": \"white\", \"gridwidth\": 2, \"linecolor\": \"white\", \"showbackground\": true, \"ticks\": \"\", \"zerolinecolor\": \"white\"}, \"zaxis\": {\"backgroundcolor\": \"#E5ECF6\", \"gridcolor\": \"white\", \"gridwidth\": 2, \"linecolor\": \"white\", \"showbackground\": true, \"ticks\": \"\", \"zerolinecolor\": \"white\"}}, \"shapedefaults\": {\"line\": {\"color\": \"#2a3f5f\"}}, \"ternary\": {\"aaxis\": {\"gridcolor\": \"white\", \"linecolor\": \"white\", \"ticks\": \"\"}, \"baxis\": {\"gridcolor\": \"white\", \"linecolor\": \"white\", \"ticks\": \"\"}, \"bgcolor\": \"#E5ECF6\", \"caxis\": {\"gridcolor\": \"white\", \"linecolor\": \"white\", \"ticks\": \"\"}}, \"title\": {\"x\": 0.05}, \"xaxis\": {\"automargin\": true, \"gridcolor\": \"white\", \"linecolor\": \"white\", \"ticks\": \"\", \"title\": {\"standoff\": 15}, \"zerolinecolor\": \"white\", \"zerolinewidth\": 2}, \"yaxis\": {\"automargin\": true, \"gridcolor\": \"white\", \"linecolor\": \"white\", \"ticks\": \"\", \"title\": {\"standoff\": 15}, \"zerolinecolor\": \"white\", \"zerolinewidth\": 2}}}},\n",
              "                        {\"responsive\": true}\n",
              "                    ).then(function(){\n",
              "                            \n",
              "var gd = document.getElementById('61c8fa0a-624d-414e-beb4-986a92e6b670');\n",
              "var x = new MutationObserver(function (mutations, observer) {{\n",
              "        var display = window.getComputedStyle(gd).display;\n",
              "        if (!display || display === 'none') {{\n",
              "            console.log([gd, 'removed!']);\n",
              "            Plotly.purge(gd);\n",
              "            observer.disconnect();\n",
              "        }}\n",
              "}});\n",
              "\n",
              "// Listen for the removal of the full notebook cells\n",
              "var notebookContainer = gd.closest('#notebook-container');\n",
              "if (notebookContainer) {{\n",
              "    x.observe(notebookContainer, {childList: true});\n",
              "}}\n",
              "\n",
              "// Listen for the clearing of the current output cell\n",
              "var outputEl = gd.closest('.output');\n",
              "if (outputEl) {{\n",
              "    x.observe(outputEl, {childList: true});\n",
              "}}\n",
              "\n",
              "                        })\n",
              "                };\n",
              "                \n",
              "            </script>\n",
              "        </div>\n",
              "</body>\n",
              "</html>"
            ]
          },
          "metadata": {
            "tags": []
          }
        }
      ]
    },
    {
      "cell_type": "code",
      "metadata": {
        "id": "shKl_C_JVkUb",
        "colab_type": "code",
        "outputId": "06ede429-3b2b-4d9d-9b9f-8ef4d0cb3e3e",
        "colab": {
          "base_uri": "https://localhost:8080/",
          "height": 35
        }
      },
      "source": [
        "import chart_studio\n",
        "import chart_studio.plotly as py_studio\n",
        "\n",
        "username = ''\n",
        "api_key = ''\n",
        "\n",
        "chart_studio.tools.set_credentials_file(username=username, api_key=api_key)\n",
        "\n",
        "py_studio.plot(fig, filename = 'projection', auto_open=True)\n"
      ],
      "execution_count": 0,
      "outputs": [
        {
          "output_type": "execute_result",
          "data": {
            "text/plain": [
              "'https://plot.ly/~jordanchenml/3/'"
            ]
          },
          "metadata": {
            "tags": []
          },
          "execution_count": 21
        }
      ]
    },
    {
      "cell_type": "code",
      "metadata": {
        "id": "TVfKNdcWl-CQ",
        "colab_type": "code",
        "colab": {}
      },
      "source": [
        ""
      ],
      "execution_count": 0,
      "outputs": []
    }
  ]
}