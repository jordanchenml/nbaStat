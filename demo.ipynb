{
 "cells": [
  {
   "cell_type": "code",
   "execution_count": 18,
   "metadata": {
    "collapsed": true
   },
   "outputs": [],
   "source": [
    "import nba_py\n",
    "import pandas as pd\n",
    "import psycopg2\n",
    "from sqlalchemy import create_engine\n",
    "from nba_py import player, team, game, constants\n",
    "from time import sleep\n",
    "import random\n",
    "import datetime\n",
    "\n",
    "# from nba_py.constants import CURRENT_SEASON\n",
    "# from nba_py.player import PlayerList, PlayerGeneralSplits, PlayerGameLogs"
   ]
  },
  {
   "cell_type": "code",
   "execution_count": 36,
   "metadata": {
    "collapsed": false
   },
   "outputs": [
    {
     "name": "stdout",
     "output_type": "stream",
     "text": [
      "<class 'pandas.core.frame.DataFrame'>\nRangeIndex: 157 entries, 0 to 156\nData columns (total 14 columns):\nPERSON_ID                    157 non-null int64\nDISPLAY_LAST_COMMA_FIRST     157 non-null object\nDISPLAY_FIRST_LAST           157 non-null object\nROSTERSTATUS                 157 non-null int64\nFROM_YEAR                    157 non-null object\nTO_YEAR                      157 non-null object\nPLAYERCODE                   157 non-null object\nTEAM_ID                      157 non-null int64\nTEAM_CITY                    157 non-null object\nTEAM_NAME                    157 non-null object\nTEAM_ABBREVIATION            157 non-null object\nTEAM_CODE                    157 non-null object\nGAMES_PLAYED_FLAG            157 non-null object\nOTHERLEAGUE_EXPERIENCE_CH    157 non-null object\ndtypes: int64(3), object(11)\nmemory usage: 17.3+ KB\nNone\n"
     ]
    }
   ],
   "source": [
    "all_players = player.PlayerList(league_id='00', season='2017-18', only_current=1)\n",
    "all_players_df = pd.DataFrame(all_players.info())\n",
    "print(all_players_df.info())"
   ]
  },
  {
   "cell_type": "code",
   "execution_count": 23,
   "metadata": {
    "collapsed": true
   },
   "outputs": [
    {
     "name": "stdout",
     "output_type": "stream",
     "text": [
      "9    203518\nName: PERSON_ID, dtype: int64\n"
     ]
    },
    {
     "name": "stdout",
     "output_type": "stream",
     "text": [
      "14    203112\nName: PERSON_ID, dtype: int64\n"
     ]
    },
    {
     "name": "stdout",
     "output_type": "stream",
     "text": [
      "27    201167\nName: PERSON_ID, dtype: int64\n"
     ]
    },
    {
     "name": "stdout",
     "output_type": "stream",
     "text": [
      "32    201582\nName: PERSON_ID, dtype: int64\n"
     ]
    },
    {
     "ename": "KeyboardInterrupt",
     "evalue": "",
     "traceback": [
      "\u001b[0;31m---------------------------------------------------------------------------\u001b[0m",
      "\u001b[0;31mKeyboardInterrupt\u001b[0m                         Traceback (most recent call last)",
      "\u001b[0;32m<ipython-input-23-3dd1883ca100>\u001b[0m in \u001b[0;36m<module>\u001b[0;34m\u001b[0m\n\u001b[1;32m     11\u001b[0m     \u001b[0;31m# print(get_player[0])\u001b[0m\u001b[0;34m\u001b[0m\u001b[0;34m\u001b[0m\u001b[0;34m\u001b[0m\u001b[0m\n\u001b[1;32m     12\u001b[0m     \u001b[0;31m# print(\"PLAYER_ID - \", get_player[1])\u001b[0m\u001b[0;34m\u001b[0m\u001b[0;34m\u001b[0m\u001b[0;34m\u001b[0m\u001b[0m\n\u001b[0;32m---> 13\u001b[0;31m     \u001b[0msleep\u001b[0m\u001b[0;34m(\u001b[0m\u001b[0mrandom\u001b[0m\u001b[0;34m.\u001b[0m\u001b[0muniform\u001b[0m\u001b[0;34m(\u001b[0m\u001b[0;36m0.05\u001b[0m\u001b[0;34m,\u001b[0m \u001b[0;36m1.8\u001b[0m\u001b[0;34m)\u001b[0m\u001b[0;34m)\u001b[0m\u001b[0;34m\u001b[0m\u001b[0;34m\u001b[0m\u001b[0m\n\u001b[0m",
      "\u001b[0;31mKeyboardInterrupt\u001b[0m: "
     ],
     "output_type": "error"
    }
   ],
   "source": [
    "for player_df in all_players_df['DISPLAY_LAST_COMMA_FIRST']:\n",
    "    last_name = player_df.split(\", \")[0]\n",
    "    first_name = player_df.split(\", \")[1]\n",
    "    # print(first_name)\n",
    "    # print(last_name)\n",
    "    try:\n",
    "        get_player = player.get_player(first_name=first_name, last_name=last_name)\n",
    "        print(get_player)\n",
    "    except:\n",
    "        print(\"No such player.\")\n",
    "    # print(get_player[0])\n",
    "    # print(\"PLAYER_ID - \", get_player[1])\n",
    "    sleep(random.uniform(0.05, 1.8))"
   ]
  },
  {
   "cell_type": "code",
   "execution_count": 39,
   "metadata": {
    "collapsed": false
   },
   "outputs": [
    {
     "name": "stdout",
     "output_type": "stream",
     "text": [
      "1952    2544\nName: PERSON_ID, dtype: int64\n"
     ]
    }
   ],
   "source": [
    "get_player = player.get_player(first_name=\"Lebron\", last_name=\"James\")\n",
    "print(get_player)"
   ]
  },
  {
   "cell_type": "code",
   "execution_count": 41,
   "metadata": {
    "collapsed": true
   },
   "outputs": [
    {
     "name": "stdout",
     "output_type": "stream",
     "text": [
      "    PLAYER_ID SEASON_ID LEAGUE_ID     TEAM_ID TEAM_ABBREVIATION  PLAYER_AGE  \\\n0        2544   2004-05        00  1610616833               EST        20.0   \n1        2544   2005-06        00  1610616833               EST        21.0   \n2        2544   2006-07        00  1610616833               EST        22.0   \n3        2544   2007-08        00  1610616833               EST        23.0   \n4        2544   2008-09        00  1610616833               EST        24.0   \n5        2544   2009-10        00  1610616833               EST        25.0   \n6        2544   2010-11        00  1610616833               EST        26.0   \n7        2544   2011-12        00  1610616833               EST        27.0   \n8        2544   2012-13        00  1610616833               EST        28.0   \n9        2544   2013-14        00  1610616833               EST        29.0   \n10       2544   2014-15        00  1610616833               EST        30.0   \n11       2544   2015-16        00  1610616833               EST        31.0   \n12       2544   2016-17        00  1610616833               EST        32.0   \n13       2544   2017-18        00  1610616833               LBN        33.0   \n14       2544   2018-19        00  1610616834               LBN        34.0   \n\n    GP  GS   MIN   FGM  ...  FT_PCT  OREB  DREB   REB   AST  STL  BLK  TOV  \\\n0    1   1  31.0   6.0  ...     0.0   1.0   7.0   8.0   6.0  2.0  0.0  3.0   \n1    1   1  30.6  12.0  ...     0.2   2.0   4.0   6.0   2.0  2.0  0.0  1.0   \n2    1   1  32.3  11.0  ...     1.0   0.0   6.0   6.0   6.0  1.0  0.0  4.0   \n3    1   1  30.3  12.0  ...     1.0   1.0   7.0   8.0   9.0  2.0  2.0  4.0   \n4    1   1  26.8   8.0  ...     1.0   0.0   5.0   5.0   3.0  0.0  0.0  3.0   \n5    1   1  32.5  10.0  ...     1.0   1.0   4.0   5.0   6.0  4.0  0.0  2.0   \n6    1   1  32.3  10.0  ...     0.9   2.0  10.0  12.0  10.0  0.0  0.0  4.0   \n7    1   1  32.2  15.0  ...     0.0   0.0   6.0   6.0   7.0  0.0  0.0  4.0   \n8    1   1  30.0   7.0  ...     0.5   0.0   3.0   3.0   5.0  1.0  0.0  4.0   \n9    1   1  33.1  11.0  ...     0.0   1.0   6.0   7.0   7.0  3.0  0.0  1.0   \n10   1   1  31.8  11.0  ...     0.8   1.0   4.0   5.0   7.0  2.0  0.0  4.0   \n11   1   1  20.2   6.0  ...     0.0   0.0   4.0   4.0   7.0  0.0  0.0  4.0   \n12   1   1  19.5  10.0  ...     0.0   0.0   3.0   3.0   1.0  0.0  0.0  4.0   \n13   1   1  31.3  12.0  ...     1.0   0.0  10.0  10.0   8.0  1.0  0.0  5.0   \n14   1   1  26.5   9.0  ...     0.0   2.0   6.0   8.0   4.0  0.0  2.0  1.0   \n\n     PF   PTS  \n0   0.0  13.0  \n1   2.0  29.0  \n2   0.0  28.0  \n3   3.0  27.0  \n4   0.0  20.0  \n5   1.0  25.0  \n6   3.0  29.0  \n7   2.0  36.0  \n8   0.0  19.0  \n9   0.0  22.0  \n10  1.0  30.0  \n11  0.0  13.0  \n12  2.0  23.0  \n13  2.0  29.0  \n14  1.0  19.0  \n\n[15 rows x 27 columns]\n"
     ]
    }
   ],
   "source": [
    "james = player.PlayerCareer(player_id=2544, per_mode='PerGame', league_id='00').all_star_season_totals()\n",
    "\n",
    "print(james)"
   ]
  },
  {
   "cell_type": "code",
   "execution_count": 20,
   "metadata": {},
   "outputs": [
    {
     "name": "stdout",
     "output_type": "stream",
     "text": [
      "      GAME_ID  HOME_TEAM_ID  VISITOR_TEAM_ID        GAME_DATE_EST  \\\n0  0021800052    1610612737       1610612742  2018-10-24T00:00:00   \n\n   HOME_TEAM_WINS  HOME_TEAM_LOSSES SERIES_LEADER  \n0               1                 1          Tied  \n"
     ]
    }
   ],
   "source": [
    "boxscore_summary = game.BoxscoreSummary(\"0021800052\")\n",
    "print(boxscore_summary.season_series())"
   ]
  },
  {
   "cell_type": "code",
   "execution_count": 25,
   "metadata": {
    "collapsed": true
   },
   "outputs": [
    {
     "name": "stdout",
     "output_type": "stream",
     "text": [
      "   GROUP_SET  PLAYER_ID              PLAYER_NAME  GP   W   L  W_PCT   MIN  \\\n0    Players     201627           Anthony Morrow   9   4   5  0.444   9.7   \n1    Players    1626171             Bobby Portis  64  30  34  0.469  15.6   \n2    Players    1626166            Cameron Payne  11   5   6  0.455  12.9   \n3    Players    1626245        Cristiano Felicio  66  31  35  0.470  15.8   \n4    Players    1627756         Denzel Valentine  57  28  29  0.491  17.1   \n5    Players     203926           Doug McDermott  44  22  22  0.500  24.5   \n6    Players       2548              Dwyane Wade  60  29  31  0.483  29.9   \n7    Players     203477            Isaiah Canaan  39  19  20  0.487  15.2   \n8    Players    1626170             Jerian Grant  63  29  34  0.460  16.3   \n9    Players     202710             Jimmy Butler  76  40  36  0.526  37.0   \n10   Players     203530        Joffrey Lauvergne  20  11   9  0.550  12.1   \n11   Players     203487  Michael Carter-Williams  45  25  20  0.556  18.8   \n12   Players     202703           Nikola Mirotic  70  37  33  0.529  24.0   \n13   Players    1627835              Paul Zipser  44  21  23  0.477  19.2   \n14   Players    1626154                RJ Hunter   3   2   1  0.667   3.1   \n15   Players     200765              Rajon Rondo  69  34  35  0.493  26.7   \n16   Players     201577              Robin Lopez  81  40  41  0.494  28.0   \n17   Players     201959               Taj Gibson  55  27  28  0.491  27.3   \n\n    FGM   FGA  ...  STL_RANK  BLK_RANK  BLKA_RANK  PF_RANK  PFD_RANK  \\\n0   1.3   3.2  ...        16        15         10       17        15   \n1   2.9   5.9  ...        14         9          9       12        14   \n2   1.9   5.7  ...        11        15         17       14        16   \n3   1.9   3.3  ...        10         8         12        8         8   \n4   1.8   5.1  ...         8        12         16        9        17   \n5   3.8   8.5  ...        14        13          4       13         7   \n6   6.9  15.9  ...         3         4          1        4         2   \n7   1.6   4.4  ...         7        14         14       15        13   \n8   2.0   4.8  ...         6        11         15       10        10   \n9   7.5  16.5  ...         1         6          3       11         1   \n10  1.9   4.6  ...        12        15         11       16        11   \n11  2.5   6.8  ...         4         5          5        1         4   \n12  3.7   8.9  ...         5         3          8        6         5   \n13  2.0   5.0  ...        13         7         13        7        12   \n14  0.0   0.3  ...        18        15         17       18        18   \n15  3.3   8.1  ...         2        10          7        3         9   \n16  4.7   9.6  ...        16         1          6        5         6   \n17  5.0   9.6  ...         9         2          2        2         3   \n\n    PTS_RANK  PLUS_MINUS_RANK  NBA_FANTASY_PTS_RANK  DD2_RANK  TD3_RANK  \n0         16                1                    17        12         3  \n1          8               15                     9         6         3  \n2         13               17                    16        12         3  \n3         14               10                    11         7         3  \n4         12                8                    13         9         3  \n5          6                7                     8         9         3  \n6          2               14                     2         8         3  \n7         15               16                    15        12         3  \n8         10                5                    10         9         3  \n9          1                3                     1         1         1  \n10        17               11                    14        12         3  \n11         9               12                     7        12         3  \n12         4                2                     6         3         3  \n13        11                6                    12        12         3  \n14        18               18                    18        12         3  \n15         7               13                     3         5         2  \n16         5                4                     5         3         3  \n17         3                9                     4         2         3  \n\n[18 rows x 61 columns]\n"
     ]
    }
   ],
   "source": [
    "teamPlayers = team.TeamPlayers(team_id='1610612741', measure_type='Base', per_mode='PerGame', plus_minus='N', pace_adjust='N', rank='N',\n",
    "                            league_id='00', season='2016-17', season_type='Regular Season', po_round='0', outcome='',\n",
    "                            location='', month='0', season_segment='', date_from='', date_to='', opponent_team_id='0',\n",
    "                            vs_conference='', vs_division='', game_segment='', period='0', shot_clock_range='',\n",
    "                            last_n_games='0')\n",
    "teamPlayers_df = pd.DataFrame(teamPlayers.season_totals())\n",
    "print(teamPlayers_df)\n"
   ]
  },
  {
   "cell_type": "code",
   "execution_count": 67,
   "metadata": {
    "collapsed": true
   },
   "outputs": [
    {
     "ename": "KeyboardInterrupt",
     "evalue": "",
     "traceback": [
      "\u001b[0;31m---------------------------------------------------------------------------\u001b[0m",
      "\u001b[0;31mTypeError\u001b[0m                                 Traceback (most recent call last)",
      "\u001b[0;32m~/anaconda3/envs/tf2/lib/python3.7/site-packages/urllib3/connectionpool.py\u001b[0m in \u001b[0;36m_make_request\u001b[0;34m(self, conn, method, url, timeout, chunked, **httplib_request_kw)\u001b[0m\n\u001b[1;32m    378\u001b[0m                 \u001b[0;31m# Python 2.7, use buffering of HTTP responses\u001b[0m\u001b[0;34m\u001b[0m\u001b[0;34m\u001b[0m\u001b[0;34m\u001b[0m\u001b[0m\n\u001b[0;32m--> 379\u001b[0;31m                 \u001b[0mhttplib_response\u001b[0m \u001b[0;34m=\u001b[0m \u001b[0mconn\u001b[0m\u001b[0;34m.\u001b[0m\u001b[0mgetresponse\u001b[0m\u001b[0;34m(\u001b[0m\u001b[0mbuffering\u001b[0m\u001b[0;34m=\u001b[0m\u001b[0;32mTrue\u001b[0m\u001b[0;34m)\u001b[0m\u001b[0;34m\u001b[0m\u001b[0;34m\u001b[0m\u001b[0m\n\u001b[0m\u001b[1;32m    380\u001b[0m             \u001b[0;32mexcept\u001b[0m \u001b[0mTypeError\u001b[0m\u001b[0;34m:\u001b[0m\u001b[0;34m\u001b[0m\u001b[0;34m\u001b[0m\u001b[0m\n",
      "\u001b[0;31mTypeError\u001b[0m: getresponse() got an unexpected keyword argument 'buffering'",
      "\nDuring handling of the above exception, another exception occurred:\n",
      "\u001b[0;31mKeyboardInterrupt\u001b[0m                         Traceback (most recent call last)",
      "\u001b[0;32m<ipython-input-67-eda9a37f4a6d>\u001b[0m in \u001b[0;36m<module>\u001b[0;34m\u001b[0m\n\u001b[1;32m      1\u001b[0m teamSeasons_df = pd.DataFrame(\n\u001b[0;32m----> 2\u001b[0;31m     team.TeamSeasons(team_id='1610612741', league_id='00', season_type='Regular Season', per_mode='PerGame').info())\n\u001b[0m\u001b[1;32m      3\u001b[0m \u001b[0mprint\u001b[0m\u001b[0;34m(\u001b[0m\u001b[0mteamSeasons_df\u001b[0m\u001b[0;34m)\u001b[0m\u001b[0;34m\u001b[0m\u001b[0;34m\u001b[0m\u001b[0m\n",
      "\u001b[0;32m~/anaconda3/envs/tf2/lib/python3.7/site-packages/nba_py/team.py\u001b[0m in \u001b[0;36m__init__\u001b[0;34m(self, team_id, league_id, season_type, per_mode)\u001b[0m\n\u001b[1;32m    429\u001b[0m                                       \u001b[0;34m'LeagueID'\u001b[0m\u001b[0;34m:\u001b[0m \u001b[0mleague_id\u001b[0m\u001b[0;34m,\u001b[0m\u001b[0;34m\u001b[0m\u001b[0;34m\u001b[0m\u001b[0m\n\u001b[1;32m    430\u001b[0m                                       \u001b[0;34m'SeasonType'\u001b[0m\u001b[0;34m:\u001b[0m \u001b[0mseason_type\u001b[0m\u001b[0;34m,\u001b[0m\u001b[0;34m\u001b[0m\u001b[0;34m\u001b[0m\u001b[0m\n\u001b[0;32m--> 431\u001b[0;31m                                       'PerMode': per_mode})\n\u001b[0m\u001b[1;32m    432\u001b[0m \u001b[0;34m\u001b[0m\u001b[0m\n\u001b[1;32m    433\u001b[0m     \u001b[0;32mdef\u001b[0m \u001b[0minfo\u001b[0m\u001b[0;34m(\u001b[0m\u001b[0mself\u001b[0m\u001b[0;34m)\u001b[0m\u001b[0;34m:\u001b[0m\u001b[0;34m\u001b[0m\u001b[0;34m\u001b[0m\u001b[0m\n",
      "\u001b[0;32m~/anaconda3/envs/tf2/lib/python3.7/site-packages/nba_py/__init__.py\u001b[0m in \u001b[0;36m_get_json\u001b[0;34m(endpoint, params, referer)\u001b[0m\n\u001b[1;32m     85\u001b[0m     \u001b[0mh\u001b[0m\u001b[0;34m[\u001b[0m\u001b[0;34m'referer'\u001b[0m\u001b[0;34m]\u001b[0m \u001b[0;34m=\u001b[0m \u001b[0;34m'http://stats.nba.com/{ref}/'\u001b[0m\u001b[0;34m.\u001b[0m\u001b[0mformat\u001b[0m\u001b[0;34m(\u001b[0m\u001b[0mref\u001b[0m\u001b[0;34m=\u001b[0m\u001b[0mreferer\u001b[0m\u001b[0;34m)\u001b[0m\u001b[0;34m\u001b[0m\u001b[0;34m\u001b[0m\u001b[0m\n\u001b[1;32m     86\u001b[0m     _get = get(BASE_URL.format(endpoint=endpoint), params=params,\n\u001b[0;32m---> 87\u001b[0;31m                headers=h)\n\u001b[0m\u001b[1;32m     88\u001b[0m     \u001b[0;31m# print _get.url\u001b[0m\u001b[0;34m\u001b[0m\u001b[0;34m\u001b[0m\u001b[0;34m\u001b[0m\u001b[0m\n\u001b[1;32m     89\u001b[0m     \u001b[0m_get\u001b[0m\u001b[0;34m.\u001b[0m\u001b[0mraise_for_status\u001b[0m\u001b[0;34m(\u001b[0m\u001b[0;34m)\u001b[0m\u001b[0;34m\u001b[0m\u001b[0;34m\u001b[0m\u001b[0m\n",
      "\u001b[0;32m~/anaconda3/envs/tf2/lib/python3.7/site-packages/requests/api.py\u001b[0m in \u001b[0;36mget\u001b[0;34m(url, params, **kwargs)\u001b[0m\n\u001b[1;32m     73\u001b[0m \u001b[0;34m\u001b[0m\u001b[0m\n\u001b[1;32m     74\u001b[0m     \u001b[0mkwargs\u001b[0m\u001b[0;34m.\u001b[0m\u001b[0msetdefault\u001b[0m\u001b[0;34m(\u001b[0m\u001b[0;34m'allow_redirects'\u001b[0m\u001b[0;34m,\u001b[0m \u001b[0;32mTrue\u001b[0m\u001b[0;34m)\u001b[0m\u001b[0;34m\u001b[0m\u001b[0;34m\u001b[0m\u001b[0m\n\u001b[0;32m---> 75\u001b[0;31m     \u001b[0;32mreturn\u001b[0m \u001b[0mrequest\u001b[0m\u001b[0;34m(\u001b[0m\u001b[0;34m'get'\u001b[0m\u001b[0;34m,\u001b[0m \u001b[0murl\u001b[0m\u001b[0;34m,\u001b[0m \u001b[0mparams\u001b[0m\u001b[0;34m=\u001b[0m\u001b[0mparams\u001b[0m\u001b[0;34m,\u001b[0m \u001b[0;34m**\u001b[0m\u001b[0mkwargs\u001b[0m\u001b[0;34m)\u001b[0m\u001b[0;34m\u001b[0m\u001b[0;34m\u001b[0m\u001b[0m\n\u001b[0m\u001b[1;32m     76\u001b[0m \u001b[0;34m\u001b[0m\u001b[0m\n\u001b[1;32m     77\u001b[0m \u001b[0;34m\u001b[0m\u001b[0m\n",
      "\u001b[0;32m~/anaconda3/envs/tf2/lib/python3.7/site-packages/requests/api.py\u001b[0m in \u001b[0;36mrequest\u001b[0;34m(method, url, **kwargs)\u001b[0m\n\u001b[1;32m     58\u001b[0m     \u001b[0;31m# cases, and look like a memory leak in others.\u001b[0m\u001b[0;34m\u001b[0m\u001b[0;34m\u001b[0m\u001b[0;34m\u001b[0m\u001b[0m\n\u001b[1;32m     59\u001b[0m     \u001b[0;32mwith\u001b[0m \u001b[0msessions\u001b[0m\u001b[0;34m.\u001b[0m\u001b[0mSession\u001b[0m\u001b[0;34m(\u001b[0m\u001b[0;34m)\u001b[0m \u001b[0;32mas\u001b[0m \u001b[0msession\u001b[0m\u001b[0;34m:\u001b[0m\u001b[0;34m\u001b[0m\u001b[0;34m\u001b[0m\u001b[0m\n\u001b[0;32m---> 60\u001b[0;31m         \u001b[0;32mreturn\u001b[0m \u001b[0msession\u001b[0m\u001b[0;34m.\u001b[0m\u001b[0mrequest\u001b[0m\u001b[0;34m(\u001b[0m\u001b[0mmethod\u001b[0m\u001b[0;34m=\u001b[0m\u001b[0mmethod\u001b[0m\u001b[0;34m,\u001b[0m \u001b[0murl\u001b[0m\u001b[0;34m=\u001b[0m\u001b[0murl\u001b[0m\u001b[0;34m,\u001b[0m \u001b[0;34m**\u001b[0m\u001b[0mkwargs\u001b[0m\u001b[0;34m)\u001b[0m\u001b[0;34m\u001b[0m\u001b[0;34m\u001b[0m\u001b[0m\n\u001b[0m\u001b[1;32m     61\u001b[0m \u001b[0;34m\u001b[0m\u001b[0m\n\u001b[1;32m     62\u001b[0m \u001b[0;34m\u001b[0m\u001b[0m\n",
      "\u001b[0;32m~/anaconda3/envs/tf2/lib/python3.7/site-packages/requests/sessions.py\u001b[0m in \u001b[0;36mrequest\u001b[0;34m(self, method, url, params, data, headers, cookies, files, auth, timeout, allow_redirects, proxies, hooks, stream, verify, cert, json)\u001b[0m\n\u001b[1;32m    531\u001b[0m         }\n\u001b[1;32m    532\u001b[0m         \u001b[0msend_kwargs\u001b[0m\u001b[0;34m.\u001b[0m\u001b[0mupdate\u001b[0m\u001b[0;34m(\u001b[0m\u001b[0msettings\u001b[0m\u001b[0;34m)\u001b[0m\u001b[0;34m\u001b[0m\u001b[0;34m\u001b[0m\u001b[0m\n\u001b[0;32m--> 533\u001b[0;31m         \u001b[0mresp\u001b[0m \u001b[0;34m=\u001b[0m \u001b[0mself\u001b[0m\u001b[0;34m.\u001b[0m\u001b[0msend\u001b[0m\u001b[0;34m(\u001b[0m\u001b[0mprep\u001b[0m\u001b[0;34m,\u001b[0m \u001b[0;34m**\u001b[0m\u001b[0msend_kwargs\u001b[0m\u001b[0;34m)\u001b[0m\u001b[0;34m\u001b[0m\u001b[0;34m\u001b[0m\u001b[0m\n\u001b[0m\u001b[1;32m    534\u001b[0m \u001b[0;34m\u001b[0m\u001b[0m\n\u001b[1;32m    535\u001b[0m         \u001b[0;32mreturn\u001b[0m \u001b[0mresp\u001b[0m\u001b[0;34m\u001b[0m\u001b[0;34m\u001b[0m\u001b[0m\n",
      "\u001b[0;32m~/anaconda3/envs/tf2/lib/python3.7/site-packages/requests/sessions.py\u001b[0m in \u001b[0;36msend\u001b[0;34m(self, request, **kwargs)\u001b[0m\n\u001b[1;32m    644\u001b[0m \u001b[0;34m\u001b[0m\u001b[0m\n\u001b[1;32m    645\u001b[0m         \u001b[0;31m# Send the request\u001b[0m\u001b[0;34m\u001b[0m\u001b[0;34m\u001b[0m\u001b[0;34m\u001b[0m\u001b[0m\n\u001b[0;32m--> 646\u001b[0;31m         \u001b[0mr\u001b[0m \u001b[0;34m=\u001b[0m \u001b[0madapter\u001b[0m\u001b[0;34m.\u001b[0m\u001b[0msend\u001b[0m\u001b[0;34m(\u001b[0m\u001b[0mrequest\u001b[0m\u001b[0;34m,\u001b[0m \u001b[0;34m**\u001b[0m\u001b[0mkwargs\u001b[0m\u001b[0;34m)\u001b[0m\u001b[0;34m\u001b[0m\u001b[0;34m\u001b[0m\u001b[0m\n\u001b[0m\u001b[1;32m    647\u001b[0m \u001b[0;34m\u001b[0m\u001b[0m\n\u001b[1;32m    648\u001b[0m         \u001b[0;31m# Total elapsed time of the request (approximately)\u001b[0m\u001b[0;34m\u001b[0m\u001b[0;34m\u001b[0m\u001b[0;34m\u001b[0m\u001b[0m\n",
      "\u001b[0;32m~/anaconda3/envs/tf2/lib/python3.7/site-packages/requests/adapters.py\u001b[0m in \u001b[0;36msend\u001b[0;34m(self, request, stream, timeout, verify, cert, proxies)\u001b[0m\n\u001b[1;32m    447\u001b[0m                     \u001b[0mdecode_content\u001b[0m\u001b[0;34m=\u001b[0m\u001b[0;32mFalse\u001b[0m\u001b[0;34m,\u001b[0m\u001b[0;34m\u001b[0m\u001b[0;34m\u001b[0m\u001b[0m\n\u001b[1;32m    448\u001b[0m                     \u001b[0mretries\u001b[0m\u001b[0;34m=\u001b[0m\u001b[0mself\u001b[0m\u001b[0;34m.\u001b[0m\u001b[0mmax_retries\u001b[0m\u001b[0;34m,\u001b[0m\u001b[0;34m\u001b[0m\u001b[0;34m\u001b[0m\u001b[0m\n\u001b[0;32m--> 449\u001b[0;31m                     \u001b[0mtimeout\u001b[0m\u001b[0;34m=\u001b[0m\u001b[0mtimeout\u001b[0m\u001b[0;34m\u001b[0m\u001b[0;34m\u001b[0m\u001b[0m\n\u001b[0m\u001b[1;32m    450\u001b[0m                 )\n\u001b[1;32m    451\u001b[0m \u001b[0;34m\u001b[0m\u001b[0m\n",
      "\u001b[0;32m~/anaconda3/envs/tf2/lib/python3.7/site-packages/urllib3/connectionpool.py\u001b[0m in \u001b[0;36murlopen\u001b[0;34m(self, method, url, body, headers, retries, redirect, assert_same_host, timeout, pool_timeout, release_conn, chunked, body_pos, **response_kw)\u001b[0m\n\u001b[1;32m    601\u001b[0m                                                   \u001b[0mtimeout\u001b[0m\u001b[0;34m=\u001b[0m\u001b[0mtimeout_obj\u001b[0m\u001b[0;34m,\u001b[0m\u001b[0;34m\u001b[0m\u001b[0;34m\u001b[0m\u001b[0m\n\u001b[1;32m    602\u001b[0m                                                   \u001b[0mbody\u001b[0m\u001b[0;34m=\u001b[0m\u001b[0mbody\u001b[0m\u001b[0;34m,\u001b[0m \u001b[0mheaders\u001b[0m\u001b[0;34m=\u001b[0m\u001b[0mheaders\u001b[0m\u001b[0;34m,\u001b[0m\u001b[0;34m\u001b[0m\u001b[0;34m\u001b[0m\u001b[0m\n\u001b[0;32m--> 603\u001b[0;31m                                                   chunked=chunked)\n\u001b[0m\u001b[1;32m    604\u001b[0m \u001b[0;34m\u001b[0m\u001b[0m\n\u001b[1;32m    605\u001b[0m             \u001b[0;31m# If we're going to release the connection in ``finally:``, then\u001b[0m\u001b[0;34m\u001b[0m\u001b[0;34m\u001b[0m\u001b[0;34m\u001b[0m\u001b[0m\n",
      "\u001b[0;32m~/anaconda3/envs/tf2/lib/python3.7/site-packages/urllib3/connectionpool.py\u001b[0m in \u001b[0;36m_make_request\u001b[0;34m(self, conn, method, url, timeout, chunked, **httplib_request_kw)\u001b[0m\n\u001b[1;32m    381\u001b[0m                 \u001b[0;31m# Python 3\u001b[0m\u001b[0;34m\u001b[0m\u001b[0;34m\u001b[0m\u001b[0;34m\u001b[0m\u001b[0m\n\u001b[1;32m    382\u001b[0m                 \u001b[0;32mtry\u001b[0m\u001b[0;34m:\u001b[0m\u001b[0;34m\u001b[0m\u001b[0;34m\u001b[0m\u001b[0m\n\u001b[0;32m--> 383\u001b[0;31m                     \u001b[0mhttplib_response\u001b[0m \u001b[0;34m=\u001b[0m \u001b[0mconn\u001b[0m\u001b[0;34m.\u001b[0m\u001b[0mgetresponse\u001b[0m\u001b[0;34m(\u001b[0m\u001b[0;34m)\u001b[0m\u001b[0;34m\u001b[0m\u001b[0;34m\u001b[0m\u001b[0m\n\u001b[0m\u001b[1;32m    384\u001b[0m                 \u001b[0;32mexcept\u001b[0m \u001b[0mException\u001b[0m \u001b[0;32mas\u001b[0m \u001b[0me\u001b[0m\u001b[0;34m:\u001b[0m\u001b[0;34m\u001b[0m\u001b[0;34m\u001b[0m\u001b[0m\n\u001b[1;32m    385\u001b[0m                     \u001b[0;31m# Remove the TypeError from the exception chain in Python 3;\u001b[0m\u001b[0;34m\u001b[0m\u001b[0;34m\u001b[0m\u001b[0;34m\u001b[0m\u001b[0m\n",
      "\u001b[0;32m~/anaconda3/envs/tf2/lib/python3.7/http/client.py\u001b[0m in \u001b[0;36mgetresponse\u001b[0;34m(self)\u001b[0m\n\u001b[1;32m   1334\u001b[0m         \u001b[0;32mtry\u001b[0m\u001b[0;34m:\u001b[0m\u001b[0;34m\u001b[0m\u001b[0;34m\u001b[0m\u001b[0m\n\u001b[1;32m   1335\u001b[0m             \u001b[0;32mtry\u001b[0m\u001b[0;34m:\u001b[0m\u001b[0;34m\u001b[0m\u001b[0;34m\u001b[0m\u001b[0m\n\u001b[0;32m-> 1336\u001b[0;31m                 \u001b[0mresponse\u001b[0m\u001b[0;34m.\u001b[0m\u001b[0mbegin\u001b[0m\u001b[0;34m(\u001b[0m\u001b[0;34m)\u001b[0m\u001b[0;34m\u001b[0m\u001b[0;34m\u001b[0m\u001b[0m\n\u001b[0m\u001b[1;32m   1337\u001b[0m             \u001b[0;32mexcept\u001b[0m \u001b[0mConnectionError\u001b[0m\u001b[0;34m:\u001b[0m\u001b[0;34m\u001b[0m\u001b[0;34m\u001b[0m\u001b[0m\n\u001b[1;32m   1338\u001b[0m                 \u001b[0mself\u001b[0m\u001b[0;34m.\u001b[0m\u001b[0mclose\u001b[0m\u001b[0;34m(\u001b[0m\u001b[0;34m)\u001b[0m\u001b[0;34m\u001b[0m\u001b[0;34m\u001b[0m\u001b[0m\n",
      "\u001b[0;32m~/anaconda3/envs/tf2/lib/python3.7/http/client.py\u001b[0m in \u001b[0;36mbegin\u001b[0;34m(self)\u001b[0m\n\u001b[1;32m    304\u001b[0m         \u001b[0;31m# read until we get a non-100 response\u001b[0m\u001b[0;34m\u001b[0m\u001b[0;34m\u001b[0m\u001b[0;34m\u001b[0m\u001b[0m\n\u001b[1;32m    305\u001b[0m         \u001b[0;32mwhile\u001b[0m \u001b[0;32mTrue\u001b[0m\u001b[0;34m:\u001b[0m\u001b[0;34m\u001b[0m\u001b[0;34m\u001b[0m\u001b[0m\n\u001b[0;32m--> 306\u001b[0;31m             \u001b[0mversion\u001b[0m\u001b[0;34m,\u001b[0m \u001b[0mstatus\u001b[0m\u001b[0;34m,\u001b[0m \u001b[0mreason\u001b[0m \u001b[0;34m=\u001b[0m \u001b[0mself\u001b[0m\u001b[0;34m.\u001b[0m\u001b[0m_read_status\u001b[0m\u001b[0;34m(\u001b[0m\u001b[0;34m)\u001b[0m\u001b[0;34m\u001b[0m\u001b[0;34m\u001b[0m\u001b[0m\n\u001b[0m\u001b[1;32m    307\u001b[0m             \u001b[0;32mif\u001b[0m \u001b[0mstatus\u001b[0m \u001b[0;34m!=\u001b[0m \u001b[0mCONTINUE\u001b[0m\u001b[0;34m:\u001b[0m\u001b[0;34m\u001b[0m\u001b[0;34m\u001b[0m\u001b[0m\n\u001b[1;32m    308\u001b[0m                 \u001b[0;32mbreak\u001b[0m\u001b[0;34m\u001b[0m\u001b[0;34m\u001b[0m\u001b[0m\n",
      "\u001b[0;32m~/anaconda3/envs/tf2/lib/python3.7/http/client.py\u001b[0m in \u001b[0;36m_read_status\u001b[0;34m(self)\u001b[0m\n\u001b[1;32m    265\u001b[0m \u001b[0;34m\u001b[0m\u001b[0m\n\u001b[1;32m    266\u001b[0m     \u001b[0;32mdef\u001b[0m \u001b[0m_read_status\u001b[0m\u001b[0;34m(\u001b[0m\u001b[0mself\u001b[0m\u001b[0;34m)\u001b[0m\u001b[0;34m:\u001b[0m\u001b[0;34m\u001b[0m\u001b[0;34m\u001b[0m\u001b[0m\n\u001b[0;32m--> 267\u001b[0;31m         \u001b[0mline\u001b[0m \u001b[0;34m=\u001b[0m \u001b[0mstr\u001b[0m\u001b[0;34m(\u001b[0m\u001b[0mself\u001b[0m\u001b[0;34m.\u001b[0m\u001b[0mfp\u001b[0m\u001b[0;34m.\u001b[0m\u001b[0mreadline\u001b[0m\u001b[0;34m(\u001b[0m\u001b[0m_MAXLINE\u001b[0m \u001b[0;34m+\u001b[0m \u001b[0;36m1\u001b[0m\u001b[0;34m)\u001b[0m\u001b[0;34m,\u001b[0m \u001b[0;34m\"iso-8859-1\"\u001b[0m\u001b[0;34m)\u001b[0m\u001b[0;34m\u001b[0m\u001b[0;34m\u001b[0m\u001b[0m\n\u001b[0m\u001b[1;32m    268\u001b[0m         \u001b[0;32mif\u001b[0m \u001b[0mlen\u001b[0m\u001b[0;34m(\u001b[0m\u001b[0mline\u001b[0m\u001b[0;34m)\u001b[0m \u001b[0;34m>\u001b[0m \u001b[0m_MAXLINE\u001b[0m\u001b[0;34m:\u001b[0m\u001b[0;34m\u001b[0m\u001b[0;34m\u001b[0m\u001b[0m\n\u001b[1;32m    269\u001b[0m             \u001b[0;32mraise\u001b[0m \u001b[0mLineTooLong\u001b[0m\u001b[0;34m(\u001b[0m\u001b[0;34m\"status line\"\u001b[0m\u001b[0;34m)\u001b[0m\u001b[0;34m\u001b[0m\u001b[0;34m\u001b[0m\u001b[0m\n",
      "\u001b[0;32m~/anaconda3/envs/tf2/lib/python3.7/socket.py\u001b[0m in \u001b[0;36mreadinto\u001b[0;34m(self, b)\u001b[0m\n\u001b[1;32m    587\u001b[0m         \u001b[0;32mwhile\u001b[0m \u001b[0;32mTrue\u001b[0m\u001b[0;34m:\u001b[0m\u001b[0;34m\u001b[0m\u001b[0;34m\u001b[0m\u001b[0m\n\u001b[1;32m    588\u001b[0m             \u001b[0;32mtry\u001b[0m\u001b[0;34m:\u001b[0m\u001b[0;34m\u001b[0m\u001b[0;34m\u001b[0m\u001b[0m\n\u001b[0;32m--> 589\u001b[0;31m                 \u001b[0;32mreturn\u001b[0m \u001b[0mself\u001b[0m\u001b[0;34m.\u001b[0m\u001b[0m_sock\u001b[0m\u001b[0;34m.\u001b[0m\u001b[0mrecv_into\u001b[0m\u001b[0;34m(\u001b[0m\u001b[0mb\u001b[0m\u001b[0;34m)\u001b[0m\u001b[0;34m\u001b[0m\u001b[0;34m\u001b[0m\u001b[0m\n\u001b[0m\u001b[1;32m    590\u001b[0m             \u001b[0;32mexcept\u001b[0m \u001b[0mtimeout\u001b[0m\u001b[0;34m:\u001b[0m\u001b[0;34m\u001b[0m\u001b[0;34m\u001b[0m\u001b[0m\n\u001b[1;32m    591\u001b[0m                 \u001b[0mself\u001b[0m\u001b[0;34m.\u001b[0m\u001b[0m_timeout_occurred\u001b[0m \u001b[0;34m=\u001b[0m \u001b[0;32mTrue\u001b[0m\u001b[0;34m\u001b[0m\u001b[0;34m\u001b[0m\u001b[0m\n",
      "\u001b[0;31mKeyboardInterrupt\u001b[0m: "
     ],
     "output_type": "error"
    }
   ],
   "source": [
    "teamSeasons_df = pd.DataFrame(\n",
    "    team.TeamSeasons(team_id='1610612741', league_id='00', season_type='Regular Season', per_mode='PerGame').info())\n",
    "print(teamSeasons_df)\n"
   ]
  },
  {
   "cell_type": "code",
   "execution_count": 30,
   "metadata": {
    "collapsed": true
   },
   "outputs": [
    {
     "name": "stdout",
     "output_type": "stream",
     "text": [
      "   LEAGUE_ID     TEAM_ID MIN_YEAR MAX_YEAR ABBREVIATION\n0         00  1610612737     1949     2019          ATL\n1         00  1610612738     1946     2019          BOS\n2         00  1610612739     1970     2019          CLE\n3         00  1610612740     2002     2019          NOP\n4         00  1610612741     1966     2019          CHI\n5         00  1610612742     1980     2019          DAL\n6         00  1610612743     1976     2019          DEN\n7         00  1610612744     1946     2019          GSW\n8         00  1610612745     1967     2019          HOU\n9         00  1610612746     1970     2019          LAC\n10        00  1610612747     1948     2019          LAL\n11        00  1610612748     1988     2019          MIA\n12        00  1610612749     1968     2019          MIL\n13        00  1610612750     1989     2019          MIN\n14        00  1610612751     1976     2019          BKN\n15        00  1610612752     1946     2019          NYK\n16        00  1610612753     1989     2019          ORL\n17        00  1610612754     1976     2019          IND\n18        00  1610612755     1949     2019          PHI\n19        00  1610612756     1968     2019          PHX\n20        00  1610612757     1970     2019          POR\n21        00  1610612758     1948     2019          SAC\n22        00  1610612759     1976     2019          SAS\n23        00  1610612760     1967     2019          OKC\n24        00  1610612761     1995     2019          TOR\n25        00  1610612762     1974     2019          UTA\n26        00  1610612763     1995     2019          MEM\n27        00  1610612764     1961     2019          WAS\n28        00  1610612765     1948     2019          DET\n29        00  1610612766     1988     2019          CHA\n30        00  1610610029     1948     1948         None\n31        00  1610610025     1946     1949         None\n32        00  1610610034     1946     1949         None\n33        00  1610610036     1946     1950         None\n34        00  1610610024     1947     1954         None\n35        00  1610610027     1949     1949         None\n36        00  1610610030     1949     1952         None\n37        00  1610610033     1949     1949         None\n38        00  1610610031     1946     1946         None\n39        00  1610610037     1949     1949         None\n40        00  1610610023     1949     1949         None\n41        00  1610610026     1946     1946         None\n42        00  1610610028     1946     1946         None\n43        00  1610610032     1946     1948         None\n44        00  1610610035     1946     1946         None\n"
     ]
    }
   ],
   "source": [
    "TeamList_df = pd.DataFrame(team.TeamList().info())\n",
    "print(TeamList_df)"
   ]
  },
  {
   "cell_type": "code",
   "execution_count": null,
   "metadata": {},
   "outputs": [],
   "source": []
  }
 ],
 "metadata": {
  "kernelspec": {
   "display_name": "Python 2",
   "language": "python",
   "name": "python2"
  },
  "language_info": {
   "codemirror_mode": {
    "name": "ipython",
    "version": 2
   },
   "file_extension": ".py",
   "mimetype": "text/x-python",
   "name": "python",
   "nbconvert_exporter": "python",
   "pygments_lexer": "ipython2",
   "version": "2.7.6"
  }
 },
 "nbformat": 4,
 "nbformat_minor": 0
}
