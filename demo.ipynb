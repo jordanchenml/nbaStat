{
 "cells": [
  {
   "cell_type": "code",
   "execution_count": 18,
   "metadata": {
    "collapsed": true
   },
   "outputs": [],
   "source": [
    "import nba_py\n",
    "import pandas as pd\n",
    "import psycopg2\n",
    "from sqlalchemy import create_engine\n",
    "from nba_py import player, team, game, constants\n",
    "from time import sleep\n",
    "import random\n",
    "import datetime\n",
    "\n",
    "# from nba_py.constants import CURRENT_SEASON\n",
    "# from nba_py.player import PlayerList, PlayerGeneralSplits, PlayerGameLogs"
   ]
  },
  {
   "cell_type": "code",
   "execution_count": 93,
   "metadata": {
    "collapsed": true
   },
   "outputs": [
    {
     "name": "stdout",
     "output_type": "stream",
     "text": [
      "     PERSON_ID DISPLAY_LAST_COMMA_FIRST DISPLAY_FIRST_LAST  ROSTERSTATUS  \\\n0       203518            Abrines, Alex       Alex Abrines             0   \n1       203112              Acy, Quincy         Quincy Acy             0   \n2      1629121            Adams, Jaylen       Jaylen Adams             1   \n3       203500            Adams, Steven       Steven Adams             1   \n4      1628389             Adebayo, Bam        Bam Adebayo             1   \n..         ...                      ...                ...           ...   \n530    1629027              Young, Trae         Trae Young             1   \n531     203469             Zeller, Cody        Cody Zeller             1   \n532     203092            Zeller, Tyler       Tyler Zeller             1   \n533    1627790              Zizic, Ante         Ante Zizic             1   \n534    1627826             Zubac, Ivica        Ivica Zubac             1   \n\n    FROM_YEAR TO_YEAR    PLAYERCODE     TEAM_ID      TEAM_CITY  TEAM_NAME  \\\n0        2016    2018  alex_abrines           0                             \n1        2012    2018    quincy_acy           0                             \n2        2018    2018  jaylen_adams  1610612737        Atlanta      Hawks   \n3        2013    2019  steven_adams  1610612760  Oklahoma City    Thunder   \n4        2017    2019   bam_adebayo  1610612748          Miami       Heat   \n..        ...     ...           ...         ...            ...        ...   \n530      2018    2019    trae_young  1610612737        Atlanta      Hawks   \n531      2013    2019   cody_zeller  1610612766      Charlotte    Hornets   \n532      2012    2018  tyler_zeller  1610612763        Memphis  Grizzlies   \n533      2017    2019    ante_zizic  1610612739      Cleveland  Cavaliers   \n534      2016    2019   ivica_zubac  1610612746             LA   Clippers   \n\n    TEAM_ABBREVIATION  TEAM_CODE GAMES_PLAYED_FLAG OTHERLEAGUE_EXPERIENCE_CH  \n0                                                Y                        00  \n1                                                Y                        11  \n2                 ATL      hawks                 Y                        11  \n3                 OKC    thunder                 Y                        00  \n4                 MIA       heat                 Y                        00  \n..                ...        ...               ...                       ...  \n530               ATL      hawks                 Y                        00  \n531               CHA    hornets                 Y                        00  \n532               MEM  grizzlies                 Y                        00  \n533               CLE  cavaliers                 Y                        01  \n534               LAC   clippers                 Y                        01  \n\n[535 rows x 14 columns]\n"
     ]
    }
   ],
   "source": [
    "all_players = player.PlayerList(league_id='00', season='2018-19', only_current=1)\n",
    "all_players_df = pd.DataFrame(all_players.info())\n",
    "tmp = all_players_df.loc[all_players_df['PLAYERCODE'] == 'lebron_james', ['PERSON_ID']]\n",
    "print(all_players_df)\n",
    "# print(all_players_df)"
   ]
  },
  {
   "cell_type": "code",
   "execution_count": 23,
   "metadata": {
    "collapsed": true
   },
   "outputs": [
    {
     "name": "stdout",
     "output_type": "stream",
     "text": [
      "9    203518\nName: PERSON_ID, dtype: int64\n"
     ]
    },
    {
     "name": "stdout",
     "output_type": "stream",
     "text": [
      "14    203112\nName: PERSON_ID, dtype: int64\n"
     ]
    },
    {
     "name": "stdout",
     "output_type": "stream",
     "text": [
      "27    201167\nName: PERSON_ID, dtype: int64\n"
     ]
    },
    {
     "name": "stdout",
     "output_type": "stream",
     "text": [
      "32    201582\nName: PERSON_ID, dtype: int64\n"
     ]
    },
    {
     "ename": "KeyboardInterrupt",
     "evalue": "",
     "traceback": [
      "\u001b[0;31m---------------------------------------------------------------------------\u001b[0m",
      "\u001b[0;31mKeyboardInterrupt\u001b[0m                         Traceback (most recent call last)",
      "\u001b[0;32m<ipython-input-23-3dd1883ca100>\u001b[0m in \u001b[0;36m<module>\u001b[0;34m\u001b[0m\n\u001b[1;32m     11\u001b[0m     \u001b[0;31m# print(get_player[0])\u001b[0m\u001b[0;34m\u001b[0m\u001b[0;34m\u001b[0m\u001b[0;34m\u001b[0m\u001b[0m\n\u001b[1;32m     12\u001b[0m     \u001b[0;31m# print(\"PLAYER_ID - \", get_player[1])\u001b[0m\u001b[0;34m\u001b[0m\u001b[0;34m\u001b[0m\u001b[0;34m\u001b[0m\u001b[0m\n\u001b[0;32m---> 13\u001b[0;31m     \u001b[0msleep\u001b[0m\u001b[0;34m(\u001b[0m\u001b[0mrandom\u001b[0m\u001b[0;34m.\u001b[0m\u001b[0muniform\u001b[0m\u001b[0;34m(\u001b[0m\u001b[0;36m0.05\u001b[0m\u001b[0;34m,\u001b[0m \u001b[0;36m1.8\u001b[0m\u001b[0;34m)\u001b[0m\u001b[0;34m)\u001b[0m\u001b[0;34m\u001b[0m\u001b[0;34m\u001b[0m\u001b[0m\n\u001b[0m",
      "\u001b[0;31mKeyboardInterrupt\u001b[0m: "
     ],
     "output_type": "error"
    }
   ],
   "source": [
    "for player_df in all_players_df['DISPLAY_LAST_COMMA_FIRST']:\n",
    "    last_name = player_df.split(\", \")[0]\n",
    "    first_name = player_df.split(\", \")[1]\n",
    "    # print(first_name)\n",
    "    # print(last_name)\n",
    "    try:\n",
    "        get_player = player.get_player(first_name=first_name, last_name=last_name)\n",
    "        print(get_player)\n",
    "    except:\n",
    "        print(\"No such player.\")\n",
    "    # print(get_player[0])\n",
    "    # print(\"PLAYER_ID - \", get_player[1])\n",
    "    sleep(random.uniform(0.05, 1.8))"
   ]
  },
  {
   "cell_type": "code",
   "execution_count": 101,
   "metadata": {
    "collapsed": true
   },
   "outputs": [
    {
     "name": "stdout",
     "output_type": "stream",
     "text": [
      "9    203518\nName: PERSON_ID, dtype: int64\n"
     ]
    }
   ],
   "source": [
    "get_player = player.get_player(first_name=\"Alex\", last_name=\"Abrines\")\n",
    "df_get_player = pd.DataFrame(player.get_player(first_name=\"Alex\", last_name=\"Abrines\"))\n",
    "# get_player[0]\n",
    "print(get_player)"
   ]
  },
  {
   "cell_type": "code",
   "execution_count": 103,
   "metadata": {
    "collapsed": true
   },
   "outputs": [
    {
     "name": "stdout",
     "output_type": "stream",
     "text": [
      "   PLAYER_ID SEASON_ID LEAGUE_ID     TEAM_ID TEAM_ABBREVIATION  PLAYER_AGE  \\\n0     203518   2016-17        00  1610612760               OKC        23.0   \n1     203518   2017-18        00  1610612760               OKC        24.0   \n2     203518   2018-19        00  1610612760               OKC        25.0   \n\n   GP  GS   MIN  FGM  ...  FT_PCT  OREB  DREB  REB  AST  STL  BLK  TOV   PF  \\\n0  68   6  15.5  2.0  ...   0.898   0.3   1.0  1.3  0.6  0.5  0.1  0.5  1.7   \n1  75   8  15.1  1.5  ...   0.848   0.3   1.2  1.5  0.4  0.5  0.1  0.3  1.7   \n2  31   2  19.0  1.8  ...   0.923   0.2   1.4  1.5  0.6  0.5  0.2  0.5  1.7   \n\n   PTS  \n0  6.0  \n1  4.7  \n2  5.3  \n\n[3 rows x 27 columns]\n"
     ]
    }
   ],
   "source": [
    "james = player.PlayerCareer(player_id=player.get_player(first_name=\"Alex\", last_name=\"Abrines\"), per_mode='PerGame', league_id='00').regular_season_totals()\n",
    "\n",
    "print(james)"
   ]
  },
  {
   "cell_type": "code",
   "execution_count": 112,
   "metadata": {
    "collapsed": true
   },
   "outputs": [
    {
     "name": "stdout",
     "output_type": "stream",
     "text": [
      "   LEAGUE_ID     TEAM_ID MIN_YEAR MAX_YEAR ABBREVIATION\n0         00  1610612737     1949     2019          ATL\n1         00  1610612738     1946     2019          BOS\n2         00  1610612739     1970     2019          CLE\n3         00  1610612740     2002     2019          NOP\n4         00  1610612741     1966     2019          CHI\n5         00  1610612742     1980     2019          DAL\n6         00  1610612743     1976     2019          DEN\n7         00  1610612744     1946     2019          GSW\n8         00  1610612745     1967     2019          HOU\n9         00  1610612746     1970     2019          LAC\n10        00  1610612747     1948     2019          LAL\n11        00  1610612748     1988     2019          MIA\n12        00  1610612749     1968     2019          MIL\n13        00  1610612750     1989     2019          MIN\n14        00  1610612751     1976     2019          BKN\n15        00  1610612752     1946     2019          NYK\n16        00  1610612753     1989     2019          ORL\n17        00  1610612754     1976     2019          IND\n18        00  1610612755     1949     2019          PHI\n19        00  1610612756     1968     2019          PHX\n20        00  1610612757     1970     2019          POR\n21        00  1610612758     1948     2019          SAC\n22        00  1610612759     1976     2019          SAS\n23        00  1610612760     1967     2019          OKC\n24        00  1610612761     1995     2019          TOR\n25        00  1610612762     1974     2019          UTA\n26        00  1610612763     1995     2019          MEM\n27        00  1610612764     1961     2019          WAS\n28        00  1610612765     1948     2019          DET\n29        00  1610612766     1988     2019          CHA\n30        00  1610610029     1948     1948         None\n31        00  1610610025     1946     1949         None\n32        00  1610610034     1946     1949         None\n33        00  1610610036     1946     1950         None\n34        00  1610610024     1947     1954         None\n35        00  1610610027     1949     1949         None\n36        00  1610610030     1949     1952         None\n37        00  1610610033     1949     1949         None\n38        00  1610610031     1946     1946         None\n39        00  1610610037     1949     1949         None\n40        00  1610610023     1949     1949         None\n41        00  1610610026     1946     1946         None\n42        00  1610610028     1946     1946         None\n43        00  1610610032     1946     1948         None\n44        00  1610610035     1946     1946         None\n"
     ]
    }
   ],
   "source": [
    "TeamList = team.TeamList(league_id='00')\n",
    "df_TeamList = pd.DataFrame(TeamList.info())\n",
    "print(df_TeamList)"
   ]
  },
  {
   "cell_type": "code",
   "execution_count": 121,
   "metadata": {},
   "outputs": [
    {
     "name": "stdout",
     "output_type": "stream",
     "text": [
      "       Team_ID     Game_ID     GAME_DATE      MATCHUP WL   W   L  W_PCT  MIN  \\\n0   1610612747  0021601229  APR 12, 2017    LAL @ GSW  L  26  56  0.317  240   \n1   1610612747  0021601215  APR 11, 2017  LAL vs. NOP  W  26  55  0.321  240   \n2   1610612747  0021601202  APR 09, 2017  LAL vs. MIN  W  25  55  0.313  240   \n3   1610612747  0021601187  APR 07, 2017  LAL vs. SAC  W  24  55  0.304  240   \n4   1610612747  0021601170  APR 05, 2017    LAL @ SAS  W  23  55  0.295  240   \n..         ...         ...           ...          ... ..  ..  ..    ...  ...   \n77  1610612747  0021600059  NOV 02, 2016    LAL @ ATL  W   2   3  0.400  240   \n78  1610612747  0021600048  NOV 01, 2016    LAL @ IND  L   1   3  0.250  240   \n79  1610612747  0021600040  OCT 30, 2016    LAL @ OKC  L   1   2  0.333  240   \n80  1610612747  0021600024  OCT 28, 2016    LAL @ UTA  L   1   1  0.500  240   \n81  1610612747  0021600013  OCT 26, 2016  LAL vs. HOU  W   1   0  1.000  240   \n\n    FGM  ...  FT_PCT  OREB  DREB  REB  AST  STL  BLK  TOV  PF  PTS  \n0    41  ...   0.571    11    29   40   23   13    2   18  22   94  \n1    42  ...   0.696     8    39   47   24   15    3   11  18  108  \n2    42  ...   0.800    12    28   40   26   10    8   16  23  110  \n3    38  ...   0.720    16    25   41   20   12    1   14  15   98  \n4    42  ...   0.786     8    39   47   23    8    5   16  13  102  \n..  ...  ...     ...   ...   ...  ...  ...  ...  ...  ...  ..  ...  \n77   48  ...   0.900    11    31   42   24   11    9   15  25  123  \n78   40  ...   0.880    11    33   44   14    8    2   19  25  108  \n79   35  ...   0.792    11    30   41   20   15    2   21  18   96  \n80   32  ...   0.762    11    32   43   16    6    7   14  29   89  \n81   45  ...   0.818    11    28   39   21   10    4   15  24  120  \n\n[82 rows x 27 columns]\n"
     ]
    }
   ],
   "source": [
    "lal_TeamGameLogs = team.TeamGameLogs(team_id=1610612747, season='2016-17', season_type='Regular Season')\n",
    "df_lal_TeamGameLogs = pd.DataFrame(lal_TeamGameLogs.info())\n",
    "print(df_lal_TeamGameLogs)\n",
    "# print(df_lal_TeamGameLogs.info())"
   ]
  },
  {
   "cell_type": "code",
   "execution_count": 130,
   "metadata": {},
   "outputs": [
    {
     "name": "stdout",
     "output_type": "stream",
     "text": [
      "      GAME_ID     TEAM_ID TEAM_NAME TEAM_ABBREVIATION     TEAM_CITY     MIN  \\\n0  0021601229  1610612747    Lakers               LAL   Los Angeles  240:00   \n1  0021601229  1610612744  Warriors               GSW  Golden State  240:00   \n\n   EFG_PCT  FTA_RATE  TM_TOV_PCT  OREB_PCT  OPP_EFG_PCT  OPP_FTA_RATE  \\\n0    0.462     0.151       0.170     0.200        0.522         0.244   \n1    0.522     0.244       0.197     0.264        0.462         0.151   \n\n   OPP_TOV_PCT  OPP_OREB_PCT  \n0        0.197         0.358  \n1        0.170         0.218  \n"
     ]
    }
   ],
   "source": [
    "game1234 = game.BoxscoreFourFactors(game_id='0021601229', season='2016-17', season_type='Regular Season', range_type='0',\n",
    "                             start_period='0', end_period='0', start_range='0', end_range='0')\n",
    "test = pd.DataFrame(game1234.sql_team_four_factors())\n",
    "print(test)"
   ]
  },
  {
   "cell_type": "code",
   "execution_count": 127,
   "metadata": {},
   "outputs": [
    {
     "name": "stdout",
     "output_type": "stream",
     "text": [
      "   GROUP_SET GROUP_VALUE  GP   W   L  W_PCT   MIN   FGM   FGA  FG_PCT  ...  \\\n0    By Year     2018-19  82  37  45  0.451  48.2  42.6  90.5   0.470  ...   \n1    By Year     2017-18  82  35  47  0.427  48.5  40.7  88.4   0.461  ...   \n2    By Year     2016-17  82  26  56  0.317  48.1  39.3  87.4   0.450  ...   \n3    By Year     2015-16  82  17  65  0.207  48.1  35.1  84.8   0.414  ...   \n4    By Year     2014-15  82  21  61  0.256  48.6  37.2  85.6   0.435  ...   \n5    By Year     2013-14  82  27  55  0.329  48.1  38.3  85.1   0.450  ...   \n6    By Year     2012-13  82  45  37  0.549  48.2  37.1  81.0   0.458  ...   \n7    By Year     2011-12  66  41  25  0.621  48.7  36.8  80.6   0.457  ...   \n8    By Year     2010-11  82  57  25  0.695  48.4  38.1  82.4   0.463  ...   \n9    By Year     2009-10  82  57  25  0.695  48.4  38.3  83.8   0.457  ...   \n10   By Year     2008-09  82  65  17  0.793  48.2  40.3  85.1   0.474  ...   \n11   By Year     2007-08  82  57  25  0.695  48.2  39.6  83.1   0.476  ...   \n12   By Year     2006-07  82  42  40  0.512  48.9  37.8  81.3   0.466  ...   \n13   By Year     2005-06  82  45  37  0.549  48.4  36.5  80.6   0.453  ...   \n14   By Year     2004-05  82  34  48  0.415  48.2  35.3  80.8   0.437  ...   \n15   By Year     2003-04  82  56  26  0.683  48.4  36.9  81.4   0.454  ...   \n16   By Year     2002-03  82  50  32  0.610  48.6  37.7  83.6   0.451  ...   \n17   By Year     2001-02  82  58  24  0.707  48.2  38.4  83.4   0.461  ...   \n18   By Year     2000-01  82  56  26  0.683  48.5  37.9  81.5   0.465  ...   \n19   By Year     1999-00  82  67  15  0.817  48.3  38.3  83.4   0.459  ...   \n20   By Year     1998-99  50  31  19  0.620  48.2  36.8  78.7   0.468  ...   \n21   By Year     1997-98  82  61  21  0.744  48.4  38.4  79.7   0.481  ...   \n22   By Year     1996-97  82  56  26  0.683  48.6  36.8  81.0   0.454  ...   \n\n    TOV_RANK  STL_RANK  BLK_RANK  BLKA_RANK  PF_RANK  PFD_RANK  PTS_RANK  \\\n0         22        12         9         19       10         7         1   \n1         23         9        17         22       12         9         3   \n2         19         5        23         21        8        14         6   \n3          6        18        22         23        6        13        22   \n4          3        19        19         15       13        11        20   \n5         18        15         8         12        5        12         8   \n6         15        20        12         15        2         3         9   \n7         17        23        11         11        1        10        23   \n8          2        16        13         10        3         8        11   \n9          4        14        16          8        4         6        10   \n10         5         3        15         14        8         5         4   \n11        10         6        10          9        7         4         2   \n12        21        17        14         17       21         2         7   \n13         8        10        20          6       22         1        17   \n14        11        22        21         18       14        23        19   \n15         7         4        18          1       11        22        21   \n16        13         7         7          2       20        21        15   \n17         1        11         5          6       16        18        12   \n18        12        21         4          4       19        19        14   \n19         8        13         3          5       17        15        13   \n20        16         8         6          3       23        20        18   \n21        20         2         2         20       18        16         5   \n22        14         1         1         13       15        16        16   \n\n    PLUS_MINUS_RANK  CFID  CFPARAMS  \n0                18   210   2018-19  \n1                17   210   2017-18  \n2                22   210   2016-17  \n3                23   210   2015-16  \n4                21   210   2014-15  \n5                20   210   2013-14  \n6                15   210   2012-13  \n7                14   210   2011-12  \n8                 6   210   2010-11  \n9                 7   210   2009-10  \n10                3   210   2008-09  \n11                4   210   2007-08  \n12               16   210   2006-07  \n13               12   210   2005-06  \n14               19   210   2004-05  \n15                9   210   2003-04  \n16               13   210   2002-03  \n17                5   210   2001-02  \n18               10   210   2000-01  \n19                1   210   1999-00  \n20               11   210   1998-99  \n21                2   210   1997-98  \n22                8   210   1996-97  \n\n[23 rows x 56 columns]\n"
     ]
    }
   ],
   "source": [
    "lal_TeamYearOverYearSplits = team.TeamYearOverYearSplits(team_id=1610612747, measure_type='Base', per_mode='PerGame',\n",
    "                                               plus_minus='N', pace_adjust='N', rank='N', league_id='00',\n",
    "                                               season='2016-17', season_type='Regular Season', po_round='0', outcome='',\n",
    "                                               location='', month='0', season_segment='', date_from='', date_to='',\n",
    "                                               opponent_team_id='0', vs_conference='', vs_division='', game_segment='',\n",
    "                                               period='0', shot_clock_range='', last_n_games='0')\n",
    "df_lal_TeamYearOverYearSplits = pd.DataFrame(lal_TeamYearOverYearSplits.by_year())\n",
    "print(df_lal_TeamYearOverYearSplits)\n"
   ]
  },
  {
   "cell_type": "code",
   "execution_count": 20,
   "metadata": {},
   "outputs": [
    {
     "name": "stdout",
     "output_type": "stream",
     "text": [
      "      GAME_ID  HOME_TEAM_ID  VISITOR_TEAM_ID        GAME_DATE_EST  \\\n0  0021800052    1610612737       1610612742  2018-10-24T00:00:00   \n\n   HOME_TEAM_WINS  HOME_TEAM_LOSSES SERIES_LEADER  \n0               1                 1          Tied  \n"
     ]
    }
   ],
   "source": [
    "boxscore_summary = game.BoxscoreSummary(\"0021800052\")\n",
    "print(boxscore_summary.season_series())"
   ]
  },
  {
   "cell_type": "code",
   "execution_count": 25,
   "metadata": {
    "collapsed": true
   },
   "outputs": [
    {
     "name": "stdout",
     "output_type": "stream",
     "text": [
      "   GROUP_SET  PLAYER_ID              PLAYER_NAME  GP   W   L  W_PCT   MIN  \\\n0    Players     201627           Anthony Morrow   9   4   5  0.444   9.7   \n1    Players    1626171             Bobby Portis  64  30  34  0.469  15.6   \n2    Players    1626166            Cameron Payne  11   5   6  0.455  12.9   \n3    Players    1626245        Cristiano Felicio  66  31  35  0.470  15.8   \n4    Players    1627756         Denzel Valentine  57  28  29  0.491  17.1   \n5    Players     203926           Doug McDermott  44  22  22  0.500  24.5   \n6    Players       2548              Dwyane Wade  60  29  31  0.483  29.9   \n7    Players     203477            Isaiah Canaan  39  19  20  0.487  15.2   \n8    Players    1626170             Jerian Grant  63  29  34  0.460  16.3   \n9    Players     202710             Jimmy Butler  76  40  36  0.526  37.0   \n10   Players     203530        Joffrey Lauvergne  20  11   9  0.550  12.1   \n11   Players     203487  Michael Carter-Williams  45  25  20  0.556  18.8   \n12   Players     202703           Nikola Mirotic  70  37  33  0.529  24.0   \n13   Players    1627835              Paul Zipser  44  21  23  0.477  19.2   \n14   Players    1626154                RJ Hunter   3   2   1  0.667   3.1   \n15   Players     200765              Rajon Rondo  69  34  35  0.493  26.7   \n16   Players     201577              Robin Lopez  81  40  41  0.494  28.0   \n17   Players     201959               Taj Gibson  55  27  28  0.491  27.3   \n\n    FGM   FGA  ...  STL_RANK  BLK_RANK  BLKA_RANK  PF_RANK  PFD_RANK  \\\n0   1.3   3.2  ...        16        15         10       17        15   \n1   2.9   5.9  ...        14         9          9       12        14   \n2   1.9   5.7  ...        11        15         17       14        16   \n3   1.9   3.3  ...        10         8         12        8         8   \n4   1.8   5.1  ...         8        12         16        9        17   \n5   3.8   8.5  ...        14        13          4       13         7   \n6   6.9  15.9  ...         3         4          1        4         2   \n7   1.6   4.4  ...         7        14         14       15        13   \n8   2.0   4.8  ...         6        11         15       10        10   \n9   7.5  16.5  ...         1         6          3       11         1   \n10  1.9   4.6  ...        12        15         11       16        11   \n11  2.5   6.8  ...         4         5          5        1         4   \n12  3.7   8.9  ...         5         3          8        6         5   \n13  2.0   5.0  ...        13         7         13        7        12   \n14  0.0   0.3  ...        18        15         17       18        18   \n15  3.3   8.1  ...         2        10          7        3         9   \n16  4.7   9.6  ...        16         1          6        5         6   \n17  5.0   9.6  ...         9         2          2        2         3   \n\n    PTS_RANK  PLUS_MINUS_RANK  NBA_FANTASY_PTS_RANK  DD2_RANK  TD3_RANK  \n0         16                1                    17        12         3  \n1          8               15                     9         6         3  \n2         13               17                    16        12         3  \n3         14               10                    11         7         3  \n4         12                8                    13         9         3  \n5          6                7                     8         9         3  \n6          2               14                     2         8         3  \n7         15               16                    15        12         3  \n8         10                5                    10         9         3  \n9          1                3                     1         1         1  \n10        17               11                    14        12         3  \n11         9               12                     7        12         3  \n12         4                2                     6         3         3  \n13        11                6                    12        12         3  \n14        18               18                    18        12         3  \n15         7               13                     3         5         2  \n16         5                4                     5         3         3  \n17         3                9                     4         2         3  \n\n[18 rows x 61 columns]\n"
     ]
    }
   ],
   "source": [
    "teamPlayers = team.TeamPlayers(team_id='1610612741', measure_type='Base', per_mode='PerGame', plus_minus='N', pace_adjust='N', rank='N',\n",
    "                            league_id='00', season='2016-17', season_type='Regular Season', po_round='0', outcome='',\n",
    "                            location='', month='0', season_segment='', date_from='', date_to='', opponent_team_id='0',\n",
    "                            vs_conference='', vs_division='', game_segment='', period='0', shot_clock_range='',\n",
    "                            last_n_games='0')\n",
    "teamPlayers_df = pd.DataFrame(teamPlayers.season_totals())\n",
    "print(teamPlayers_df)\n"
   ]
  },
  {
   "cell_type": "code",
   "execution_count": 67,
   "metadata": {
    "collapsed": true
   },
   "outputs": [
    {
     "ename": "KeyboardInterrupt",
     "evalue": "",
     "traceback": [
      "\u001b[0;31m---------------------------------------------------------------------------\u001b[0m",
      "\u001b[0;31mTypeError\u001b[0m                                 Traceback (most recent call last)",
      "\u001b[0;32m~/anaconda3/envs/tf2/lib/python3.7/site-packages/urllib3/connectionpool.py\u001b[0m in \u001b[0;36m_make_request\u001b[0;34m(self, conn, method, url, timeout, chunked, **httplib_request_kw)\u001b[0m\n\u001b[1;32m    378\u001b[0m                 \u001b[0;31m# Python 2.7, use buffering of HTTP responses\u001b[0m\u001b[0;34m\u001b[0m\u001b[0;34m\u001b[0m\u001b[0;34m\u001b[0m\u001b[0m\n\u001b[0;32m--> 379\u001b[0;31m                 \u001b[0mhttplib_response\u001b[0m \u001b[0;34m=\u001b[0m \u001b[0mconn\u001b[0m\u001b[0;34m.\u001b[0m\u001b[0mgetresponse\u001b[0m\u001b[0;34m(\u001b[0m\u001b[0mbuffering\u001b[0m\u001b[0;34m=\u001b[0m\u001b[0;32mTrue\u001b[0m\u001b[0;34m)\u001b[0m\u001b[0;34m\u001b[0m\u001b[0;34m\u001b[0m\u001b[0m\n\u001b[0m\u001b[1;32m    380\u001b[0m             \u001b[0;32mexcept\u001b[0m \u001b[0mTypeError\u001b[0m\u001b[0;34m:\u001b[0m\u001b[0;34m\u001b[0m\u001b[0;34m\u001b[0m\u001b[0m\n",
      "\u001b[0;31mTypeError\u001b[0m: getresponse() got an unexpected keyword argument 'buffering'",
      "\nDuring handling of the above exception, another exception occurred:\n",
      "\u001b[0;31mKeyboardInterrupt\u001b[0m                         Traceback (most recent call last)",
      "\u001b[0;32m<ipython-input-67-eda9a37f4a6d>\u001b[0m in \u001b[0;36m<module>\u001b[0;34m\u001b[0m\n\u001b[1;32m      1\u001b[0m teamSeasons_df = pd.DataFrame(\n\u001b[0;32m----> 2\u001b[0;31m     team.TeamSeasons(team_id='1610612741', league_id='00', season_type='Regular Season', per_mode='PerGame').info())\n\u001b[0m\u001b[1;32m      3\u001b[0m \u001b[0mprint\u001b[0m\u001b[0;34m(\u001b[0m\u001b[0mteamSeasons_df\u001b[0m\u001b[0;34m)\u001b[0m\u001b[0;34m\u001b[0m\u001b[0;34m\u001b[0m\u001b[0m\n",
      "\u001b[0;32m~/anaconda3/envs/tf2/lib/python3.7/site-packages/nba_py/team.py\u001b[0m in \u001b[0;36m__init__\u001b[0;34m(self, team_id, league_id, season_type, per_mode)\u001b[0m\n\u001b[1;32m    429\u001b[0m                                       \u001b[0;34m'LeagueID'\u001b[0m\u001b[0;34m:\u001b[0m \u001b[0mleague_id\u001b[0m\u001b[0;34m,\u001b[0m\u001b[0;34m\u001b[0m\u001b[0;34m\u001b[0m\u001b[0m\n\u001b[1;32m    430\u001b[0m                                       \u001b[0;34m'SeasonType'\u001b[0m\u001b[0;34m:\u001b[0m \u001b[0mseason_type\u001b[0m\u001b[0;34m,\u001b[0m\u001b[0;34m\u001b[0m\u001b[0;34m\u001b[0m\u001b[0m\n\u001b[0;32m--> 431\u001b[0;31m                                       'PerMode': per_mode})\n\u001b[0m\u001b[1;32m    432\u001b[0m \u001b[0;34m\u001b[0m\u001b[0m\n\u001b[1;32m    433\u001b[0m     \u001b[0;32mdef\u001b[0m \u001b[0minfo\u001b[0m\u001b[0;34m(\u001b[0m\u001b[0mself\u001b[0m\u001b[0;34m)\u001b[0m\u001b[0;34m:\u001b[0m\u001b[0;34m\u001b[0m\u001b[0;34m\u001b[0m\u001b[0m\n",
      "\u001b[0;32m~/anaconda3/envs/tf2/lib/python3.7/site-packages/nba_py/__init__.py\u001b[0m in \u001b[0;36m_get_json\u001b[0;34m(endpoint, params, referer)\u001b[0m\n\u001b[1;32m     85\u001b[0m     \u001b[0mh\u001b[0m\u001b[0;34m[\u001b[0m\u001b[0;34m'referer'\u001b[0m\u001b[0;34m]\u001b[0m \u001b[0;34m=\u001b[0m \u001b[0;34m'http://stats.nba.com/{ref}/'\u001b[0m\u001b[0;34m.\u001b[0m\u001b[0mformat\u001b[0m\u001b[0;34m(\u001b[0m\u001b[0mref\u001b[0m\u001b[0;34m=\u001b[0m\u001b[0mreferer\u001b[0m\u001b[0;34m)\u001b[0m\u001b[0;34m\u001b[0m\u001b[0;34m\u001b[0m\u001b[0m\n\u001b[1;32m     86\u001b[0m     _get = get(BASE_URL.format(endpoint=endpoint), params=params,\n\u001b[0;32m---> 87\u001b[0;31m                headers=h)\n\u001b[0m\u001b[1;32m     88\u001b[0m     \u001b[0;31m# print _get.url\u001b[0m\u001b[0;34m\u001b[0m\u001b[0;34m\u001b[0m\u001b[0;34m\u001b[0m\u001b[0m\n\u001b[1;32m     89\u001b[0m     \u001b[0m_get\u001b[0m\u001b[0;34m.\u001b[0m\u001b[0mraise_for_status\u001b[0m\u001b[0;34m(\u001b[0m\u001b[0;34m)\u001b[0m\u001b[0;34m\u001b[0m\u001b[0;34m\u001b[0m\u001b[0m\n",
      "\u001b[0;32m~/anaconda3/envs/tf2/lib/python3.7/site-packages/requests/api.py\u001b[0m in \u001b[0;36mget\u001b[0;34m(url, params, **kwargs)\u001b[0m\n\u001b[1;32m     73\u001b[0m \u001b[0;34m\u001b[0m\u001b[0m\n\u001b[1;32m     74\u001b[0m     \u001b[0mkwargs\u001b[0m\u001b[0;34m.\u001b[0m\u001b[0msetdefault\u001b[0m\u001b[0;34m(\u001b[0m\u001b[0;34m'allow_redirects'\u001b[0m\u001b[0;34m,\u001b[0m \u001b[0;32mTrue\u001b[0m\u001b[0;34m)\u001b[0m\u001b[0;34m\u001b[0m\u001b[0;34m\u001b[0m\u001b[0m\n\u001b[0;32m---> 75\u001b[0;31m     \u001b[0;32mreturn\u001b[0m \u001b[0mrequest\u001b[0m\u001b[0;34m(\u001b[0m\u001b[0;34m'get'\u001b[0m\u001b[0;34m,\u001b[0m \u001b[0murl\u001b[0m\u001b[0;34m,\u001b[0m \u001b[0mparams\u001b[0m\u001b[0;34m=\u001b[0m\u001b[0mparams\u001b[0m\u001b[0;34m,\u001b[0m \u001b[0;34m**\u001b[0m\u001b[0mkwargs\u001b[0m\u001b[0;34m)\u001b[0m\u001b[0;34m\u001b[0m\u001b[0;34m\u001b[0m\u001b[0m\n\u001b[0m\u001b[1;32m     76\u001b[0m \u001b[0;34m\u001b[0m\u001b[0m\n\u001b[1;32m     77\u001b[0m \u001b[0;34m\u001b[0m\u001b[0m\n",
      "\u001b[0;32m~/anaconda3/envs/tf2/lib/python3.7/site-packages/requests/api.py\u001b[0m in \u001b[0;36mrequest\u001b[0;34m(method, url, **kwargs)\u001b[0m\n\u001b[1;32m     58\u001b[0m     \u001b[0;31m# cases, and look like a memory leak in others.\u001b[0m\u001b[0;34m\u001b[0m\u001b[0;34m\u001b[0m\u001b[0;34m\u001b[0m\u001b[0m\n\u001b[1;32m     59\u001b[0m     \u001b[0;32mwith\u001b[0m \u001b[0msessions\u001b[0m\u001b[0;34m.\u001b[0m\u001b[0mSession\u001b[0m\u001b[0;34m(\u001b[0m\u001b[0;34m)\u001b[0m \u001b[0;32mas\u001b[0m \u001b[0msession\u001b[0m\u001b[0;34m:\u001b[0m\u001b[0;34m\u001b[0m\u001b[0;34m\u001b[0m\u001b[0m\n\u001b[0;32m---> 60\u001b[0;31m         \u001b[0;32mreturn\u001b[0m \u001b[0msession\u001b[0m\u001b[0;34m.\u001b[0m\u001b[0mrequest\u001b[0m\u001b[0;34m(\u001b[0m\u001b[0mmethod\u001b[0m\u001b[0;34m=\u001b[0m\u001b[0mmethod\u001b[0m\u001b[0;34m,\u001b[0m \u001b[0murl\u001b[0m\u001b[0;34m=\u001b[0m\u001b[0murl\u001b[0m\u001b[0;34m,\u001b[0m \u001b[0;34m**\u001b[0m\u001b[0mkwargs\u001b[0m\u001b[0;34m)\u001b[0m\u001b[0;34m\u001b[0m\u001b[0;34m\u001b[0m\u001b[0m\n\u001b[0m\u001b[1;32m     61\u001b[0m \u001b[0;34m\u001b[0m\u001b[0m\n\u001b[1;32m     62\u001b[0m \u001b[0;34m\u001b[0m\u001b[0m\n",
      "\u001b[0;32m~/anaconda3/envs/tf2/lib/python3.7/site-packages/requests/sessions.py\u001b[0m in \u001b[0;36mrequest\u001b[0;34m(self, method, url, params, data, headers, cookies, files, auth, timeout, allow_redirects, proxies, hooks, stream, verify, cert, json)\u001b[0m\n\u001b[1;32m    531\u001b[0m         }\n\u001b[1;32m    532\u001b[0m         \u001b[0msend_kwargs\u001b[0m\u001b[0;34m.\u001b[0m\u001b[0mupdate\u001b[0m\u001b[0;34m(\u001b[0m\u001b[0msettings\u001b[0m\u001b[0;34m)\u001b[0m\u001b[0;34m\u001b[0m\u001b[0;34m\u001b[0m\u001b[0m\n\u001b[0;32m--> 533\u001b[0;31m         \u001b[0mresp\u001b[0m \u001b[0;34m=\u001b[0m \u001b[0mself\u001b[0m\u001b[0;34m.\u001b[0m\u001b[0msend\u001b[0m\u001b[0;34m(\u001b[0m\u001b[0mprep\u001b[0m\u001b[0;34m,\u001b[0m \u001b[0;34m**\u001b[0m\u001b[0msend_kwargs\u001b[0m\u001b[0;34m)\u001b[0m\u001b[0;34m\u001b[0m\u001b[0;34m\u001b[0m\u001b[0m\n\u001b[0m\u001b[1;32m    534\u001b[0m \u001b[0;34m\u001b[0m\u001b[0m\n\u001b[1;32m    535\u001b[0m         \u001b[0;32mreturn\u001b[0m \u001b[0mresp\u001b[0m\u001b[0;34m\u001b[0m\u001b[0;34m\u001b[0m\u001b[0m\n",
      "\u001b[0;32m~/anaconda3/envs/tf2/lib/python3.7/site-packages/requests/sessions.py\u001b[0m in \u001b[0;36msend\u001b[0;34m(self, request, **kwargs)\u001b[0m\n\u001b[1;32m    644\u001b[0m \u001b[0;34m\u001b[0m\u001b[0m\n\u001b[1;32m    645\u001b[0m         \u001b[0;31m# Send the request\u001b[0m\u001b[0;34m\u001b[0m\u001b[0;34m\u001b[0m\u001b[0;34m\u001b[0m\u001b[0m\n\u001b[0;32m--> 646\u001b[0;31m         \u001b[0mr\u001b[0m \u001b[0;34m=\u001b[0m \u001b[0madapter\u001b[0m\u001b[0;34m.\u001b[0m\u001b[0msend\u001b[0m\u001b[0;34m(\u001b[0m\u001b[0mrequest\u001b[0m\u001b[0;34m,\u001b[0m \u001b[0;34m**\u001b[0m\u001b[0mkwargs\u001b[0m\u001b[0;34m)\u001b[0m\u001b[0;34m\u001b[0m\u001b[0;34m\u001b[0m\u001b[0m\n\u001b[0m\u001b[1;32m    647\u001b[0m \u001b[0;34m\u001b[0m\u001b[0m\n\u001b[1;32m    648\u001b[0m         \u001b[0;31m# Total elapsed time of the request (approximately)\u001b[0m\u001b[0;34m\u001b[0m\u001b[0;34m\u001b[0m\u001b[0;34m\u001b[0m\u001b[0m\n",
      "\u001b[0;32m~/anaconda3/envs/tf2/lib/python3.7/site-packages/requests/adapters.py\u001b[0m in \u001b[0;36msend\u001b[0;34m(self, request, stream, timeout, verify, cert, proxies)\u001b[0m\n\u001b[1;32m    447\u001b[0m                     \u001b[0mdecode_content\u001b[0m\u001b[0;34m=\u001b[0m\u001b[0;32mFalse\u001b[0m\u001b[0;34m,\u001b[0m\u001b[0;34m\u001b[0m\u001b[0;34m\u001b[0m\u001b[0m\n\u001b[1;32m    448\u001b[0m                     \u001b[0mretries\u001b[0m\u001b[0;34m=\u001b[0m\u001b[0mself\u001b[0m\u001b[0;34m.\u001b[0m\u001b[0mmax_retries\u001b[0m\u001b[0;34m,\u001b[0m\u001b[0;34m\u001b[0m\u001b[0;34m\u001b[0m\u001b[0m\n\u001b[0;32m--> 449\u001b[0;31m                     \u001b[0mtimeout\u001b[0m\u001b[0;34m=\u001b[0m\u001b[0mtimeout\u001b[0m\u001b[0;34m\u001b[0m\u001b[0;34m\u001b[0m\u001b[0m\n\u001b[0m\u001b[1;32m    450\u001b[0m                 )\n\u001b[1;32m    451\u001b[0m \u001b[0;34m\u001b[0m\u001b[0m\n",
      "\u001b[0;32m~/anaconda3/envs/tf2/lib/python3.7/site-packages/urllib3/connectionpool.py\u001b[0m in \u001b[0;36murlopen\u001b[0;34m(self, method, url, body, headers, retries, redirect, assert_same_host, timeout, pool_timeout, release_conn, chunked, body_pos, **response_kw)\u001b[0m\n\u001b[1;32m    601\u001b[0m                                                   \u001b[0mtimeout\u001b[0m\u001b[0;34m=\u001b[0m\u001b[0mtimeout_obj\u001b[0m\u001b[0;34m,\u001b[0m\u001b[0;34m\u001b[0m\u001b[0;34m\u001b[0m\u001b[0m\n\u001b[1;32m    602\u001b[0m                                                   \u001b[0mbody\u001b[0m\u001b[0;34m=\u001b[0m\u001b[0mbody\u001b[0m\u001b[0;34m,\u001b[0m \u001b[0mheaders\u001b[0m\u001b[0;34m=\u001b[0m\u001b[0mheaders\u001b[0m\u001b[0;34m,\u001b[0m\u001b[0;34m\u001b[0m\u001b[0;34m\u001b[0m\u001b[0m\n\u001b[0;32m--> 603\u001b[0;31m                                                   chunked=chunked)\n\u001b[0m\u001b[1;32m    604\u001b[0m \u001b[0;34m\u001b[0m\u001b[0m\n\u001b[1;32m    605\u001b[0m             \u001b[0;31m# If we're going to release the connection in ``finally:``, then\u001b[0m\u001b[0;34m\u001b[0m\u001b[0;34m\u001b[0m\u001b[0;34m\u001b[0m\u001b[0m\n",
      "\u001b[0;32m~/anaconda3/envs/tf2/lib/python3.7/site-packages/urllib3/connectionpool.py\u001b[0m in \u001b[0;36m_make_request\u001b[0;34m(self, conn, method, url, timeout, chunked, **httplib_request_kw)\u001b[0m\n\u001b[1;32m    381\u001b[0m                 \u001b[0;31m# Python 3\u001b[0m\u001b[0;34m\u001b[0m\u001b[0;34m\u001b[0m\u001b[0;34m\u001b[0m\u001b[0m\n\u001b[1;32m    382\u001b[0m                 \u001b[0;32mtry\u001b[0m\u001b[0;34m:\u001b[0m\u001b[0;34m\u001b[0m\u001b[0;34m\u001b[0m\u001b[0m\n\u001b[0;32m--> 383\u001b[0;31m                     \u001b[0mhttplib_response\u001b[0m \u001b[0;34m=\u001b[0m \u001b[0mconn\u001b[0m\u001b[0;34m.\u001b[0m\u001b[0mgetresponse\u001b[0m\u001b[0;34m(\u001b[0m\u001b[0;34m)\u001b[0m\u001b[0;34m\u001b[0m\u001b[0;34m\u001b[0m\u001b[0m\n\u001b[0m\u001b[1;32m    384\u001b[0m                 \u001b[0;32mexcept\u001b[0m \u001b[0mException\u001b[0m \u001b[0;32mas\u001b[0m \u001b[0me\u001b[0m\u001b[0;34m:\u001b[0m\u001b[0;34m\u001b[0m\u001b[0;34m\u001b[0m\u001b[0m\n\u001b[1;32m    385\u001b[0m                     \u001b[0;31m# Remove the TypeError from the exception chain in Python 3;\u001b[0m\u001b[0;34m\u001b[0m\u001b[0;34m\u001b[0m\u001b[0;34m\u001b[0m\u001b[0m\n",
      "\u001b[0;32m~/anaconda3/envs/tf2/lib/python3.7/http/client.py\u001b[0m in \u001b[0;36mgetresponse\u001b[0;34m(self)\u001b[0m\n\u001b[1;32m   1334\u001b[0m         \u001b[0;32mtry\u001b[0m\u001b[0;34m:\u001b[0m\u001b[0;34m\u001b[0m\u001b[0;34m\u001b[0m\u001b[0m\n\u001b[1;32m   1335\u001b[0m             \u001b[0;32mtry\u001b[0m\u001b[0;34m:\u001b[0m\u001b[0;34m\u001b[0m\u001b[0;34m\u001b[0m\u001b[0m\n\u001b[0;32m-> 1336\u001b[0;31m                 \u001b[0mresponse\u001b[0m\u001b[0;34m.\u001b[0m\u001b[0mbegin\u001b[0m\u001b[0;34m(\u001b[0m\u001b[0;34m)\u001b[0m\u001b[0;34m\u001b[0m\u001b[0;34m\u001b[0m\u001b[0m\n\u001b[0m\u001b[1;32m   1337\u001b[0m             \u001b[0;32mexcept\u001b[0m \u001b[0mConnectionError\u001b[0m\u001b[0;34m:\u001b[0m\u001b[0;34m\u001b[0m\u001b[0;34m\u001b[0m\u001b[0m\n\u001b[1;32m   1338\u001b[0m                 \u001b[0mself\u001b[0m\u001b[0;34m.\u001b[0m\u001b[0mclose\u001b[0m\u001b[0;34m(\u001b[0m\u001b[0;34m)\u001b[0m\u001b[0;34m\u001b[0m\u001b[0;34m\u001b[0m\u001b[0m\n",
      "\u001b[0;32m~/anaconda3/envs/tf2/lib/python3.7/http/client.py\u001b[0m in \u001b[0;36mbegin\u001b[0;34m(self)\u001b[0m\n\u001b[1;32m    304\u001b[0m         \u001b[0;31m# read until we get a non-100 response\u001b[0m\u001b[0;34m\u001b[0m\u001b[0;34m\u001b[0m\u001b[0;34m\u001b[0m\u001b[0m\n\u001b[1;32m    305\u001b[0m         \u001b[0;32mwhile\u001b[0m \u001b[0;32mTrue\u001b[0m\u001b[0;34m:\u001b[0m\u001b[0;34m\u001b[0m\u001b[0;34m\u001b[0m\u001b[0m\n\u001b[0;32m--> 306\u001b[0;31m             \u001b[0mversion\u001b[0m\u001b[0;34m,\u001b[0m \u001b[0mstatus\u001b[0m\u001b[0;34m,\u001b[0m \u001b[0mreason\u001b[0m \u001b[0;34m=\u001b[0m \u001b[0mself\u001b[0m\u001b[0;34m.\u001b[0m\u001b[0m_read_status\u001b[0m\u001b[0;34m(\u001b[0m\u001b[0;34m)\u001b[0m\u001b[0;34m\u001b[0m\u001b[0;34m\u001b[0m\u001b[0m\n\u001b[0m\u001b[1;32m    307\u001b[0m             \u001b[0;32mif\u001b[0m \u001b[0mstatus\u001b[0m \u001b[0;34m!=\u001b[0m \u001b[0mCONTINUE\u001b[0m\u001b[0;34m:\u001b[0m\u001b[0;34m\u001b[0m\u001b[0;34m\u001b[0m\u001b[0m\n\u001b[1;32m    308\u001b[0m                 \u001b[0;32mbreak\u001b[0m\u001b[0;34m\u001b[0m\u001b[0;34m\u001b[0m\u001b[0m\n",
      "\u001b[0;32m~/anaconda3/envs/tf2/lib/python3.7/http/client.py\u001b[0m in \u001b[0;36m_read_status\u001b[0;34m(self)\u001b[0m\n\u001b[1;32m    265\u001b[0m \u001b[0;34m\u001b[0m\u001b[0m\n\u001b[1;32m    266\u001b[0m     \u001b[0;32mdef\u001b[0m \u001b[0m_read_status\u001b[0m\u001b[0;34m(\u001b[0m\u001b[0mself\u001b[0m\u001b[0;34m)\u001b[0m\u001b[0;34m:\u001b[0m\u001b[0;34m\u001b[0m\u001b[0;34m\u001b[0m\u001b[0m\n\u001b[0;32m--> 267\u001b[0;31m         \u001b[0mline\u001b[0m \u001b[0;34m=\u001b[0m \u001b[0mstr\u001b[0m\u001b[0;34m(\u001b[0m\u001b[0mself\u001b[0m\u001b[0;34m.\u001b[0m\u001b[0mfp\u001b[0m\u001b[0;34m.\u001b[0m\u001b[0mreadline\u001b[0m\u001b[0;34m(\u001b[0m\u001b[0m_MAXLINE\u001b[0m \u001b[0;34m+\u001b[0m \u001b[0;36m1\u001b[0m\u001b[0;34m)\u001b[0m\u001b[0;34m,\u001b[0m \u001b[0;34m\"iso-8859-1\"\u001b[0m\u001b[0;34m)\u001b[0m\u001b[0;34m\u001b[0m\u001b[0;34m\u001b[0m\u001b[0m\n\u001b[0m\u001b[1;32m    268\u001b[0m         \u001b[0;32mif\u001b[0m \u001b[0mlen\u001b[0m\u001b[0;34m(\u001b[0m\u001b[0mline\u001b[0m\u001b[0;34m)\u001b[0m \u001b[0;34m>\u001b[0m \u001b[0m_MAXLINE\u001b[0m\u001b[0;34m:\u001b[0m\u001b[0;34m\u001b[0m\u001b[0;34m\u001b[0m\u001b[0m\n\u001b[1;32m    269\u001b[0m             \u001b[0;32mraise\u001b[0m \u001b[0mLineTooLong\u001b[0m\u001b[0;34m(\u001b[0m\u001b[0;34m\"status line\"\u001b[0m\u001b[0;34m)\u001b[0m\u001b[0;34m\u001b[0m\u001b[0;34m\u001b[0m\u001b[0m\n",
      "\u001b[0;32m~/anaconda3/envs/tf2/lib/python3.7/socket.py\u001b[0m in \u001b[0;36mreadinto\u001b[0;34m(self, b)\u001b[0m\n\u001b[1;32m    587\u001b[0m         \u001b[0;32mwhile\u001b[0m \u001b[0;32mTrue\u001b[0m\u001b[0;34m:\u001b[0m\u001b[0;34m\u001b[0m\u001b[0;34m\u001b[0m\u001b[0m\n\u001b[1;32m    588\u001b[0m             \u001b[0;32mtry\u001b[0m\u001b[0;34m:\u001b[0m\u001b[0;34m\u001b[0m\u001b[0;34m\u001b[0m\u001b[0m\n\u001b[0;32m--> 589\u001b[0;31m                 \u001b[0;32mreturn\u001b[0m \u001b[0mself\u001b[0m\u001b[0;34m.\u001b[0m\u001b[0m_sock\u001b[0m\u001b[0;34m.\u001b[0m\u001b[0mrecv_into\u001b[0m\u001b[0;34m(\u001b[0m\u001b[0mb\u001b[0m\u001b[0;34m)\u001b[0m\u001b[0;34m\u001b[0m\u001b[0;34m\u001b[0m\u001b[0m\n\u001b[0m\u001b[1;32m    590\u001b[0m             \u001b[0;32mexcept\u001b[0m \u001b[0mtimeout\u001b[0m\u001b[0;34m:\u001b[0m\u001b[0;34m\u001b[0m\u001b[0;34m\u001b[0m\u001b[0m\n\u001b[1;32m    591\u001b[0m                 \u001b[0mself\u001b[0m\u001b[0;34m.\u001b[0m\u001b[0m_timeout_occurred\u001b[0m \u001b[0;34m=\u001b[0m \u001b[0;32mTrue\u001b[0m\u001b[0;34m\u001b[0m\u001b[0;34m\u001b[0m\u001b[0m\n",
      "\u001b[0;31mKeyboardInterrupt\u001b[0m: "
     ],
     "output_type": "error"
    }
   ],
   "source": [
    "teamSeasons_df = pd.DataFrame(\n",
    "    team.TeamSeasons(team_id='1610612741', league_id='00', season_type='Regular Season', per_mode='PerGame').info())\n",
    "print(teamSeasons_df)\n"
   ]
  },
  {
   "cell_type": "code",
   "execution_count": 30,
   "metadata": {
    "collapsed": true
   },
   "outputs": [
    {
     "name": "stdout",
     "output_type": "stream",
     "text": [
      "   LEAGUE_ID     TEAM_ID MIN_YEAR MAX_YEAR ABBREVIATION\n0         00  1610612737     1949     2019          ATL\n1         00  1610612738     1946     2019          BOS\n2         00  1610612739     1970     2019          CLE\n3         00  1610612740     2002     2019          NOP\n4         00  1610612741     1966     2019          CHI\n5         00  1610612742     1980     2019          DAL\n6         00  1610612743     1976     2019          DEN\n7         00  1610612744     1946     2019          GSW\n8         00  1610612745     1967     2019          HOU\n9         00  1610612746     1970     2019          LAC\n10        00  1610612747     1948     2019          LAL\n11        00  1610612748     1988     2019          MIA\n12        00  1610612749     1968     2019          MIL\n13        00  1610612750     1989     2019          MIN\n14        00  1610612751     1976     2019          BKN\n15        00  1610612752     1946     2019          NYK\n16        00  1610612753     1989     2019          ORL\n17        00  1610612754     1976     2019          IND\n18        00  1610612755     1949     2019          PHI\n19        00  1610612756     1968     2019          PHX\n20        00  1610612757     1970     2019          POR\n21        00  1610612758     1948     2019          SAC\n22        00  1610612759     1976     2019          SAS\n23        00  1610612760     1967     2019          OKC\n24        00  1610612761     1995     2019          TOR\n25        00  1610612762     1974     2019          UTA\n26        00  1610612763     1995     2019          MEM\n27        00  1610612764     1961     2019          WAS\n28        00  1610612765     1948     2019          DET\n29        00  1610612766     1988     2019          CHA\n30        00  1610610029     1948     1948         None\n31        00  1610610025     1946     1949         None\n32        00  1610610034     1946     1949         None\n33        00  1610610036     1946     1950         None\n34        00  1610610024     1947     1954         None\n35        00  1610610027     1949     1949         None\n36        00  1610610030     1949     1952         None\n37        00  1610610033     1949     1949         None\n38        00  1610610031     1946     1946         None\n39        00  1610610037     1949     1949         None\n40        00  1610610023     1949     1949         None\n41        00  1610610026     1946     1946         None\n42        00  1610610028     1946     1946         None\n43        00  1610610032     1946     1948         None\n44        00  1610610035     1946     1946         None\n"
     ]
    }
   ],
   "source": [
    "TeamList_df = pd.DataFrame(team.TeamList().info())\n",
    "print(TeamList_df)"
   ]
  },
  {
   "cell_type": "code",
   "execution_count": null,
   "metadata": {},
   "outputs": [],
   "source": []
  }
 ],
 "metadata": {
  "kernelspec": {
   "display_name": "Python 2",
   "language": "python",
   "name": "python2"
  },
  "language_info": {
   "codemirror_mode": {
    "name": "ipython",
    "version": 2
   },
   "file_extension": ".py",
   "mimetype": "text/x-python",
   "name": "python",
   "nbconvert_exporter": "python",
   "pygments_lexer": "ipython2",
   "version": "2.7.6"
  }
 },
 "nbformat": 4,
 "nbformat_minor": 0
}
